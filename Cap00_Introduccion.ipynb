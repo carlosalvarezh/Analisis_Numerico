{
 "cells": [
  {
   "cell_type": "markdown",
   "metadata": {},
   "source": [
    "<p float=\"center\">\n",
    "  <img src=\"https://github.com/carlosalvarezh/Analisis_Numerico/blob/master/images/C00_Img00_logo.png?raw=true\" width=\"350\" />\n",
    "</p>\n",
    "<h1 align=\"center\">ST0256 - Análisis Numérico</h1>\n",
    "<h1 align=\"center\">Introducción</h1>\n",
    "<h1 align=\"center\">2021/01</h1>\n",
    "<h1 align=\"center\">MEDELLÍN - COLOMBIA </h1>"
   ]
  },
  {
   "cell_type": "markdown",
   "metadata": {},
   "source": [
    "<table>\n",
    " <tr align=left><td><img align=left src=\"./images/CC-BY.png\">\n",
    " <td>Text provided under a Creative Commons Attribution license, CC-BY. All code is made available under the FSF-approved MIT license.(c) Carlos Alberto Alvarez Henao</td>\n",
    "</table>"
   ]
  },
  {
   "cell_type": "markdown",
   "metadata": {},
   "source": [
    "*** \n",
    "\n",
    "***Docente:*** Carlos Alberto Álvarez Henao, I.C. D.Sc.\n",
    "\n",
    "***e-mail:*** calvar52@eafit.edu.co\n",
    "\n",
    "***skype:*** carlos.alberto.alvarez.henao\n",
    "\n",
    "***Herramienta:*** [Jupyter](http://jupyter.org/)\n",
    "\n",
    "***Kernel:*** Python 3.8\n",
    "\n",
    "\n",
    "***"
   ]
  },
  {
   "cell_type": "markdown",
   "metadata": {},
   "source": [
    "<a id='TOC'></a>"
   ]
  },
  {
   "cell_type": "markdown",
   "metadata": {
    "toc": true
   },
   "source": [
    "<h1>Table of Contents<span class=\"tocSkip\"></span></h1>\n",
    "<div class=\"toc\"><ul class=\"toc-item\"><li><span><a href=\"#Motivación\" data-toc-modified-id=\"Motivación-1\"><span class=\"toc-item-num\">1&nbsp;&nbsp;</span>Motivación</a></span></li><li><span><a href=\"#Modelo-matemático-y-computacional\" data-toc-modified-id=\"Modelo-matemático-y-computacional-2\"><span class=\"toc-item-num\">2&nbsp;&nbsp;</span>Modelo matemático y computacional</a></span><ul class=\"toc-item\"><li><span><a href=\"#Método-Científico\" data-toc-modified-id=\"Método-Científico-2.1\"><span class=\"toc-item-num\">2.1&nbsp;&nbsp;</span>Método Científico</a></span></li><li><span><a href=\"#Modelo\" data-toc-modified-id=\"Modelo-2.2\"><span class=\"toc-item-num\">2.2&nbsp;&nbsp;</span>Modelo</a></span></li><li><span><a href=\"#Modelos-matemáticos-y-computacionales\" data-toc-modified-id=\"Modelos-matemáticos-y-computacionales-2.3\"><span class=\"toc-item-num\">2.3&nbsp;&nbsp;</span>Modelos matemáticos y computacionales</a></span></li><li><span><a href=\"#Estrategia-general\" data-toc-modified-id=\"Estrategia-general-2.4\"><span class=\"toc-item-num\">2.4&nbsp;&nbsp;</span>Estrategia general</a></span></li><li><span><a href=\"#Experimental-vs-Simulado\" data-toc-modified-id=\"Experimental-vs-Simulado-2.5\"><span class=\"toc-item-num\">2.5&nbsp;&nbsp;</span>Experimental vs Simulado</a></span></li><li><span><a href=\"#Conclusión\" data-toc-modified-id=\"Conclusión-2.6\"><span class=\"toc-item-num\">2.6&nbsp;&nbsp;</span>Conclusión</a></span></li><li><span><a href=\"#Ejemplo\" data-toc-modified-id=\"Ejemplo-2.7\"><span class=\"toc-item-num\">2.7&nbsp;&nbsp;</span>Ejemplo</a></span></li></ul></li><li><span><a href=\"#Proceso-de-simulación\" data-toc-modified-id=\"Proceso-de-simulación-3\"><span class=\"toc-item-num\">3&nbsp;&nbsp;</span>Proceso de simulación</a></span><ul class=\"toc-item\"><li><span><a href=\"#¿Como-se-hacen-las-simulaciones?\" data-toc-modified-id=\"¿Como-se-hacen-las-simulaciones?-3.1\"><span class=\"toc-item-num\">3.1&nbsp;&nbsp;</span>¿Como se hacen las simulaciones?</a></span></li><li><span><a href=\"#Proceso-de-análisis\" data-toc-modified-id=\"Proceso-de-análisis-3.2\"><span class=\"toc-item-num\">3.2&nbsp;&nbsp;</span>Proceso de análisis</a></span></li><li><span><a href=\"#Estrategia-de-solución-iterativa\" data-toc-modified-id=\"Estrategia-de-solución-iterativa-3.3\"><span class=\"toc-item-num\">3.3&nbsp;&nbsp;</span>Estrategia de solución iterativa</a></span></li><li><span><a href=\"#Tiempo-de-cómputo\" data-toc-modified-id=\"Tiempo-de-cómputo-3.4\"><span class=\"toc-item-num\">3.4&nbsp;&nbsp;</span>Tiempo de cómputo</a></span></li><li><span><a href=\"#Incertidumbre-y-error\" data-toc-modified-id=\"Incertidumbre-y-error-3.5\"><span class=\"toc-item-num\">3.5&nbsp;&nbsp;</span>Incertidumbre y error</a></span></li><li><span><a href=\"#Clasificación-de-errores\" data-toc-modified-id=\"Clasificación-de-errores-3.6\"><span class=\"toc-item-num\">3.6&nbsp;&nbsp;</span>Clasificación de errores</a></span></li><li><span><a href=\"#Verificación-del-código\" data-toc-modified-id=\"Verificación-del-código-3.7\"><span class=\"toc-item-num\">3.7&nbsp;&nbsp;</span>Verificación del código</a></span></li><li><span><a href=\"#Validación-del-modelo\" data-toc-modified-id=\"Validación-del-modelo-3.8\"><span class=\"toc-item-num\">3.8&nbsp;&nbsp;</span>Validación del modelo</a></span></li></ul></li></ul></div>"
   ]
  },
  {
   "cell_type": "markdown",
   "metadata": {},
   "source": [
    "<p float=\"center\">\n",
    "  <img src=\"https://github.com/carlosalvarezh/Analisis_Numerico/blob/master/images/C00_Img01_Intro.PNG?raw=true\" width=\"500\" />\n",
    "</p>\n"
   ]
  },
  {
   "cell_type": "markdown",
   "metadata": {},
   "source": [
    "## Motivación"
   ]
  },
  {
   "cell_type": "markdown",
   "metadata": {},
   "source": [
    "Deseamos desarrollar las siguientes operaciones aritméticas: \n",
    "\n",
    "- $2+2$\n",
    "\n",
    "- $4 \\times 4$\n",
    "\n",
    "- $\\left(\\sqrt{3} \\right )^2$\n",
    "\n",
    "desde un punto de vista analítico, las soluciones exactas (a mano y en papel?) son\n",
    "\n",
    "- $2+2 = 4$\n",
    "\n",
    "- $4 \\times 4 = 16$\n",
    "\n",
    "- $\\left(\\sqrt{3} \\right )^2 = 3$\n",
    "\n",
    "pero veamos qué sucede cuando realizamos las mismas operaciones empleando un dispositivo electrónico (calculadora, computador, etc)"
   ]
  },
  {
   "cell_type": "code",
   "execution_count": null,
   "metadata": {},
   "outputs": [],
   "source": [
    "a = 2 + 2\n",
    "b = 4 * 4\n",
    "c = (3**(1/2))**2"
   ]
  },
  {
   "cell_type": "markdown",
   "metadata": {},
   "source": [
    "preguntemos al computador si los resultados obtenidos en los cálculos son los esperados"
   ]
  },
  {
   "cell_type": "code",
   "execution_count": null,
   "metadata": {},
   "outputs": [],
   "source": [
    "a == 4"
   ]
  },
  {
   "cell_type": "code",
   "execution_count": null,
   "metadata": {},
   "outputs": [],
   "source": [
    "b == 16"
   ]
  },
  {
   "cell_type": "code",
   "execution_count": null,
   "metadata": {},
   "outputs": [],
   "source": [
    "c == 3"
   ]
  },
  {
   "cell_type": "markdown",
   "metadata": {},
   "source": [
    "`False`? Qué sucedió? por qué el resultado de comparar el valor que entendemos como verdadero y el obtenido empleando un dispositivo electrónico (calculadora) es falso? Veamos entonces cuál es el resultado que arrojó el cálculo:"
   ]
  },
  {
   "cell_type": "code",
   "execution_count": null,
   "metadata": {},
   "outputs": [],
   "source": [
    "print(c)"
   ]
  },
  {
   "cell_type": "markdown",
   "metadata": {},
   "source": [
    "Efectivamente, se oberva que el valor calculado no es el esperado. Puede ser que, para muchas de las situaciones cotidianas, este valor no sea percibido como una diferencia apreciable (\"error\") y simplemente se asuma que ambos valores son iguales (\"redondeo\"). Pero, y si esta operación la tuviera qué repetir muchas veces? qué sucede con ese pequeño errror? Será que se puede simplemente despreciar? qué sucede para cálculos más complejos? se podría determinar la cantidad de error en los cálculos numéricos realizados a través de un computador? este error aumenta sin control? hasta cuándo se podrá decir que dos cantidades son \"iguales\"? El errror es debido a qué? una mala implementación de la operación aritmética? el lenguaje empleado para realizar el cálculo? La máquina? la formulación matemática? humano?\n",
    "\n",
    "Estas, y muchas otras, preguntas son las que se pretenden resolver en el curso de Análisis Numérico."
   ]
  },
  {
   "cell_type": "markdown",
   "metadata": {},
   "source": [
    "[Volver a la Tabla de Contenido](#TOC)"
   ]
  },
  {
   "cell_type": "markdown",
   "metadata": {},
   "source": [
    "## Modelo matemático y computacional"
   ]
  },
  {
   "cell_type": "markdown",
   "metadata": {},
   "source": [
    "Uno de los grandes desafíos del ser humano es tratar de predecir lo que va a suceder en la naturaleza. Predecir la ocurrencia de un sismo, de una lluvia torrencial, de un deslizamiento. También es de interés determinar el comportamiento de un sistema en general. Por ejemplo, ante unos datos de entrada algo que sucede en la transformación de esos datos y la respuesta obtenida."
   ]
  },
  {
   "cell_type": "markdown",
   "metadata": {},
   "source": [
    "<p float=\"center\">\n",
    "  <img src=\"https://github.com/carlosalvarezh/Analisis_Numerico/blob/master/images/C00_Img02_Sistema.PNG?raw=true\" width=\"350\" />\n",
    "</p>\n"
   ]
  },
  {
   "cell_type": "markdown",
   "metadata": {},
   "source": [
    "$$f(x) = x^2$$"
   ]
  },
  {
   "cell_type": "markdown",
   "metadata": {},
   "source": [
    "$$x = 2$$"
   ]
  },
  {
   "cell_type": "markdown",
   "metadata": {},
   "source": [
    "$$f(2)= 2^2=4$$"
   ]
  },
  {
   "cell_type": "markdown",
   "metadata": {},
   "source": [
    "[Volver a la Tabla de Contenido](#TOC)"
   ]
  },
  {
   "cell_type": "markdown",
   "metadata": {},
   "source": [
    "### Método Científico"
   ]
  },
  {
   "cell_type": "markdown",
   "metadata": {},
   "source": [
    "<p float=\"center\">\n",
    "  <img src=\"https://github.com/carlosalvarezh/Analisis_Numerico/blob/master/images/C00_Img03_MetodoCientifico.png?raw=true\" width=\"500\" />\n",
    "</p>\n"
   ]
  },
  {
   "cell_type": "markdown",
   "metadata": {},
   "source": [
    "La realización de la etapa de formulación de hipótesis buscando alcanzar cierta probabilidad de éxito debe basarse en la experiencia, con una gran cantidad de variados ejemplos, que permitan ilustrar el comportamiento del fenómeno que se estudia. En muchos casos, ésto se puede conseguir por observación directa y manipulación del fenómeno real, pero en muchos otros es éticamente desaconsejable o físicamente imposible (bien sea porque el fenómeno es inabarcable desde el punto de vista espacio-temporal, o porque trata sobre conceptos no manipulables). Es en estos casos donde se hace uso de [modelos](https://es.wikipedia.org/wiki/Modelo_cient%C3%ADfico) (científicos) que permitan reconstruir y probar hipótesis que de otra forma no se pueden afrontar.\n"
   ]
  },
  {
   "cell_type": "markdown",
   "metadata": {},
   "source": [
    "[Volver a la Tabla de Contenido](#TOC)"
   ]
  },
  {
   "cell_type": "markdown",
   "metadata": {},
   "source": [
    "### Modelo"
   ]
  },
  {
   "cell_type": "markdown",
   "metadata": {},
   "source": [
    "Aunque hay numerosas acepciones y definiciones de lo que se entiende por ***[modelo](https://es.wikipedia.org/wiki/Modelo_cient%C3%ADfico)***, se presentará una que se considera es lo suficientemente comprensible y completa para nuestros propósitos: \n",
    "\n",
    "\n",
    "> <strong><p style = \"font-family:georgia,garamond,serif;font-size:16px;font-style:italic;\">Un modelo científico es una representación abstracta, conceptual, gráfica o visual, física de fenómenos, sistemas o procesos a fin de analizar, describir, explicar, simular (en general, explorar, controlar y predecir) esos fenómenos o procesos</p></strong>\n",
    "\n",
    "\n",
    "\n",
    "En general, un buen modelo es aquel que se ajusta al fenómeno real que representa de forma que nos permite comprender mejor sus propiedades y ampliar así el conocimiento del mismo. "
   ]
  },
  {
   "cell_type": "markdown",
   "metadata": {},
   "source": [
    "<p float=\"center\">\n",
    "  <img src=\"https://github.com/carlosalvarezh/Analisis_Numerico/blob/master/images/C00_Img04_Modelo.png?raw=true\" width=\"500\" />\n",
    "</p>\n"
   ]
  },
  {
   "cell_type": "markdown",
   "metadata": {},
   "source": [
    "[Volver a la Tabla de Contenido](#TOC)"
   ]
  },
  {
   "cell_type": "markdown",
   "metadata": {},
   "source": [
    "### Modelos matemáticos y computacionales"
   ]
  },
  {
   "cell_type": "markdown",
   "metadata": {},
   "source": [
    "- ***[Modelo matemático](https://es.wikipedia.org/wiki/Modelo_matem%C3%A1tico \"Modelo matemático\"):*** Colección de construcciones matemáticas que proporcionan abstracciones de un evento físico consistente con una teoría científica propuesta para cubrir ese evento \n",
    "\n",
    "$$\\text{Variable dependiente} = f \\left( \\text{Variables independientes, parámetros, funciones de fuerza,} \\ldots\\right)$$"
   ]
  },
  {
   "cell_type": "markdown",
   "metadata": {},
   "source": [
    "- ***[Modelo computacional](https://es.wikipedia.org/wiki/Modelo_computacional \"Modelo computacional\"):*** Versión discreta de un modelo matemático que ha sido diseñado para ser implementado en una máquina. "
   ]
  },
  {
   "cell_type": "markdown",
   "metadata": {},
   "source": [
    "$$\\int \\limits_a^b f(x)dx$$"
   ]
  },
  {
   "cell_type": "markdown",
   "metadata": {},
   "source": [
    "[Volver a la Tabla de Contenido](#TOC)"
   ]
  },
  {
   "cell_type": "markdown",
   "metadata": {},
   "source": [
    "### Estrategia general"
   ]
  },
  {
   "cell_type": "markdown",
   "metadata": {},
   "source": [
    "$$\\text{Reemplazar un problema difícil por uno más fácil que tenga una solución equivalente o aproximada}$$\n",
    "\n",
    "\n",
    "- Procesos infinitos por procesos finitos:\n",
    "\n",
    "   - Integrales por series;   \n",
    "\n",
    "   - Derivadas por diferencias finitas;\n",
    "\n",
    "\n",
    "- Funciones complejas por funciones simples (p.Ej. Polinomios)\n",
    "\n",
    "\n",
    "- Problemas no lineales por lineales\n",
    "\n",
    "\n",
    "- Ecuaciones diferenciales por algebraicas\n",
    "\n",
    "\n",
    "- Sistemas de alto orden por sistemas de bajo orden "
   ]
  },
  {
   "cell_type": "markdown",
   "metadata": {},
   "source": [
    "<p float=\"center\">\n",
    "  <img src=\"https://github.com/carlosalvarezh/Analisis_Numerico/blob/master/images/C00_Img06_ProcesoSimulacion02.PNG?raw=true\" width=\"500\" />\n",
    "</p>\n"
   ]
  },
  {
   "cell_type": "markdown",
   "metadata": {},
   "source": [
    "[Volver a la Tabla de Contenido](#TOC)"
   ]
  },
  {
   "cell_type": "markdown",
   "metadata": {},
   "source": [
    "### Experimental vs Simulado"
   ]
  },
  {
   "cell_type": "markdown",
   "metadata": {},
   "source": [
    "<p float=\"center\">\n",
    "  <img src=\"https://github.com/carlosalvarezh/Analisis_Numerico/blob/master/images/C00_Img05_ProcesoSimulacion01.PNG?raw=true\" width=\"500\" />\n",
    "</p>\n"
   ]
  },
  {
   "cell_type": "markdown",
   "metadata": {},
   "source": [
    "| Experimentos | Simulaciones\n",
    "|:----------------------------------- |:--------------------------------------------- |\n",
    "| Descripción cuantitativa de los fenómenos mediante mediciones: | Predicción cuantitativa de fenómenos utilizando software|\n",
    "| Para una cantidad a la vez | Para todas las cantidades deseadas |\n",
    "| En un número limitado de puntos e instantes de tiempo | Con alta resolución en espacio y tiempo |\n",
    "| Para un modelo a escala de laboratorio | Para el dominio real |\n",
    "| Para una gama limitada de problemas y condiciones de funcionamiento | Para prácticamente cualquier problema y condiciones de funcionamiento realistas.\n",
    "| | |\n",
    "| ***Fuentes de error:*** errores de medición, perturbaciones en los instrumetnos de medida, mala calibración, etc. | ***Fuentes de error:*** modelado, discretización, iteración, implementación "
   ]
  },
  {
   "cell_type": "markdown",
   "metadata": {},
   "source": [
    "Como regla general, no se pretende reemplazar definitivamente las mediciones, sin embargo, sí se espera reducir la cantidad de experimentos físicos y reducir los costos asociados a los mismos. "
   ]
  },
  {
   "cell_type": "markdown",
   "metadata": {},
   "source": [
    "| Experimentos | Simulaciones\n",
    "|:--------------------------|:-----------|\n",
    "| Caro | Barato (más) |\n",
    "| Lento | Rápido (más) |\n",
    "| Secuencial | Paralelo |\n",
    "| Un solo propósito | Multiusos | "
   ]
  },
  {
   "cell_type": "markdown",
   "metadata": {},
   "source": [
    "[Volver a la Tabla de Contenido](#TOC)"
   ]
  },
  {
   "cell_type": "markdown",
   "metadata": {},
   "source": [
    "### Conclusión"
   ]
  },
  {
   "cell_type": "markdown",
   "metadata": {},
   "source": [
    "Los resultados de una simulación nunca son 100% confiables porque:\n",
    "\n",
    "\n",
    "- Los datos de entrada pueden implicar demasiadas suposiciones o imprecisiones;\n",
    "\n",
    "\n",
    "- El modelo matemático del problema en cuestión puede ser inadecuado;\n",
    "\n",
    "\n",
    "- La precisión de los resultados está limitada por la potencia informática disponible. "
   ]
  },
  {
   "cell_type": "markdown",
   "metadata": {},
   "source": [
    "[Volver a la Tabla de Contenido](#TOC)"
   ]
  },
  {
   "cell_type": "markdown",
   "metadata": {},
   "source": [
    "### Ejemplo"
   ]
  },
  {
   "cell_type": "markdown",
   "metadata": {},
   "source": [
    "***Ejemplo 1.1 Chapra, 5a Ed.*** Un paracaidista con una masa $m = 68.1 kg$ salta de un globo aerostático fijo. calcule la velocidad antes de que se abra el paracaídas. Considere que el coeficiente de resistencia es $c = 12.5 kg/s$.\n",
    "\n",
    "\n",
    "- ***[Diagrama de cuerpo libre](https://es.wikipedia.org/wiki/Diagrama_de_cuerpo_libre \"Diagrama de cuerpo libre\"):*** Representación gráfica simplificada de la realidad física\n",
    "\n",
    "<p float=\"center\">\n",
    "  <img src=\"https://github.com/carlosalvarezh/Analisis_Numerico/blob/master/images/C00_Img07_ejemplo01.PNG?raw=true\" width=\"150\" />\n",
    "</p>\n",
    "\n",
    "De la [Segunda Ley de Newton](https://es.wikipedia.org/wiki/Leyes_de_Newton \"Segunda ley de Newton\"):\n",
    "\n",
    "$$\\vec{F}  = m  \\vec{a}$$\n",
    "\n",
    "Claramente $\\vec{a}$ representa la tasa de cambio de la velocidad, $\\vec{v}$, respecto al tiempo, $t$, y despejando se llega a.\n",
    "\n",
    "$$\\frac{d\\vec{v}}{dt} = \\frac{\\vec{F}}{m}$$\n",
    "\n",
    "Del diagrama de cuerpo libre las fuerzas involucradas son $F_D$, que es la fuerza hacia abajo debido a la atracción de la gravedad, y $F_v$ que es la fuerza hacia arriba debida a la resistencia al aire.\n",
    "\n",
    "$$\\vec{F} = \\vec{F_D} + \\vec{F_v}$$\n",
    "\n",
    "$$\\vec{F_D} = m  \\vec{g}$$\n",
    "\n",
    "$$\\vec{F_v} = -c  \\vec{v}$$\n",
    "\n",
    "reemplazando\n",
    "\n",
    "$$\\frac{d\\vec{v}}{dt} = \\frac{(m\\vec{g} - c\\vec{v})}{m}$$\n",
    "\n",
    "simplificando\n",
    "\n",
    "\n",
    "$$\\frac{d\\vec{v}}{dt} = \\vec{g} - c \\frac{\\vec{v}}{m}$$\n",
    "\n",
    "$EDO$ que relaciona la aceleración de un cuerpo que cae con las fuerzas que actúan sobre él\n"
   ]
  },
  {
   "cell_type": "markdown",
   "metadata": {},
   "source": [
    "- ***Solución analítica:*** Si el objeto se encuentra inicialmente en reposo se establece la siguiente condición inicial $\\left(t = 0, v = 0\\right)$, y resolviendo la $EDO$ por los métodos clásicos se llega a:\n",
    "\n",
    "$$v(t) = \\frac{m\\vec{g}}{c}\\left(1 - e^{-\\frac{c}{m}t}\\right)$$\n",
    "\n",
    "y reemplazando los valores dados en el enunciado se tiene\n",
    "\n",
    "$$v(t) = \\frac{9.8 \\times 68.1}{12.5}\\left(1 - e^{-\\frac{12.5}{68.1}t}\\right)$$\n",
    "\n",
    "obsérvese que la única incógnita es el tiempo. Dando valores a $t$, se puede obtener la velocidad en dicho instante de tiempo de forma inmediata. \n",
    "\n",
    "\n",
    "Ahora vamos a implementar esta ecuación en un lenguaje de programación para poder realizar los cálculos de forma automática en un computador:"
   ]
  },
  {
   "cell_type": "code",
   "execution_count": 1,
   "metadata": {},
   "outputs": [],
   "source": [
    "import numpy as np\n",
    "import matplotlib.pyplot as plt"
   ]
  },
  {
   "cell_type": "code",
   "execution_count": 2,
   "metadata": {},
   "outputs": [],
   "source": [
    "# Constantes\n",
    "\n",
    "m = 68.1\n",
    "c = 12.5\n",
    "g = 9.81\n",
    "dt = .90\n",
    "n = 100\n",
    "t = np.arange(0.0, n+1, dt)\n",
    "\n",
    "cte1 = m / c\n",
    "cte2 = 1.0 / cte1"
   ]
  },
  {
   "cell_type": "code",
   "execution_count": 3,
   "metadata": {},
   "outputs": [
    {
     "data": {
      "image/png": "[encoded data removed]",
      "text/plain": [
       "<Figure size 432x288 with 1 Axes>"
      ]
     },
     "metadata": {
      "needs_background": "light"
     },
     "output_type": "display_data"
    }
   ],
   "source": [
    "# Gráfica de la solución exacta:\n",
    "\n",
    "def f(t,cte1,cte2):\n",
    "    return g*cte1*(1-np.exp(-cte2*t))\n",
    "\n",
    "plt.xlabel (r\"t\")\n",
    "plt.ylabel (r'$v_{ex}(t)$')\n",
    "plt.title (r'$t$ vs $v_{ex}(t)$')\n",
    "plt.plot(t, f(t,cte1,cte2))\n",
    "plt.grid(True)\n",
    "plt.show()"
   ]
  },
  {
   "cell_type": "markdown",
   "metadata": {},
   "source": [
    "- ***Solución numérica (Discreta):***\n",
    "\n",
    "aproximando la tasa del cambio de la velocidad respecto al tiempo\n",
    "\n",
    "$$\\frac{dv}{dt} \\approx \\frac{\\Delta v}{\\Delta t}=\\frac{v(t_{i+1})-v(t_i)}{t_{i+1}-t_i}$$\n",
    "\n",
    "del calculo\n",
    "\n",
    "$$\\frac{dv}{dt} = \\lim_{\\Delta t \\rightarrow  0} \\frac{\\Delta v}{\\Delta t}$$\n",
    "\n",
    "esta ecuación es llamada *Diferencias finitas divididas*, y es una aproximación de la derivada en el tiempo $t_i$.\n",
    "\n",
    "Sustituyendo en la ecuación aproximada,\n",
    "\n",
    "$$\\frac{v(t_{i+1})-v(t_i)}{t_{i+1}-t_i}=g-\\frac{c}{m}v(t_i)$$\n",
    "\n",
    "reorganizando términos\n",
    "\n",
    "$$v(t_{i+1})=v(t_{i})+\\left(g-\\frac{c}{m}v(t_{i})\\right)\\left(t_{i+1}-t_{i}\\right)$$\n",
    "\n",
    "El significado de esta ecuación puede resumirse como:\n",
    "\n",
    "$$\\text{Nuevo valor = Valor anterior + pendiente} \\times \\text{paso de tiempo}$$\n",
    "\n",
    "Al comienzo de los cálculos ($ t = 0 $), la velocidad del paracaídas es igual a cero ($ 0 $). Con esta información y los valores de los parámetros dados, la última ecuación se puede utilizar para calcular la velocidad en cada uno de los siguientes tiempos. \n",
    "\n",
    "Ahora vamos a implementar esta ecuación en un lenguaje de programación para poder realizar los cálculos de forma automática en un computador:"
   ]
  },
  {
   "cell_type": "code",
   "execution_count": 4,
   "metadata": {},
   "outputs": [
    {
     "ename": "ValueError",
     "evalue": "x and y must have same first dimension, but have shapes (113,) and (101,)",
     "output_type": "error",
     "traceback": [
      "\u001b[1;31m---------------------------------------------------------------------------\u001b[0m",
      "\u001b[1;31mValueError\u001b[0m                                Traceback (most recent call last)",
      "\u001b[1;32m<ipython-input-4-172acb043190>\u001b[0m in \u001b[0;36m<module>\u001b[1;34m\u001b[0m\n\u001b[0;32m      9\u001b[0m \u001b[0mplt\u001b[0m\u001b[1;33m.\u001b[0m\u001b[0mylabel\u001b[0m \u001b[1;33m(\u001b[0m\u001b[1;34mr\"$v_{approx}$(t)\"\u001b[0m\u001b[1;33m)\u001b[0m\u001b[1;33m\u001b[0m\u001b[1;33m\u001b[0m\u001b[0m\n\u001b[0;32m     10\u001b[0m \u001b[0mplt\u001b[0m\u001b[1;33m.\u001b[0m\u001b[0mtitle\u001b[0m \u001b[1;33m(\u001b[0m\u001b[1;34mr\"$t$ vs $v_{approx}$(t)\"\u001b[0m\u001b[1;33m)\u001b[0m\u001b[1;33m\u001b[0m\u001b[1;33m\u001b[0m\u001b[0m\n\u001b[1;32m---> 11\u001b[1;33m \u001b[0mplt\u001b[0m\u001b[1;33m.\u001b[0m\u001b[0mplot\u001b[0m \u001b[1;33m(\u001b[0m\u001b[0mt\u001b[0m\u001b[1;33m,\u001b[0m \u001b[0mvap\u001b[0m\u001b[1;33m)\u001b[0m\u001b[1;33m\u001b[0m\u001b[1;33m\u001b[0m\u001b[0m\n\u001b[0m\u001b[0;32m     12\u001b[0m \u001b[0mplt\u001b[0m\u001b[1;33m.\u001b[0m\u001b[0mgrid\u001b[0m\u001b[1;33m(\u001b[0m\u001b[1;32mTrue\u001b[0m\u001b[1;33m)\u001b[0m\u001b[1;33m\u001b[0m\u001b[1;33m\u001b[0m\u001b[0m\n\u001b[0;32m     13\u001b[0m \u001b[0mplt\u001b[0m\u001b[1;33m.\u001b[0m\u001b[0mshow\u001b[0m\u001b[1;33m(\u001b[0m\u001b[1;33m)\u001b[0m\u001b[1;33m\u001b[0m\u001b[1;33m\u001b[0m\u001b[0m\n",
      "\u001b[1;32m~\\Anaconda3\\lib\\site-packages\\matplotlib\\pyplot.py\u001b[0m in \u001b[0;36mplot\u001b[1;34m(scalex, scaley, data, *args, **kwargs)\u001b[0m\n\u001b[0;32m   2761\u001b[0m     return gca().plot(\n\u001b[0;32m   2762\u001b[0m         *args, scalex=scalex, scaley=scaley, **({\"data\": data} if data\n\u001b[1;32m-> 2763\u001b[1;33m         is not None else {}), **kwargs)\n\u001b[0m\u001b[0;32m   2764\u001b[0m \u001b[1;33m\u001b[0m\u001b[0m\n\u001b[0;32m   2765\u001b[0m \u001b[1;33m\u001b[0m\u001b[0m\n",
      "\u001b[1;32m~\\Anaconda3\\lib\\site-packages\\matplotlib\\axes\\_axes.py\u001b[0m in \u001b[0;36mplot\u001b[1;34m(self, scalex, scaley, data, *args, **kwargs)\u001b[0m\n\u001b[0;32m   1645\u001b[0m         \"\"\"\n\u001b[0;32m   1646\u001b[0m         \u001b[0mkwargs\u001b[0m \u001b[1;33m=\u001b[0m \u001b[0mcbook\u001b[0m\u001b[1;33m.\u001b[0m\u001b[0mnormalize_kwargs\u001b[0m\u001b[1;33m(\u001b[0m\u001b[0mkwargs\u001b[0m\u001b[1;33m,\u001b[0m \u001b[0mmlines\u001b[0m\u001b[1;33m.\u001b[0m\u001b[0mLine2D\u001b[0m\u001b[1;33m)\u001b[0m\u001b[1;33m\u001b[0m\u001b[1;33m\u001b[0m\u001b[0m\n\u001b[1;32m-> 1647\u001b[1;33m         \u001b[0mlines\u001b[0m \u001b[1;33m=\u001b[0m \u001b[1;33m[\u001b[0m\u001b[1;33m*\u001b[0m\u001b[0mself\u001b[0m\u001b[1;33m.\u001b[0m\u001b[0m_get_lines\u001b[0m\u001b[1;33m(\u001b[0m\u001b[1;33m*\u001b[0m\u001b[0margs\u001b[0m\u001b[1;33m,\u001b[0m \u001b[0mdata\u001b[0m\u001b[1;33m=\u001b[0m\u001b[0mdata\u001b[0m\u001b[1;33m,\u001b[0m \u001b[1;33m**\u001b[0m\u001b[0mkwargs\u001b[0m\u001b[1;33m)\u001b[0m\u001b[1;33m]\u001b[0m\u001b[1;33m\u001b[0m\u001b[1;33m\u001b[0m\u001b[0m\n\u001b[0m\u001b[0;32m   1648\u001b[0m         \u001b[1;32mfor\u001b[0m \u001b[0mline\u001b[0m \u001b[1;32min\u001b[0m \u001b[0mlines\u001b[0m\u001b[1;33m:\u001b[0m\u001b[1;33m\u001b[0m\u001b[1;33m\u001b[0m\u001b[0m\n\u001b[0;32m   1649\u001b[0m             \u001b[0mself\u001b[0m\u001b[1;33m.\u001b[0m\u001b[0madd_line\u001b[0m\u001b[1;33m(\u001b[0m\u001b[0mline\u001b[0m\u001b[1;33m)\u001b[0m\u001b[1;33m\u001b[0m\u001b[1;33m\u001b[0m\u001b[0m\n",
      "\u001b[1;32m~\\Anaconda3\\lib\\site-packages\\matplotlib\\axes\\_base.py\u001b[0m in \u001b[0;36m__call__\u001b[1;34m(self, *args, **kwargs)\u001b[0m\n\u001b[0;32m    214\u001b[0m                 \u001b[0mthis\u001b[0m \u001b[1;33m+=\u001b[0m \u001b[0margs\u001b[0m\u001b[1;33m[\u001b[0m\u001b[1;36m0\u001b[0m\u001b[1;33m]\u001b[0m\u001b[1;33m,\u001b[0m\u001b[1;33m\u001b[0m\u001b[1;33m\u001b[0m\u001b[0m\n\u001b[0;32m    215\u001b[0m                 \u001b[0margs\u001b[0m \u001b[1;33m=\u001b[0m \u001b[0margs\u001b[0m\u001b[1;33m[\u001b[0m\u001b[1;36m1\u001b[0m\u001b[1;33m:\u001b[0m\u001b[1;33m]\u001b[0m\u001b[1;33m\u001b[0m\u001b[1;33m\u001b[0m\u001b[0m\n\u001b[1;32m--> 216\u001b[1;33m             \u001b[1;32myield\u001b[0m \u001b[1;32mfrom\u001b[0m \u001b[0mself\u001b[0m\u001b[1;33m.\u001b[0m\u001b[0m_plot_args\u001b[0m\u001b[1;33m(\u001b[0m\u001b[0mthis\u001b[0m\u001b[1;33m,\u001b[0m \u001b[0mkwargs\u001b[0m\u001b[1;33m)\u001b[0m\u001b[1;33m\u001b[0m\u001b[1;33m\u001b[0m\u001b[0m\n\u001b[0m\u001b[0;32m    217\u001b[0m \u001b[1;33m\u001b[0m\u001b[0m\n\u001b[0;32m    218\u001b[0m     \u001b[1;32mdef\u001b[0m \u001b[0mget_next_color\u001b[0m\u001b[1;33m(\u001b[0m\u001b[0mself\u001b[0m\u001b[1;33m)\u001b[0m\u001b[1;33m:\u001b[0m\u001b[1;33m\u001b[0m\u001b[1;33m\u001b[0m\u001b[0m\n",
      "\u001b[1;32m~\\Anaconda3\\lib\\site-packages\\matplotlib\\axes\\_base.py\u001b[0m in \u001b[0;36m_plot_args\u001b[1;34m(self, tup, kwargs)\u001b[0m\n\u001b[0;32m    340\u001b[0m \u001b[1;33m\u001b[0m\u001b[0m\n\u001b[0;32m    341\u001b[0m         \u001b[1;32mif\u001b[0m \u001b[0mx\u001b[0m\u001b[1;33m.\u001b[0m\u001b[0mshape\u001b[0m\u001b[1;33m[\u001b[0m\u001b[1;36m0\u001b[0m\u001b[1;33m]\u001b[0m \u001b[1;33m!=\u001b[0m \u001b[0my\u001b[0m\u001b[1;33m.\u001b[0m\u001b[0mshape\u001b[0m\u001b[1;33m[\u001b[0m\u001b[1;36m0\u001b[0m\u001b[1;33m]\u001b[0m\u001b[1;33m:\u001b[0m\u001b[1;33m\u001b[0m\u001b[1;33m\u001b[0m\u001b[0m\n\u001b[1;32m--> 342\u001b[1;33m             raise ValueError(f\"x and y must have same first dimension, but \"\n\u001b[0m\u001b[0;32m    343\u001b[0m                              f\"have shapes {x.shape} and {y.shape}\")\n\u001b[0;32m    344\u001b[0m         \u001b[1;32mif\u001b[0m \u001b[0mx\u001b[0m\u001b[1;33m.\u001b[0m\u001b[0mndim\u001b[0m \u001b[1;33m>\u001b[0m \u001b[1;36m2\u001b[0m \u001b[1;32mor\u001b[0m \u001b[0my\u001b[0m\u001b[1;33m.\u001b[0m\u001b[0mndim\u001b[0m \u001b[1;33m>\u001b[0m \u001b[1;36m2\u001b[0m\u001b[1;33m:\u001b[0m\u001b[1;33m\u001b[0m\u001b[1;33m\u001b[0m\u001b[0m\n",
      "\u001b[1;31mValueError\u001b[0m: x and y must have same first dimension, but have shapes (113,) and (101,)"
     ]
    },
    {
     "data": {
      "image/png": "[encoded data removed]",
      "text/plain": [
       "<Figure size 432x288 with 1 Axes>"
      ]
     },
     "metadata": {
      "needs_background": "light"
     },
     "output_type": "display_data"
    }
   ],
   "source": [
    "#t = np.arange(0.0, n+1, dt)\n",
    "vap = np.zeros(n+1)\n",
    "#dt = t[1]-t[0]\n",
    "\n",
    "for i in range(1,n+1):\n",
    "    vap[i] = vap[i-1] + (g-cte2*vap[i-1])*dt\n",
    "\n",
    "plt.xlabel (r\"t\")\n",
    "plt.ylabel (r\"$v_{approx}$(t)\")\n",
    "plt.title (r\"$t$ vs $v_{approx}$(t)\")\n",
    "plt.plot (t, vap)\n",
    "plt.grid(True)\n",
    "plt.show()"
   ]
  },
  {
   "cell_type": "markdown",
   "metadata": {},
   "source": [
    "Una rápida inspección visual a las dos gráficas daría como resultado que son \"iguales\", pues no se observa (a simple vista) una diferencia sustancial entre las dos metodologías empleadas. Superpongamos ambas graficas para evaluar, visualmente, si hay o no diferencia:"
   ]
  },
  {
   "cell_type": "code",
   "execution_count": null,
   "metadata": {},
   "outputs": [],
   "source": [
    "plt.xlabel (r\"$t$\")\n",
    "plt.ylabel (r\"$v$\")\n",
    "plt.title (r\"$v_{Exact}$ vs $v_{approx}$\")\n",
    "plt.plot(t, f(t,cte1,cte2),'b', label='$v_{Exact}$')\n",
    "plt.plot(t, vap,'r', label='$v_{approx}$')\n",
    "plt.legend(loc='center right')\n",
    "plt.grid(True)\n",
    "plt.show()"
   ]
  },
  {
   "cell_type": "markdown",
   "metadata": {},
   "source": [
    "Comparando ambas soluciones se observa que efectivamente hay diferencia. En este curso revisaremos el por qué ocurren estas discrepancias y cómo implementar esquemas numéricos que intenten minimizarlas."
   ]
  },
  {
   "cell_type": "markdown",
   "metadata": {},
   "source": [
    "[Volver a la Tabla de Contenido](#TOC)"
   ]
  },
  {
   "cell_type": "markdown",
   "metadata": {},
   "source": [
    "## Proceso de simulación"
   ]
  },
  {
   "cell_type": "markdown",
   "metadata": {},
   "source": [
    "<p float=\"center\">\n",
    "  <img src=\"https://github.com/carlosalvarezh/Analisis_Numerico/blob/master/images/C00_Img08a_COVID19.gif?raw=true\" width=\"500\" />\n",
    "</p>\n"
   ]
  },
  {
   "cell_type": "markdown",
   "metadata": {},
   "source": [
    "### ¿Como se hacen las simulaciones?"
   ]
  },
  {
   "cell_type": "markdown",
   "metadata": {},
   "source": [
    "- Las simulaciones utilizan una computadora para resolver las ecuaciones matemáticas del problema en cuestión.\n",
    "\n",
    "\n",
    "- Los componentes principales de un ciclo de simulación computacional son los siguientes:\n",
    "\n",
    "   - El ser humano (analista) que indica el problema a resolver;\n",
    "\n",
    "   - Conocimientos científicos (modelos, métodos) expresados matemáticamente;\n",
    "\n",
    "   - El código computacional (software) que incorpora este conocimiento y proporciona instrucciones detalladas (algoritmos)\n",
    "\n",
    "   - El hardware que realiza los cálculos reales\n",
    "\n",
    "   - El ser humano que inspecciona e interpreta los resultados de la simulación\n",
    "\n",
    "\n",
    "- La simulacón computacional es un área de investigación altamente interdisciplinaria que se encuentra en la interfaz de la física, las matemáticas aplicadas y la informática. "
   ]
  },
  {
   "cell_type": "markdown",
   "metadata": {},
   "source": [
    "Garbage in, garbage out!"
   ]
  },
  {
   "cell_type": "markdown",
   "metadata": {},
   "source": [
    "[Volver a la Tabla de Contenido](#TOC)"
   ]
  },
  {
   "cell_type": "markdown",
   "metadata": {},
   "source": [
    "### Proceso de análisis"
   ]
  },
  {
   "cell_type": "markdown",
   "metadata": {},
   "source": [
    "- ***Enunciado del problema:*** información sobre el problema\n",
    "\n",
    "\n",
    "- ***Modelo matemático:*** $ IBVP = PDE + IC + BC $\n",
    "\n",
    "\n",
    "- ***Discretiazación espacio-temporal (generación de malla):*** nodos / celdas, instantes de tiempo\n",
    "\n",
    "  - ***Discretización del espacio:*** sistemas $ODE/DAE$ acoplados\n",
    "\n",
    "  - ***Discretización del tiempo:*** sistema algebraico $ [A] {x} = {b} $\n"
   ]
  },
  {
   "cell_type": "markdown",
   "metadata": {},
   "source": [
    "[Volver a la Tabla de Contenido](#TOC)"
   ]
  },
  {
   "cell_type": "markdown",
   "metadata": {},
   "source": [
    "### Estrategia de solución iterativa"
   ]
  },
  {
   "cell_type": "markdown",
   "metadata": {},
   "source": [
    "Las ecuaciones algebraicas no lineales acopladas deben resolverse iterativamente\n",
    "\n",
    "- ***iteraciones externas:*** los coeficientes del problema discreto se actualizan utilizando los valores de la solución de la iteración anterior para\n",
    "\n",
    "   - deshacerse de las no linealidades mediante un método similar al de *Newton*\n",
    "  \n",
    "   - resolver las ecuaciones que gobiernan de forma segregada\n",
    "\n",
    "\n",
    "- ***Iteraciones internas:*** la secuencia resultante de subproblemas lineales generalmente se resuelve mediante un método iterativo (gradientes conjugados, cuadrícula múltiple) porque los solucionadores directos (eliminación gaussiana) son prohibitivamente costosos\n",
    "\n",
    "\n",
    "- ***Criterios de convergencia:*** es necesario verificar los residuos, los cambios de solución relativa y otros indicadores para asegurarse de que las iteraciones converjan.\n",
    "\n",
    "\n",
    "Por regla general, los sistemas algebraicos a resolver son muy grandes (millones de incógnitas) pero producen [matrices dispersas](https://en.wikipedia.org/wiki/Sparse_matrix \"Sparse matrix\"), es decir, la mayoría de los coeficientes de la matriz son iguales a cero."
   ]
  },
  {
   "cell_type": "markdown",
   "metadata": {},
   "source": [
    "$$Ax=b$$"
   ]
  },
  {
   "cell_type": "markdown",
   "metadata": {},
   "source": [
    "[Volver a la Tabla de Contenido](#TOC)"
   ]
  },
  {
   "cell_type": "markdown",
   "metadata": {},
   "source": [
    "### Tiempo de cómputo"
   ]
  },
  {
   "cell_type": "markdown",
   "metadata": {},
   "source": [
    "<p float=\"center\">\n",
    "  <img src=\"https://github.com/carlosalvarezh/Analisis_Numerico/blob/master/images/C00_Img09_HPC.jpeg?raw=true\" width=\"750\" />\n",
    "</p>\n",
    "\n",
    "<div style=\"text-align: right\"> Fuente: <a href=\"https://www.top500.org/\">TOP500.org</a> </div>\n"
   ]
  },
  {
   "cell_type": "markdown",
   "metadata": {},
   "source": [
    "El tiempo de cómputo para una simulación depende de:\n",
    "\n",
    "- Elección de los algoritmos numéricos y estructuras de datos adecuados\n",
    "\n",
    "\n",
    "- Herramientas de álgebra lineal: criterios de parada para solucionadores iterativos\n",
    "\n",
    "\n",
    "- Parámetros de discretización: calidad y tamaño de la malla, intervalo de tiempo\n",
    "\n",
    "\n",
    "- Costo por paso de tiempo y tasas de convergencia para iteraciones externas\n",
    "\n",
    "\n",
    "- Lenguaje de programación: la mayoría de los códigos están escritos en un lenguaje compilado (Fortran, C), [Julia](https://julialang.org/ \"Julia\")?\n",
    "\n",
    "\n",
    "- Muchas otras cosas más: [hardware](https://www.eafit.edu.co/apolo \"Apolo-EAFIT\"), vectorización, paralelización, etc.\n"
   ]
  },
  {
   "cell_type": "markdown",
   "metadata": {},
   "source": [
    "[Volver a la Tabla de Contenido](#TOC)"
   ]
  },
  {
   "cell_type": "markdown",
   "metadata": {},
   "source": [
    "### Incertidumbre y error"
   ]
  },
  {
   "cell_type": "markdown",
   "metadata": {},
   "source": [
    "Si los resultados de una simulación pueden ser confiables depende del grado de incertidumbre y del efecto acumulativo de varios errores.\n",
    "\n",
    "\n",
    "- La incertidumbre se define como una deficiencia potencial debido a la falta de conocimiento \n",
    "\n",
    "\n",
    "- El error se define como una deficiencia reconocible debido a otras razones\n",
    "\n",
    "\n",
    "- Los errores reconocidos tienen ciertos mecanismos para identificarlos, estimarlos y posiblemente eliminarlos o al menos minimizarlos\n",
    "  \n",
    "  \n",
    "- Los errores no reconocidos no tienen procedimientos estándar para detectarlos y pueden permanecer sin descubrir causando mucho daño\n",
    "\n",
    "\n",
    "- Los errores locales se refieren a errores de solución en un solo punto o celda de la cuadrícula\n",
    "\n",
    "\n",
    "- Los errores globales se refieren a errores de solución en todo el dominio del problema\n",
    "\n",
    "\n",
    "Los errores locales contribuyen al error global y pueden moverse a lo largo de la red."
   ]
  },
  {
   "cell_type": "markdown",
   "metadata": {},
   "source": [
    "[Volver a la Tabla de Contenido](#TOC)"
   ]
  },
  {
   "cell_type": "markdown",
   "metadata": {},
   "source": [
    "### Clasificación de errores"
   ]
  },
  {
   "cell_type": "markdown",
   "metadata": {},
   "source": [
    "***Errores reconocidos***\n",
    "\n",
    "- Error de modelado físico debido a la incertidumbre y simplificaciones deliberadas\n",
    "\n",
    "\n",
    "- Aproximación del error de discretización de la $PDE$ mediante ecuaciones algebraicas\n",
    "\n",
    "   - error de discretización espacial debido a una resolución de cuadrícula finita\n",
    "\n",
    "   - error de discretización temporal debido a un tamaño de intervalo de tiempo finito\n",
    "\n",
    "\n",
    "- Error de convergencia iterativo que depende de los criterios de parada\n",
    "\n",
    "\n",
    "- Errores de redondeo debido a la precisión finita de la aritmética del computador\n",
    "\n",
    "\n",
    "***Errores no reconocidos***\n",
    "\n",
    "\n",
    "- Error de programación: \"errores\" en la codificación y errores lógicos ([bugs](https://en.wikipedia.org/wiki/Software_bug \"Software bug\"))\n",
    "\n",
    "\n",
    "- Error de uso: valores de parámetros, modelos o condiciones de contorno incorrectos\n",
    "\n",
    "El conocimiento de estas fuentes de error y la capacidad de controlar o evitar el error son requisitos previos importantes para desarrollar y usar el software de simulación (*[Garbage in, garbage out](https://en.wikipedia.org/wiki/Garbage_in,_garbage_out \"GIGO\")*)"
   ]
  },
  {
   "cell_type": "code",
   "execution_count": null,
   "metadata": {},
   "outputs": [],
   "source": [
    "import numpy as np\n",
    "\n",
    "a = 9\n",
    "b = 4\n",
    "c = 5\n",
    "\n",
    "s = (a + b + c)/2\n",
    "\n",
    "A = np.sqrt(s*(s-a)*(s-b)*(s-c))\n",
    "\n",
    "print(A)"
   ]
  },
  {
   "cell_type": "markdown",
   "metadata": {},
   "source": [
    "[Volver a la Tabla de Contenido](#TOC)"
   ]
  },
  {
   "cell_type": "markdown",
   "metadata": {},
   "source": [
    "### Verificación del código"
   ]
  },
  {
   "cell_type": "markdown",
   "metadata": {},
   "source": [
    "La verificación equivale a buscar errores en la implementación de los modelos (en términos generales, la pregunta es: ***¿estamos resolviendo correctamente las ecuaciones?***)\n",
    "\n",
    "- ***Examinar la programación*** comprobando visualmente el código fuente, documentándolo y probando los subprogramas subyacentes individualmente\n",
    "\n",
    "\n",
    "- ***Examinar la convergencia iterativa*** mediante el seguimiento de los residuos, los cambios relativos de cantidades integrales y comprobar si se alcanza la tolerancia prescrita\n",
    "\n",
    "\n",
    "- ***Examinar la coherencia*** comprobando si se cumplen los principios de conservación pertinentes, por ejemplo.\n",
    "\n",
    "\n",
    "- ***Examinar la convergencia de la malla.*** A medida que se refinan la malla y/o el paso de tiempo, los errores de discretización espacial y temporal, respectivamente, deberían acercarse asintóticamente a cero (en ausencia de errores de redondeo)\n",
    "\n",
    "\n",
    "- ***Compare los resultados computacionales con soluciones analíticas y numéricas*** para configuraciones de referencia estándar (casos de prueba representativos o [benchmarks](https://en.wikipedia.org/wiki/Benchmark_(computing) \"Benchmark\"))"
   ]
  },
  {
   "cell_type": "markdown",
   "metadata": {},
   "source": [
    "[Volver a la Tabla de Contenido](#TOC)"
   ]
  },
  {
   "cell_type": "markdown",
   "metadata": {},
   "source": [
    "### Validación del modelo"
   ]
  },
  {
   "cell_type": "markdown",
   "metadata": {},
   "source": [
    "La validación equivale a comprobar si el modelo en sí es adecuado para fines prácticos (en términos generales, la pregunta es: ***¿estamos resolviendo las ecuaciones correctas?***)\n",
    "\n",
    "\n",
    "- ***Verifique el código*** para asegurarse de que las soluciones numéricas sean correctas\n",
    "\n",
    "\n",
    "- ***Compare los resultados*** con los datos experimentales disponibles (teniendo en cuenta los errores de medición) para comprobar si la realidad se representa con la suficiente precisión\n",
    "\n",
    "\n",
    "- ***Realizar análisis de sensibilidad*** y un estudio paramétrico para evaluar la incertidumbre inherente debido a la comprensión insuficiente de los procesos físicos\n",
    "\n",
    "\n",
    "- ***Intente utilizar diferentes modelos***, geometría y condiciones iniciales / de contorno;\n",
    "\n",
    "\n",
    "- ***Informar los resultados***, documentar las limitaciones del modelo y la configuración de los parámetros\n",
    "\n",
    "\n",
    "***El objetivo de la [verificación y validación](https://en.wikipedia.org/wiki/Verification_and_validation \"V&V\") es garantizar que el código produzca resultados razonables para un cierto rango de problemas*** "
   ]
  },
  {
   "cell_type": "markdown",
   "metadata": {},
   "source": [
    "[Volver a la Tabla de Contenido](#TOC)"
   ]
  }
 ],
 "metadata": {
  "kernelspec": {
   "display_name": "Python 3",
   "language": "python",
   "name": "python3"
  },
  "language_info": {
   "codemirror_mode": {
    "name": "ipython",
    "version": 3
   },
   "file_extension": ".py",
   "mimetype": "text/x-python",
   "name": "python",
   "nbconvert_exporter": "python",
   "pygments_lexer": "ipython3",
   "version": "3.6.10"
  },
  "toc": {
   "base_numbering": 1,
   "nav_menu": {},
   "number_sections": true,
   "sideBar": true,
   "skip_h1_title": true,
   "title_cell": "Table of Contents",
   "title_sidebar": "Contents",
   "toc_cell": true,
   "toc_position": {
    "height": "calc(100% - 180px)",
    "left": "10px",
    "top": "150px",
    "width": "165px"
   },
   "toc_section_display": true,
   "toc_window_display": true
  }
 },
 "nbformat": 4,
 "nbformat_minor": 2
}
