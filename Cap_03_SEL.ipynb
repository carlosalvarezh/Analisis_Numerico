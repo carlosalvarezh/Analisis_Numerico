{
 "cells": [
  {
   "cell_type": "markdown",
   "metadata": {},
   "source": [
    "<p float=\"center\">\n",
    "  <img src=\"https://github.com/carlosalvarezh/Analisis_Numerico/blob/master/images/C00_Img00_logo.png?raw=true\" width=\"350\" />\n",
    "</p>\n",
    "<h1 align=\"center\">ST0256 - Análisis Numérico</h1>\n",
    "<h1 align=\"center\">Capítulo 3: Sistemas de Ecuaciones Lineales</h1>\n",
    "<h1 align=\"center\">2021/01</h1>\n",
    "<h1 align=\"center\">MEDELLÍN - COLOMBIA </h1>"
   ]
  },
  {
   "cell_type": "markdown",
   "metadata": {},
   "source": [
    "<table>\n",
    " <tr align=left><td><img align=left src=\"./images/CC-BY.png\">\n",
    " <td>Text provided under a Creative Commons Attribution license, CC-BY. All code is made available under the FSF-approved MIT license.(c) Carlos Alberto Alvarez Henao</td>\n",
    "</table>"
   ]
  },
  {
   "cell_type": "markdown",
   "metadata": {},
   "source": [
    "*** \n",
    "\n",
    "***Docente:*** Carlos Alberto Álvarez Henao, I.C. D.Sc.\n",
    "\n",
    "***e-mail:*** calvar52@eafit.edu.co\n",
    "\n",
    "***skype:*** carlos.alberto.alvarez.henao\n",
    "\n",
    "***Herramienta:*** [Jupyter](http://jupyter.org/)\n",
    "\n",
    "***Kernel:*** Python 3.8\n",
    "\n",
    "\n",
    "***"
   ]
  },
  {
   "cell_type": "markdown",
   "metadata": {},
   "source": [
    "<a id='TOC'></a>"
   ]
  },
  {
   "cell_type": "markdown",
   "metadata": {
    "toc": true
   },
   "source": [
    "<h1>Tabla de Contenidos<span class=\"tocSkip\"></span></h1>\n",
    "<div class=\"toc\"><ul class=\"toc-item\"><li><span><a href=\"#Sistema-de-Ecuaciones-Lineales\" data-toc-modified-id=\"Sistema-de-Ecuaciones-Lineales-1\"><span class=\"toc-item-num\">1&nbsp;&nbsp;</span>Sistema de Ecuaciones Lineales</a></span><ul class=\"toc-item\"><li><span><a href=\"#Introducción\" data-toc-modified-id=\"Introducción-1.1\"><span class=\"toc-item-num\">1.1&nbsp;&nbsp;</span>Introducción</a></span></li><li><span><a href=\"#Singularidad-y-No-Singularidad\" data-toc-modified-id=\"Singularidad-y-No-Singularidad-1.2\"><span class=\"toc-item-num\">1.2&nbsp;&nbsp;</span>Singularidad y No Singularidad</a></span></li><li><span><a href=\"#Existencia-y-Unicidad\" data-toc-modified-id=\"Existencia-y-Unicidad-1.3\"><span class=\"toc-item-num\">1.3&nbsp;&nbsp;</span>Existencia y Unicidad</a></span></li><li><span><a href=\"#Interpretación-geométrica\" data-toc-modified-id=\"Interpretación-geométrica-1.4\"><span class=\"toc-item-num\">1.4&nbsp;&nbsp;</span>Interpretación geométrica</a></span></li></ul></li><li><span><a href=\"#Métodos-directos-o-de-eliminación\" data-toc-modified-id=\"Métodos-directos-o-de-eliminación-2\"><span class=\"toc-item-num\">2&nbsp;&nbsp;</span>Métodos directos o de eliminación</a></span><ul class=\"toc-item\"><li><span><a href=\"#Eliminación-de-Gauss-Simple\" data-toc-modified-id=\"Eliminación-de-Gauss-Simple-2.1\"><span class=\"toc-item-num\">2.1&nbsp;&nbsp;</span>Eliminación de Gauss Simple</a></span><ul class=\"toc-item\"><li><span><a href=\"#Introducción\" data-toc-modified-id=\"Introducción-2.1.1\"><span class=\"toc-item-num\">2.1.1&nbsp;&nbsp;</span>Introducción</a></span></li><li><span><a href=\"#Algoritmo-general\" data-toc-modified-id=\"Algoritmo-general-2.1.2\"><span class=\"toc-item-num\">2.1.2&nbsp;&nbsp;</span>Algoritmo general</a></span></li><li><span><a href=\"#Etapas-en-el-procesos-de-eliminación\" data-toc-modified-id=\"Etapas-en-el-procesos-de-eliminación-2.1.3\"><span class=\"toc-item-num\">2.1.3&nbsp;&nbsp;</span>Etapas en el procesos de eliminación</a></span></li><li><span><a href=\"#Algoritmo-proceso-de-Eliminación\" data-toc-modified-id=\"Algoritmo-proceso-de-Eliminación-2.1.4\"><span class=\"toc-item-num\">2.1.4&nbsp;&nbsp;</span>Algoritmo proceso de Eliminación</a></span></li><li><span><a href=\"#Resultado-del-proceso-de-Eliminación\" data-toc-modified-id=\"Resultado-del-proceso-de-Eliminación-2.1.5\"><span class=\"toc-item-num\">2.1.5&nbsp;&nbsp;</span>Resultado del proceso de Eliminación</a></span></li><li><span><a href=\"#Implementación-computacional-proceso-de-Eliminación\" data-toc-modified-id=\"Implementación-computacional-proceso-de-Eliminación-2.1.6\"><span class=\"toc-item-num\">2.1.6&nbsp;&nbsp;</span>Implementación computacional proceso de Eliminación</a></span></li><li><span><a href=\"#Sustitución-regresiva-(o-despeje)\" data-toc-modified-id=\"Sustitución-regresiva-(o-despeje)-2.1.7\"><span class=\"toc-item-num\">2.1.7&nbsp;&nbsp;</span>Sustitución regresiva (o despeje)</a></span></li><li><span><a href=\"#Algoritmo-proceso-de-sustitución-regresiva\" data-toc-modified-id=\"Algoritmo-proceso-de-sustitución-regresiva-2.1.8\"><span class=\"toc-item-num\">2.1.8&nbsp;&nbsp;</span>Algoritmo proceso de sustitución regresiva</a></span></li><li><span><a href=\"#Implementación-computacional\" data-toc-modified-id=\"Implementación-computacional-2.1.9\"><span class=\"toc-item-num\">2.1.9&nbsp;&nbsp;</span>Implementación computacional</a></span></li><li><span><a href=\"#Ejemplo-teórico-algoritmo-Eliminación-de-Gauss-simple\" data-toc-modified-id=\"Ejemplo-teórico-algoritmo-Eliminación-de-Gauss-simple-2.1.10\"><span class=\"toc-item-num\">2.1.10&nbsp;&nbsp;</span>Ejemplo teórico algoritmo Eliminación de Gauss simple</a></span></li><li><span><a href=\"#Ejemplo-numérico-algoritmo-Eliminación-de-Gauss-Simple\" data-toc-modified-id=\"Ejemplo-numérico-algoritmo-Eliminación-de-Gauss-Simple-2.1.11\"><span class=\"toc-item-num\">2.1.11&nbsp;&nbsp;</span>Ejemplo numérico algoritmo Eliminación de Gauss Simple</a></span></li><li><span><a href=\"#Ejemplo-computacional-algoritmo-de-Eliminación-de-Gauss-Simple\" data-toc-modified-id=\"Ejemplo-computacional-algoritmo-de-Eliminación-de-Gauss-Simple-2.1.12\"><span class=\"toc-item-num\">2.1.12&nbsp;&nbsp;</span>Ejemplo computacional algoritmo de Eliminación de Gauss Simple</a></span></li></ul></li><li><span><a href=\"#Método-de-Gauss---Jordan\" data-toc-modified-id=\"Método-de-Gauss---Jordan-2.2\"><span class=\"toc-item-num\">2.2&nbsp;&nbsp;</span>Método de Gauss - Jordan</a></span></li><li><span><a href=\"#Aspectos-computacionales,-inconvenitentes-de-los-métodos-de-eliminación\" data-toc-modified-id=\"Aspectos-computacionales,-inconvenitentes-de-los-métodos-de-eliminación-2.3\"><span class=\"toc-item-num\">2.3&nbsp;&nbsp;</span>Aspectos computacionales, inconvenitentes de los métodos de eliminación</a></span><ul class=\"toc-item\"><li><span><a href=\"#Análisis-de-desempeño-algoritmo-de-Eliminación-de-Gauss-Simple\" data-toc-modified-id=\"Análisis-de-desempeño-algoritmo-de-Eliminación-de-Gauss-Simple-2.3.1\"><span class=\"toc-item-num\">2.3.1&nbsp;&nbsp;</span>Análisis de desempeño algoritmo de Eliminación de Gauss Simple</a></span></li><li><span><a href=\"#División-entre-cero\" data-toc-modified-id=\"División-entre-cero-2.3.2\"><span class=\"toc-item-num\">2.3.2&nbsp;&nbsp;</span>División entre cero</a></span></li><li><span><a href=\"#Errores-de-redondeo\" data-toc-modified-id=\"Errores-de-redondeo-2.3.3\"><span class=\"toc-item-num\">2.3.3&nbsp;&nbsp;</span>Errores de redondeo</a></span></li><li><span><a href=\"#Condicionamiento-del-sistema\" data-toc-modified-id=\"Condicionamiento-del-sistema-2.3.4\"><span class=\"toc-item-num\">2.3.4&nbsp;&nbsp;</span>Condicionamiento del sistema</a></span></li><li><span><a href=\"#Escalamiento\" data-toc-modified-id=\"Escalamiento-2.3.5\"><span class=\"toc-item-num\">2.3.5&nbsp;&nbsp;</span>Escalamiento</a></span></li></ul></li><li><span><a href=\"#Técnicas-para-mejorar-la-solución-en-los-métodos-de-Eliminación\" data-toc-modified-id=\"Técnicas-para-mejorar-la-solución-en-los-métodos-de-Eliminación-2.4\"><span class=\"toc-item-num\">2.4&nbsp;&nbsp;</span>Técnicas para mejorar la solución en los métodos de Eliminación</a></span><ul class=\"toc-item\"><li><span><a href=\"#Escalamiento\" data-toc-modified-id=\"Escalamiento-2.4.1\"><span class=\"toc-item-num\">2.4.1&nbsp;&nbsp;</span>Escalamiento</a></span></li><li><span><a href=\"#Pivoteo\" data-toc-modified-id=\"Pivoteo-2.4.2\"><span class=\"toc-item-num\">2.4.2&nbsp;&nbsp;</span>Pivoteo</a></span></li></ul></li><li><span><a href=\"#Eliminación-LU\" data-toc-modified-id=\"Eliminación-LU-2.5\"><span class=\"toc-item-num\">2.5&nbsp;&nbsp;</span>Eliminación LU</a></span><ul class=\"toc-item\"><li><span><a href=\"#Introducción\" data-toc-modified-id=\"Introducción-2.5.1\"><span class=\"toc-item-num\">2.5.1&nbsp;&nbsp;</span>Introducción</a></span></li><li><span><a href=\"#Determinación-de-la-descomposición-LU\" data-toc-modified-id=\"Determinación-de-la-descomposición-LU-2.5.2\"><span class=\"toc-item-num\">2.5.2&nbsp;&nbsp;</span>Determinación de la descomposición LU</a></span></li><li><span><a href=\"#Estrategia-de-solución\" data-toc-modified-id=\"Estrategia-de-solución-2.5.3\"><span class=\"toc-item-num\">2.5.3&nbsp;&nbsp;</span>Estrategia de solución</a></span></li><li><span><a href=\"#Obtención-de-las-matrices-L-y-U\" data-toc-modified-id=\"Obtención-de-las-matrices-L-y-U-2.5.4\"><span class=\"toc-item-num\">2.5.4&nbsp;&nbsp;</span>Obtención de las matrices <em>L</em> y <em>U</em></a></span></li><li><span><a href=\"#Ejemplo-LU\" data-toc-modified-id=\"Ejemplo-LU-2.5.5\"><span class=\"toc-item-num\">2.5.5&nbsp;&nbsp;</span>Ejemplo <em>LU</em></a></span></li><li><span><a href=\"#Implementación-computacional-del-algoritmo-LU\" data-toc-modified-id=\"Implementación-computacional-del-algoritmo-LU-2.5.6\"><span class=\"toc-item-num\">2.5.6&nbsp;&nbsp;</span>Implementación computacional del algoritmo LU</a></span></li><li><span><a href=\"#Ejemplo-computacional-algoritmo-LU:-Cálculo-de-la-Inversa\" data-toc-modified-id=\"Ejemplo-computacional-algoritmo-LU:-Cálculo-de-la-Inversa-2.5.7\"><span class=\"toc-item-num\">2.5.7&nbsp;&nbsp;</span>Ejemplo computacional algoritmo LU: Cálculo de la Inversa</a></span></li></ul></li></ul></li><li><span><a href=\"#Análisis-de-Error-y-condición-del-Sistema\" data-toc-modified-id=\"Análisis-de-Error-y-condición-del-Sistema-3\"><span class=\"toc-item-num\">3&nbsp;&nbsp;</span>Análisis de Error y condición del Sistema</a></span><ul class=\"toc-item\"><li><span><a href=\"#Condicionamiento-del-sistema\" data-toc-modified-id=\"Condicionamiento-del-sistema-3.1\"><span class=\"toc-item-num\">3.1&nbsp;&nbsp;</span>Condicionamiento del sistema</a></span></li><li><span><a href=\"#Normas-vectoriales-y-matriciales\" data-toc-modified-id=\"Normas-vectoriales-y-matriciales-3.2\"><span class=\"toc-item-num\">3.2&nbsp;&nbsp;</span>Normas vectoriales y matriciales</a></span></li></ul></li><li><span><a href=\"#Métodos-Iterativos\" data-toc-modified-id=\"Métodos-Iterativos-4\"><span class=\"toc-item-num\">4&nbsp;&nbsp;</span>Métodos Iterativos</a></span><ul class=\"toc-item\"><li><span><a href=\"#Método-de-Jacobi\" data-toc-modified-id=\"Método-de-Jacobi-4.1\"><span class=\"toc-item-num\">4.1&nbsp;&nbsp;</span>Método de Jacobi</a></span></li><li><span><a href=\"#Método-de-Gauss---Seidel\" data-toc-modified-id=\"Método-de-Gauss---Seidel-4.2\"><span class=\"toc-item-num\">4.2&nbsp;&nbsp;</span>Método de Gauss - Seidel</a></span></li><li><span><a href=\"#Método-SOR\" data-toc-modified-id=\"Método-SOR-4.3\"><span class=\"toc-item-num\">4.3&nbsp;&nbsp;</span>Método SOR</a></span></li></ul></li></ul></div>"
   ]
  },
  {
   "cell_type": "markdown",
   "metadata": {},
   "source": [
    "## Sistema de Ecuaciones Lineales"
   ]
  },
  {
   "cell_type": "markdown",
   "metadata": {},
   "source": [
    "### Introducción"
   ]
  },
  {
   "cell_type": "markdown",
   "metadata": {},
   "source": [
    "Un [Sistema de Ecuaciones Lineales](https://en.wikipedia.org/wiki/System_of_linear_equations), *SEL*, es un conjunto de $m$ ecuaciones lineales con $n$ incógnitas, cuya solución es un conjunto de valores para las incógnitas con el que se satisfacen todas las ecuaciones.\n",
    "\n",
    "Asumamos que los elementos que componen las ecuaciones están definidos en los $\\Re$ y que siempre tendremos la misma cantidad de ecuaciones que de incógnitas, es decir $m=n$.\n",
    "\n",
    "$$a_{11}x_1 + a_{12}x_2 + a_{13}x_3 + \\ldots + a_{1n}x_n = b_1 \\hspace{1 cm} (ec. 1)$$\n",
    "\n",
    "$$a_{21}x_1 + a_{22}x_2 + a_{23}x_3 + \\ldots + a_{2n}x_n = b_2 \\hspace{1 cm} (ec. 2)$$\n",
    "\n",
    "$$a_{31}x_1 + a_{32}x_2 + a_{33}x_3 + \\ldots + a_{3n}x_n = b_3 \\hspace{1 cm} (ec. 3)$$\n",
    "\n",
    "$$\\vdots$$\n",
    "\n",
    "$$a_{n1}x_1 + a_{n2}x_2 + a_{n3}x_3 + \\ldots + a_{nn}x_n = b_n \\hspace{1 cm} (ec. n)$$"
   ]
  },
  {
   "cell_type": "markdown",
   "metadata": {},
   "source": [
    "En notación matricial, un sistema de ecuaciones algebraicas lineal tiene la forma:\n",
    "\n",
    "$$\\mathbf{Ax=b}$$\n",
    "\n",
    "donde\n",
    "\n",
    "- $\\mathbf{A}$: Matriz de coeficientes $[n \\times n]$\n",
    "\n",
    "\n",
    "- $\\mathbf{b}$: vector de términos independientes $[n \\times 1]$\n",
    "\n",
    "\n",
    "- $\\mathbf{x}$: Vector de incógnitas $[n \\times 1]$\n",
    "\n"
   ]
  },
  {
   "cell_type": "markdown",
   "metadata": {},
   "source": [
    "\\begin{align*}\n",
    "\\left[\\begin{array}{cccc}\n",
    "  a_{11} & a_{12} & \\ldots &a_{1n} \\\\\n",
    "  a_{21} & a_{22} & \\ldots &a_{2n} \\\\\n",
    "  a_{31} & a_{32} & \\ldots &a_{3n} \\\\\n",
    "  \\vdots & \\vdots & \\ddots &\\vdots \\\\\n",
    "  a_{n1} & a_{n2} & \\ldots &a_{nn} \\\\\n",
    "\\end{array}\\right]\n",
    "\\begin{Bmatrix}\n",
    "  x_{1}  \\\\\n",
    "  x_{2}  \\\\\n",
    "  x_{3}  \\\\\n",
    "  \\vdots \\\\\n",
    "  x_{n}\n",
    "\\end{Bmatrix}\n",
    "= \\begin{Bmatrix}\n",
    "  b_{1}  \\\\\n",
    "  b_{2}  \\\\\n",
    "  b_{3}  \\\\\n",
    "  \\vdots \\\\\n",
    "  b_{n}\n",
    "\\end{Bmatrix}\n",
    "\\end{align*}"
   ]
  },
  {
   "cell_type": "markdown",
   "metadata": {},
   "source": [
    "Lo siguiente conduce a la pregunta *¿Puede el vector $\\mathbf{b}$ ser expresado como una combinación lineal de las columnas de la matriz $\\mathbf{A}$?*\n",
    "\n",
    "- Los coeficientes de esta combinación lineal están dados por las componentes del vector solución $\\mathbf{x}$.\n",
    "\n",
    "\n",
    "- Puede o no tener solución.\n",
    "\n",
    "\n",
    "- Puede no ser única.\n"
   ]
  },
  {
   "cell_type": "markdown",
   "metadata": {},
   "source": [
    "[Volver a la Tabla de Contenido](#TOC)"
   ]
  },
  {
   "cell_type": "markdown",
   "metadata": {},
   "source": [
    "### Singularidad y No Singularidad"
   ]
  },
  {
   "cell_type": "markdown",
   "metadata": {},
   "source": [
    "Una matriz $\\mathbf{A}_{[n,n]}$ se dice que es singular si presenta una de las siguientes propiedades:\n",
    "\n",
    "\n",
    "- $\\mathbf{A}$ No tiene inversa: No existe una matriz $\\mathbf{M}$ tal que $\\mathbf{AM = MA = I}$.\n",
    "\n",
    "\n",
    "- $\\text{det}(\\mathbf{A}) = 0$\n",
    "\n",
    "\n",
    "- $\\text{Rango}(\\mathbf{A}) < n$: El rango de una matriz es el máximo número de filas o columnas linealmente independientes.\n",
    "\n",
    "\n",
    "- $\\mathbf{Az = 0}$, para cualquier vector $\\mathbf{z} \\neq \\mathbf{0}$.\n",
    "\n",
    "\n",
    "La solubilidad de un sistema de ecuaciones lineales está determinado si la matriz $\\mathbf{A}$ es, o no, singular.\n",
    "\n",
    "- ***No Singular:*** Tiene solución y es única\n",
    "\n",
    "\n",
    "- ***Singular:*** No tiene solución o tiene infinitas soluciones"
   ]
  },
  {
   "cell_type": "markdown",
   "metadata": {},
   "source": [
    "[Volver a la Tabla de Contenido](#TOC)"
   ]
  },
  {
   "cell_type": "markdown",
   "metadata": {},
   "source": [
    "### Existencia y Unicidad"
   ]
  },
  {
   "cell_type": "markdown",
   "metadata": {},
   "source": [
    "- La Existencia y la Unicidad de la solución de $\\mathbf{Ax=b}$ depende de si $\\mathbf{A}$ es singular o no singular.\n",
    "\n",
    "\n",
    "- Puede también depender de $\\mathbf{b}$, pero únicamente en el caso singular\n",
    "\n",
    "\n",
    "- Si $\\mathbf{b} \\in \\text{span}(\\mathbf{A})$, el sistema se dice que es consistente\n",
    "\n",
    "\n",
    "|$\\mathbf{A}$ | $\\mathbf{b}$           | #soluciones|\n",
    "|-----------|:------------------------:|-----------|\n",
    "|No singular| puede ser arbitrario     |única      |\n",
    "|singular   | $\\mathbf{b} \\in \\text{span}(\\mathbf{A})$   |infinitas  |\n",
    "|singular   | $\\mathbf{b} \\notin \\text{span}(\\mathbf{A})$|ninguna    |\n"
   ]
  },
  {
   "cell_type": "markdown",
   "metadata": {},
   "source": [
    "[Volver a la Tabla de Contenido](#TOC)"
   ]
  },
  {
   "cell_type": "markdown",
   "metadata": {},
   "source": [
    "### Interpretación geométrica"
   ]
  },
  {
   "cell_type": "markdown",
   "metadata": {},
   "source": [
    "En $2D$, cada ecuación determina una línea recta en el plano. Si dos líneas rectas son no paralelas (no singular), entonces el punto de intersección es único. La solución es el punto de intersección de las dos líneas\n",
    "\n",
    "<p float=\"center\">\n",
    "  <img src=\"https://github.com/carlosalvarezh/Analisis_Numerico/blob/master/images/C03_Img01_Sln2D_01.PNG?raw=true\" width=\"350\" />\n",
    "</p>\n",
    "\n",
    "\n",
    "Si las dos líneas son paralelas (singular), entonces o las líneas no se intersectan (no hay solución) \n",
    "\n",
    "<p float=\"center\">\n",
    "  <img src=\"https://github.com/carlosalvarezh/Analisis_Numerico/blob/master/images/C03_Img02_Sln2D_02.PNG?raw=true\" width=\"350\" />\n",
    "</p>\n",
    "\n",
    "o coinciden en todos los puntos a lo largo de las líneas (infinitas soluciones)\n",
    "\n",
    "<p float=\"center\">\n",
    "  <img src=\"https://github.com/carlosalvarezh/Analisis_Numerico/blob/master/images/C03_Img03_Sln2D_03.PNG?raw=true\" width=\"350\" />\n",
    "</p>\n",
    "\n",
    "En mayores dimensiones, cada ecuación determina un hiperplano; si la matriz es no singular, la intersección de los hiperplanos es la única solución.\n"
   ]
  },
  {
   "cell_type": "markdown",
   "metadata": {},
   "source": [
    "[Volver a la Tabla de Contenido](#TOC)"
   ]
  },
  {
   "cell_type": "markdown",
   "metadata": {},
   "source": [
    "- ***Ejemplo: No singularidad***\n",
    "\n",
    "Dado el Sistema $2 \\times 2$\n",
    "\n",
    "$$2x_1 + 3x_2 = b_1 $$\n",
    "$$5x_1 + 4x_2 = b_2 $$\n",
    "\n",
    "en notación matricial se tiene:\n",
    "\n",
    "\\begin{align*}\n",
    "\\left[\\begin{array}{cc}\n",
    "  2 & 3 & \\\\\n",
    "  5 & 4 & \\\\\n",
    " \\end{array}\\right]\n",
    "\\begin{Bmatrix}\n",
    "  x_{1}  \\\\\n",
    "  x_{2}  \\\\\n",
    "\\end{Bmatrix}\n",
    "= \\begin{Bmatrix}\n",
    "  b_{1}  \\\\\n",
    "  b_{2}  \\\\\n",
    "\\end{Bmatrix}\n",
    "\\end{align*}\n",
    "\n",
    "- Es no singular, independientemente del valor de $\\mathbf{b}$\n",
    "\n",
    "\n",
    "- Por ejemplo, si $\\mathbf{b}=\\{ 8 \\hspace{.25cm} 13\\}^T$, entonces $\\mathbf{x}=\\{ 1 \\hspace{0.25cm} 2 \\}^T$ es la solución única del sistema.\n"
   ]
  },
  {
   "cell_type": "markdown",
   "metadata": {},
   "source": [
    "[Volver a la Tabla de Contenido](#TOC)"
   ]
  },
  {
   "cell_type": "markdown",
   "metadata": {},
   "source": [
    "- ***Ejemplo: Singularidad***\n",
    "\n",
    "Dado el Sistema $2 \\times 2$\n",
    "\n",
    "$$2x_1 + 3x_2 = b_1 $$\n",
    "$$4x_1 + 6x_2 = b_2 $$\n",
    "\n",
    "en notación matricial se tiene:\n",
    "\n",
    "\\begin{align*}\n",
    "\\left[\\begin{array}{cc}\n",
    "  2 & 3 & \\\\\n",
    "  4 & 6 & \\\\\n",
    " \\end{array}\\right]\n",
    "\\begin{Bmatrix}\n",
    "  x_{1}  \\\\\n",
    "  x_{2}  \\\\\n",
    "\\end{Bmatrix}\n",
    "= \\begin{Bmatrix}\n",
    "  b_{1}  \\\\\n",
    "  b_{2}  \\\\\n",
    "\\end{Bmatrix}\n",
    "\\end{align*}\n",
    "\n",
    "- Es singular, independientemente del valor de $\\mathbf{b}$\n",
    "\n",
    "\n",
    "- Por ejemplo, si $\\mathbf{b}=\\{ 4 \\hspace{.25cm} 7\\}^T$, entonces no existe solución.\n",
    "\n",
    "\n",
    "- Si $\\mathbf{b}=\\{ 4 \\hspace{0.25cm} 8 \\}^T$ , $\\mathbf{x}=\\{ \\gamma \\hspace{0.25cm} (4-2\\gamma)/3 \\}^T$ es solución para cualquier número real $\\gamma$, entonces tiene infinitas soluciones"
   ]
  },
  {
   "cell_type": "markdown",
   "metadata": {},
   "source": [
    "[Volver a la Tabla de Contenido](#TOC)"
   ]
  },
  {
   "cell_type": "markdown",
   "metadata": {},
   "source": [
    "***Ejemplo: mal condicionamiento***\n",
    "\n",
    "Adicionalmente a esto, los sistemas muy próximos a ser singulares, pueden ocasionar muchos problemas para su solución.\n",
    "\n",
    "Dado el Sistema $2 \\times 2$\n",
    "\n",
    "$$-\\frac{2.3}{5}x_1 + x_2 = 1.1 $$\n",
    "$$-\\frac{1}{2}x_1 + x_2 = 1 $$\n",
    "\n",
    "en notación matricial se tiene:\n",
    "\n",
    "\\begin{align*}\n",
    "\\left[\\begin{array}{cc}\n",
    "  -\\frac{2.3}{5} & 1 & \\\\\n",
    "  -\\frac{1}{2} & 1 & \\\\\n",
    " \\end{array}\\right]\n",
    "\\begin{Bmatrix}\n",
    "  x_{1}  \\\\\n",
    "  x_{2}  \\\\\n",
    "\\end{Bmatrix}\n",
    "= \\begin{Bmatrix}\n",
    "  1.1  \\\\\n",
    "  1  \\\\\n",
    "\\end{Bmatrix}\n",
    "\\end{align*}\n",
    "\n",
    "\n",
    "<p float=\"center\">\n",
    "  <img src=\"https://github.com/carlosalvarezh/Analisis_Numerico/blob/master/images/C03_Img03a_Sln2D_04.PNG?raw=true\" width=\"250\" />\n",
    "</p>\n",
    "\n",
    "<div style=\"text-align: right\"> Fuente: <a href=\"http://artemisa.unicauca.edu.co/~cardila/Chapra.pdf\">Chapra, S., Canale, R. Métodos Numéricos para ingenieros, 5a Ed. Mc. Graw Hill. 2007</a> </div>\n",
    "\n",
    "Se observa que, visualmente, no es posible determinar cuál es la solución del sistema. Igual inconveniente podría tener el computador, al no poder determinar (aproximar) cuál es el valor de la solución."
   ]
  },
  {
   "cell_type": "markdown",
   "metadata": {},
   "source": [
    "[Volver a la Tabla de Contenido](#TOC)"
   ]
  },
  {
   "cell_type": "markdown",
   "metadata": {},
   "source": [
    "## Métodos directos o de eliminación"
   ]
  },
  {
   "cell_type": "markdown",
   "metadata": {},
   "source": [
    "Un método para la solución de *SEL* es directo si se define como un conjunto finito de operaciones y de pasos para hallar la solución. El método genera una solución que sería exacta si no fuese por los errores de redondeo al efectuar las operaciones aritméticas (sumas, restas, multiplicaciones y divisiones).\n",
    "\n",
    "Dado un SEL de la forma $\\mathbf{Ax=b}$, se aplican *“operaciones elementales de fila”* para transformar el sistema de ecuaciones en uno equivalente y más simple de resolver.\n",
    "\n",
    "***Operaciones Elementales de Fila:*** Dada una matriz $\\mathbf{A}$, se dice que se realiza una operación elemental de fila si se hace una de las siguientes operaciones:\n",
    "\n",
    "- Intercambio de dos filas;\n",
    "\n",
    "\n",
    "- Sumar a una fila un múltiplo de otra fila; \n",
    "\n",
    "\n",
    "- Multiplicar una fila por un escalar no nulo."
   ]
  },
  {
   "cell_type": "markdown",
   "metadata": {},
   "source": [
    "[Volver a la Tabla de Contenido](#TOC)"
   ]
  },
  {
   "cell_type": "markdown",
   "metadata": {},
   "source": [
    "<a id='EGS'></a>\n",
    "### Eliminación de Gauss Simple"
   ]
  },
  {
   "cell_type": "markdown",
   "metadata": {},
   "source": [
    "#### Introducción"
   ]
  },
  {
   "cell_type": "markdown",
   "metadata": {},
   "source": [
    "El método de [Eliminación de Gauss Simple](https://en.wikipedia.org/wiki/Gaussian_elimination#:~:text=In%20mathematics%2C%20Gaussian%20elimination%2C%20also,the%20corresponding%20matrix%20of%20coefficients.) se descompone en:\n",
    "\n",
    "- ***Eliminación:*** Dado el sistema $\\mathbf{Ax=b}$, se realizan operaciones fundamentales de fila hasta obtener un sistema triangular superior equivalente $\\mathbf{Ux=B}$\n",
    "\n",
    "\n",
    "- ***Despeje:*** Del sistema triangular superior, se halla primero el valor de $x_n$, con este valor se halla $x_{n-1}$, con estos dos valores se halla $x_{n-2}$ y así sucesivamente hasta obtener el valor de $x_{1}$"
   ]
  },
  {
   "cell_type": "markdown",
   "metadata": {},
   "source": [
    "[Volver a la Tabla de Contenido](#TOC)"
   ]
  },
  {
   "cell_type": "markdown",
   "metadata": {},
   "source": [
    "#### Algoritmo general"
   ]
  },
  {
   "cell_type": "markdown",
   "metadata": {},
   "source": [
    "<div style=\"background-color:rgba(0, 0, 0, 0.0470588); padding:10px 0;font-family:monospace;\">\n",
    "Lea <font color = \"red\">A, b</font><br>\n",
    "&nbsp;&nbsp;&nbsp;&nbsp; <font color = \"orange\">U, B $\\leftarrow$ Eliminación(A,b) </font><br>\n",
    "&nbsp;&nbsp;&nbsp;&nbsp; <font color = \"orange\">x $\\leftarrow$ Despeje(U,B) </font><br>\n",
    "Imprima <font color = \"red\">x</font><br>\n",
    "</div>\n"
   ]
  },
  {
   "cell_type": "markdown",
   "metadata": {},
   "source": [
    "[Volver a la Tabla de Contenido](#TOC)"
   ]
  },
  {
   "cell_type": "markdown",
   "metadata": {},
   "source": [
    "<a id='Etapaseliminacion'></a>\n",
    "#### Etapas en el procesos de eliminación"
   ]
  },
  {
   "cell_type": "markdown",
   "metadata": {},
   "source": [
    "- ***Eliminación Etapa 1:*** Convertir todos los elementos $a_{i1}=0$ seleccionando un multiplicador de forma adecuada, en este caso $M_{i1}=a_{i1}/a_{11}$, y calcular la nueva $i–\\text{ésima}$ fila como: $F_i^{\\text{new}}=F_i - M_{i1}F_1$, con $2 \\leq i \\leq n$. Para todo $1 \\leq j \\leq n+1$ se cumple: $a_{ij}^{(new)}=a_{ij}-M_{i1}a_{1j}$.\n",
    "\n",
    "\n",
    "- ***Eliminación Etapa 2:*** Convertir todos los elementos $a_{i2}=0$ seleccionando un multiplicador de forma adecuada, en este caso $M_{i2}=a_{i2}/a_{22}$, y calcular la nueva $i–\\text{ésima}$ fila como: $F_i^{\\text{new}}=F_i - M_{i2}F_2$, con $3 \\leq i \\leq n$. Para todo $2 \\leq j \\leq n+1$ se cumple: $a_{ij}^{(new)}=a_{ij}-M_{i2}a_{2j}$.\n",
    "\n",
    "$$\\vdots$$\n",
    "\n",
    "\n",
    "- ***Eliminación Etapa k:*** Convertir todos los elementos $a_{ik}=0$ seleccionando un multiplicador de forma adecuada, en este caso $M_{ik}=a_{ik}/a_{kk}$, y calcular la nueva $i–\\text{ésima}$ fila como: $F_i^{\\text{new}}=F_i - M_{ik}F_k$, con $1 \\leq k \\leq n-1$ y $k-1 \\leq i \\leq n$. Para todo $k \\leq j \\leq n+1$ se cumple: $a_{ij}^{(new)}=a_{ij}-M_{ik}a_{kj}$."
   ]
  },
  {
   "cell_type": "markdown",
   "metadata": {},
   "source": [
    "[Volver a la Tabla de Contenido](#TOC)"
   ]
  },
  {
   "cell_type": "markdown",
   "metadata": {},
   "source": [
    "#### Algoritmo proceso de Eliminación"
   ]
  },
  {
   "cell_type": "markdown",
   "metadata": {},
   "source": [
    "El presente seudocódigo muestra el algoritmo en el proceso de eliminación, empleando la matriz amentada $[\\mathbf{A}|\\mathbf{b}]$. \n",
    "\n",
    "<p float=\"center\">\n",
    "  <img src=\"https://github.com/carlosalvarezh/Analisis_Numerico/blob/master/images/C03_Img04_Eliminacion.PNG?raw=true\" width=\"500\" />\n",
    "</p>\n"
   ]
  },
  {
   "cell_type": "markdown",
   "metadata": {},
   "source": [
    "[Volver a la Tabla de Contenido](#TOC)"
   ]
  },
  {
   "cell_type": "markdown",
   "metadata": {},
   "source": [
    "#### Resultado del proceso de Eliminación"
   ]
  },
  {
   "cell_type": "markdown",
   "metadata": {},
   "source": [
    "El resultado del proceso de eliminación sobre la matriz aumentada es el siguiente\n",
    "\n",
    "\n",
    "\\begin{align*}\n",
    "\\left[\\begin{array}{ccccccc}\n",
    "  a_{11} & a_{12} & a_{13} & \\ldots & a_{1n} & \\vdots & a_{1,n+1} \\\\\n",
    "  0      & a_{22} & a_{23} & \\ldots & a_{2n} & \\vdots & a_{2,n+1} \\\\\n",
    "  0      & 0      & a_{33} & \\ldots & a_{3n} & \\vdots & a_{3,n+1} \\\\\n",
    "  \\vdots & \\vdots & \\vdots & \\ddots & \\vdots & \\vdots & \\vdots     \\\\\n",
    "  0      & 0      & 0      & \\vdots & a_{nn} & \\vdots & a_{n,n+1} \\\\\n",
    "\\end{array}\\right]\n",
    "\\end{align*}"
   ]
  },
  {
   "cell_type": "markdown",
   "metadata": {},
   "source": [
    "[Volver a la Tabla de Contenido](#TOC)"
   ]
  },
  {
   "cell_type": "markdown",
   "metadata": {},
   "source": [
    "<a id='Algoritmoeliminacion'></a>\n",
    "#### Implementación computacional proceso de Eliminación"
   ]
  },
  {
   "cell_type": "markdown",
   "metadata": {},
   "source": [
    "A continuación se presenta una implementación en `Python` del algoritmo de eliminación"
   ]
  },
  {
   "cell_type": "code",
   "execution_count": 1,
   "metadata": {},
   "outputs": [],
   "source": [
    "def eliminacion(Ab):\n",
    "    \"\"\"\n",
    "    función en Python 3.8 que realiza el proceso de eliminación (encontrar la triangular superior)\n",
    "    en un Sistema de Ecuaciones Lineales (SEL)\n",
    "    \n",
    "    input: Se ingresa la matriz ampliada Ab[n x n+1]\n",
    "    \n",
    "    output: devuelve la matriz ampliada Ab[n x n+1] triangular superior\n",
    "    \"\"\"\n",
    "    n = Ab.shape[0]\n",
    "    for k in range(0,n-1):\n",
    "        print(\"\\n\\nEtapa\", k+1, \"Eliminación columna: \", k+1, \"\\n\")\n",
    "        for i in range(k+1, n):\n",
    "            multiplicador = Ab[i][k]/Ab[k][k]\n",
    "            for j in range(k, n+1):\n",
    "                Ab[i][j] = Ab[i][j] - multiplicador * Ab[k][j]\n",
    "            print(\"\\n\",Ab)\n",
    "    return Ab\n",
    "\n"
   ]
  },
  {
   "cell_type": "markdown",
   "metadata": {},
   "source": [
    "[Volver a la Tabla de Contenido](#TOC)"
   ]
  },
  {
   "cell_type": "markdown",
   "metadata": {},
   "source": [
    "#### Sustitución regresiva (o despeje)"
   ]
  },
  {
   "cell_type": "markdown",
   "metadata": {},
   "source": [
    "Una vez se obtiene la matriz triangular superior, se procede a realizar el procedimiento de sustitución regresiva, que consiste en despejar la última incógnita de la última ecuación (observe que es una ecuación con una sola incógnita) quedando\n",
    "\n",
    "$$x_n = \\frac{a_{n,n+1}}{a_{n,n}}$$\n",
    "\n",
    "después se pasa a la penúltima ecuación y se despeja la penúltima incógnita, que también es una ecuación con una sola incógnita, ya que se conoce el valor de $x_n$ dado en el paso anterior, quedando:    \n",
    "\n",
    "$$x_{n-1} = \\frac{a_{n-1,n+1}-a_{n,n+1} \\times x_n}{a_{n,n}}$$\n",
    "\n",
    "se sigue este procedimiento hasta que se llega a la primera ecuación, resulta la siguiente fórmula recursiva:\n",
    "\n",
    "$$x_i=\\frac{a_{i,n+1}-\\sum\\limits_{j=i+1}^{n}a_{ij}x_j}{a_{ii}}, i=n, n-1, n-2, \\ldots, 1.$$\n"
   ]
  },
  {
   "cell_type": "markdown",
   "metadata": {},
   "source": [
    "[Volver a la Tabla de Contenido](#TOC)"
   ]
  },
  {
   "cell_type": "markdown",
   "metadata": {},
   "source": [
    "#### Algoritmo proceso de sustitución regresiva"
   ]
  },
  {
   "cell_type": "markdown",
   "metadata": {},
   "source": [
    "<p float=\"center\">\n",
    "  <img src=\"https://github.com/carlosalvarezh/Analisis_Numerico/blob/master/images/C03_Img05_SustRegresiva.PNG?raw=true\" width=\"500\" />\n",
    "</p>\n"
   ]
  },
  {
   "cell_type": "markdown",
   "metadata": {},
   "source": [
    "[Volver a la Tabla de Contenido](#TOC)"
   ]
  },
  {
   "cell_type": "markdown",
   "metadata": {},
   "source": [
    "#### Implementación computacional"
   ]
  },
  {
   "cell_type": "markdown",
   "metadata": {},
   "source": [
    "A continuación se presenta una implementación en `Python` del algoritmo de sustitución regresiva"
   ]
  },
  {
   "cell_type": "code",
   "execution_count": 2,
   "metadata": {},
   "outputs": [],
   "source": [
    "def sustitucionReg(Ab):\n",
    "    \"\"\"\n",
    "    función en Python 3.8 que realiza el proceso de sustitución regresiva\n",
    "    \n",
    "    input: Se ingresa la matriz triangular superior ampliada Ab[n * n+1]\n",
    "    \n",
    "    output: devuelve el vector solución x[n * 1]\n",
    "    \"\"\"    \n",
    "    \n",
    "    n = Ab.shape[0]\n",
    "    x = np.zeros(n)\n",
    "    x[n-1] = Ab[n-1][n] / Ab[n-1][n-1]\n",
    "    for i in range(n-2,-1,-1):\n",
    "        suma = 0\n",
    "        for j in range(i+1, n):\n",
    "            suma = suma + Ab[i][j] * x[j]\n",
    "        x[i] = (Ab[i][n] - suma) / Ab[i][i]\n",
    "    [print(\"x[{0}] = {1:6.4f}\".format(i,x[i])) for i in range(n)]\n",
    "    return x"
   ]
  },
  {
   "cell_type": "markdown",
   "metadata": {},
   "source": [
    "[Volver a la Tabla de Contenido](#TOC)"
   ]
  },
  {
   "cell_type": "markdown",
   "metadata": {},
   "source": [
    "#### Ejemplo teórico algoritmo Eliminación de Gauss simple"
   ]
  },
  {
   "cell_type": "markdown",
   "metadata": {},
   "source": [
    "A manera de ejemplo paso-a-paso, vamos a construir un sistema de $5$ ecuaciones con $5$ incógnitas:\n",
    "\n",
    "\n",
    "$$a_{11}x_1 + a_{12}x_2 + a_{13}x_3 + a_{14}x_4 + a_{15}x_5 = b_1 \\hspace{1 cm} (ec. 1)$$\n",
    "\n",
    "$$a_{21}x_1 + a_{22}x_2 + a_{23}x_3 + a_{24}x_4 + a_{25}x_5 = b_2 \\hspace{1 cm} (ec. 2)$$\n",
    "\n",
    "$$a_{31}x_1 + a_{32}x_2 + a_{33}x_3 + a_{34}x_4 + a_{35}x_5 = b_3 \\hspace{1 cm} (ec. 3)$$\n",
    "\n",
    "$$a_{41}x_1 + a_{42}x_2 + a_{43}x_3 + a_{44}x_4 + a_{45}x_5 = b_4 \\hspace{1 cm} (ec. 4)$$\n",
    "\n",
    "$$a_{51}x_1 + a_{52}x_2 + a_{53}x_3 + a_{54}x_4 + a_{55}x_5 = b_5 \\hspace{1 cm} (ec. 5)$$"
   ]
  },
  {
   "cell_type": "markdown",
   "metadata": {},
   "source": [
    "- ***Eliminación:*** Dado el sistema $\\mathbf{Ax=b}$ se realizan operaciones fundamentales de fila hasta obtener un sistema triangular superior equivalente $\\mathbf{Ux=B}$.\n",
    "\n",
    "> ***Etapa $1$:*** Convertir todos los elementos $a_{i1}=0$ seleccionando un multiplicador de forma adecuada, en este caso $M_{i1}=a_{i1}/a_{11}$ , y calcular la nueva $i$–ésima fila como: $F_i^{(nueva)}=F_{i}−M_{i1} \\times F_1$, con $2\\leq i \\leq n$. \n",
    "\n",
    "\n",
    "> ***Etapa $2$:*** Convertir todos los elementos $a_{i2}=0$ seleccionando un multiplicador de forma adecuada, en este caso $M_{i2}=a_{i2}/a_{22}$ , y calcular la nueva $i$–ésima fila como: $F_i^{(nueva)}=F_{i}−M_{i2} \\times F_2$, con $3\\leq i \\leq n$.\n",
    "\n",
    "\n",
    "> ***Etapa $3$:*** Convertir todos los elementos $a_{i3}=0$ seleccionando un multiplicador de forma adecuada, en este caso $M_{i3}=a_{i3}/a_{33}$ , y calcular la nueva $i$–ésima fila como: $F_i^{(nueva)}=F_{i}−M_{i3} \\times F_3$, con $4\\leq i \\leq n$.\n",
    "\n",
    "\n",
    "> $\\vdots$\n",
    "\n",
    "resultando"
   ]
  },
  {
   "cell_type": "markdown",
   "metadata": {},
   "source": [
    "$$\\begin{matrix} \n",
    "a_{11}x_1 &+& a_{12}x_2 &+& a_{13}x_3 &+& a_{14}x_4 &+& a_{15}x_5 &=& b_1 \\\\ \n",
    "          & & a_{22}^{(1)}x_2 &+& a_{23}^{(1)}x_3 &+& a_{24}^{(1)}x_4 &+& a_{25}^{(1)}x_5 &=& b_2^{(1)} \\\\\n",
    "          & &           & & a_{33}^{(2)}x_3 &+& a_{34}^{(2)}x_4 &+& a_{35}^{(2)}x_5 &=& b_3^{(2)} \\\\\n",
    "          & &           & &           & & a_{44}^{(3)}x_4 &+& a_{45}^{(3)}x_5 &=& b_4^{(3)} \\\\\n",
    "          & &           & &           & &           & & a_{55}^{(4)}x_5 &=& b_5^{(4)} \\\\\n",
    "  \\end{matrix}$$\n",
    "\n",
    "\n",
    "Los superíndices entre paréntesis indican la cantidad de veecs que fue transformado ese término, debido a las operaciones de fila."
   ]
  },
  {
   "cell_type": "markdown",
   "metadata": {},
   "source": [
    "- ***Sustitución Regresiva*** del sistema triangular superior: se halla primero el valor de $𝑥_5$, con este valor se halla $𝑥_4$, con estos dos valores se halla $𝑥_3$ y así sucesivamente hasta obtener el valor de $𝑥_1$."
   ]
  },
  {
   "cell_type": "markdown",
   "metadata": {},
   "source": [
    "$$\\begin{matrix} \n",
    "x_5 &=& \\frac{b_5^{(4)}}{a_{55}^{(4)}}\\\\\n",
    "x_4 &=& \\frac{b_4^{(3)}-a_{45}^{(3)}x_5}{a_{44}^{(3)}} \\\\\n",
    "x_3 &=& \\frac{b_3^{(2)}-a_{34}^{(2)}x_4 - a_{35}^{(2)}x_5}{a_{33}^{(2)}} \\\\\n",
    "x_2 &=& \\frac{b_2^{(1)}-a_{23}^{(1)}x_3 - a_{24}^{(1)}x_4 - a_{25}^{(1)}x_5 }{a_{22}^{(1)}} \\\\\n",
    "x_1 &=& \\frac{b_1 - a_{12}x_2 - a_{13}x_3 - a_{14}x_4 - a_{15}x_5 }{a_{11}} \\\\ \n",
    "  \\end{matrix}$$\n"
   ]
  },
  {
   "cell_type": "markdown",
   "metadata": {},
   "source": [
    "[Volver a la Tabla de Contenido](#TOC)"
   ]
  },
  {
   "cell_type": "markdown",
   "metadata": {},
   "source": [
    "<a id='EjemploNumerico'></a>\n",
    "#### Ejemplo numérico algoritmo Eliminación de Gauss Simple"
   ]
  },
  {
   "cell_type": "markdown",
   "metadata": {},
   "source": [
    "Resolver el sistema $4 \\times 4$:\n",
    "\n",
    "$$6x_1  - 2x_2  + 2x_3 +  4x_4 = 12$$\n",
    "\n",
    "$$12x_1 - 8x_2  + 6x_3 + 10x_4 = 34$$\n",
    "\n",
    "$$3x_1  - 13x_2 + 9x_3 + 3x_4  = 27$$\n",
    "\n",
    "$$-6x_1 + 4x_2  +  x_3 - 18x_4 = -38$$"
   ]
  },
  {
   "cell_type": "markdown",
   "metadata": {},
   "source": [
    "<a id='Multiplicadores'></a>\n",
    "- ***Eliminación:***\n",
    "> ***Etapa $1$:*** Convertir en ceros todos los elementos de la columna $1$ debajo del elemento pivote $(a_{11}=6)$, seleccionando un multiplicador para cada fila, de forma adecuada. En este caso:\n",
    "\n",
    "$$M_{21}=a_{21}/a_{11}=12/6 = 2$$\n",
    "\n",
    "$$M_{31}=a_{31}/a_{11}=3/6 = 1/2$$\n",
    "\n",
    "$$M_{41}=a_{41}/a_{11}=-6/6 = -1$$\n",
    "\n",
    "\n",
    "y calcular:\n",
    "\n",
    "> la nueva $2$a fila como: $F_2^{(nueva)}=F_{2}− M_{21} F_1 = F_{2}− 2 F_1$. \n",
    "\n",
    "> la nueva $3$a fila como: $F_3^{(nueva)}=F_{3}− M_{31} F_1 = F_{3}− F_1/2$. \n",
    "\n",
    "> la nueva $4$a fila como: $F_4^{(nueva)}=F_{4}- M_{41} F_1 = F_{4}- (-1)F_1 = F_{4} + F_1$. \n"
   ]
  },
  {
   "cell_type": "markdown",
   "metadata": {},
   "source": [
    "$$\\begin{matrix} \n",
    "6x_1 &-&  2x_2 &+& 2x_3 &+&  4x_4 &=& 12 \\\\ \n",
    "  0  &-&  4x_2 &+& 2x_3 &+&  2x_4 &=& 10 \\\\\n",
    "  0  &-& 12x_2 &+& 8x_3 &+&   x_4 &=& 21 \\\\\n",
    "  0  & &  2x_2 &+& 3x_3 &-& 14x_4 &=& -26\\\\\n",
    "  \\end{matrix}$$\n"
   ]
  },
  {
   "cell_type": "markdown",
   "metadata": {},
   "source": [
    "> ***Etapa $2$:*** Convertir en ceros todos los elementos de la columna $2$ debajo del elemento pivote $(a_{22}=-4)$, seleccionando un multiplicador para cada fila, de forma adecuada. En este caso:\n",
    "\n",
    "$$M_{32}=a_{32}/a_{22}=-12/-4 = 3$$\n",
    "\n",
    "$$M_{42}=a_{42}/a_{22}= 2/-4 = -1/2$$\n",
    "\n",
    "y calcular \n",
    "\n",
    "> la nueva $3$a fila como: $F_3^{(nueva)}=F_{3}−3 F_2$. \n",
    "\n",
    "> la nueva $4$a fila como: $F_4^{(nueva)}=F_{4}+ F_2/2$. \n"
   ]
  },
  {
   "cell_type": "markdown",
   "metadata": {},
   "source": [
    "$$\\begin{matrix} \n",
    "6x_1 &-&  2x_2 &+& 2x_3 &+&  4x_4 &=& 12 \\\\ \n",
    "  0  &-&  4x_2 &+& 2x_3 &+&  2x_4 &=& 10 \\\\\n",
    "  0  & &    0  & & 2x_3 &-&  5x_4 &=& -9 \\\\\n",
    "  0  & &    0  & & 4x_3 &-& 13x_4 &=& -21\\\\\n",
    "  \\end{matrix}$$"
   ]
  },
  {
   "cell_type": "markdown",
   "metadata": {},
   "source": [
    "> ***Etapa $3$:*** Convertir en ceros todos los elementos de la columna $3$ debajo del elemento pivote $(a_{33}=2)$, seleccionando un multiplicador de forma adecuada. En este caso:\n",
    "\n",
    "$$M_{43}=a_{43}/a_{33}=4/2 = 2$$\n",
    "\n",
    "y calcular la nueva $4$a fila como: $F_4^{(nueva)}=F_{4}−2 F_3$. "
   ]
  },
  {
   "cell_type": "markdown",
   "metadata": {},
   "source": [
    "<a id='MEliminada'></a>\n",
    "$$\\begin{matrix} \n",
    "6x_1 &-&  2x_2 &+& 2x_3 &+&  4x_4 &=& 12 \\\\ \n",
    "  0  &-&  4x_2 &+& 2x_3 &+&  2x_4 &=& 10 \\\\\n",
    "  0  & &    0  & & 2x_3 &-&  5x_4 &=& -9 \\\\\n",
    "  0  & &    0  & &  0   &-&  3x_4 &=& -3 \\\\\n",
    "  \\end{matrix}$$"
   ]
  },
  {
   "cell_type": "markdown",
   "metadata": {},
   "source": [
    "Se observa que el sistema resultante es triangular superior.\n",
    "\n",
    "Por último, aplicando el algoritmo de la *sustitución regresiva*:"
   ]
  },
  {
   "cell_type": "markdown",
   "metadata": {},
   "source": [
    "$$\\begin{matrix} \n",
    "x_4 &=& \\frac{-3}{3}= 1\\\\\n",
    "x_3 &=& \\frac{-9+5 \\times 1}{2} = -2 \\\\\n",
    "x_2 &=& \\frac{10-2(2)-2(1)}{-4} = -3\\\\\n",
    "x_1 &=& \\frac{12+2(-3)-2(-2)-4(1)}{6}=1\\\\\n",
    "\\end{matrix}$$\n"
   ]
  },
  {
   "cell_type": "markdown",
   "metadata": {},
   "source": [
    "[Volver a la Tabla de Contenido](#TOC)"
   ]
  },
  {
   "cell_type": "markdown",
   "metadata": {},
   "source": [
    "#### Ejemplo computacional algoritmo de Eliminación de Gauss Simple"
   ]
  },
  {
   "cell_type": "markdown",
   "metadata": {},
   "source": [
    "Vamos a resolver el problema usando programación en el lenguaje `Python`. Se importarán algunas bibliotecas matemáticas para trabajar con arreglos en vez de listas."
   ]
  },
  {
   "cell_type": "code",
   "execution_count": 3,
   "metadata": {},
   "outputs": [],
   "source": [
    "import numpy as np\n",
    "import matplotlib.pyplot as plt"
   ]
  },
  {
   "cell_type": "markdown",
   "metadata": {},
   "source": [
    "usando los algoritmos vistos:\n",
    "\n",
    "- Lea la matriz de coeficientes $\\mathbf{A}$ y el vector de términos independientes $\\mathbf{b}$\n",
    "\n",
    "\n",
    "- Realice el proceso de eliminación para obtener la matríz triangular superior\n",
    "\n",
    "\n",
    "- Realice el proceso de sustitución regresiva para obtener el vector solución\n",
    "\n",
    "Generando la matriz de coeficientes $\\mathbf{A}$ y el vector de términos independientes $\\mathbf{b}$:"
   ]
  },
  {
   "cell_type": "code",
   "execution_count": 4,
   "metadata": {},
   "outputs": [
    {
     "name": "stdout",
     "output_type": "stream",
     "text": [
      "[[  6.  -2.   2.   4.]\n",
      " [ 12.  -8.   6.  10.]\n",
      " [  3. -13.   9.   3.]\n",
      " [ -6.   4.   1. -18.]]\n"
     ]
    }
   ],
   "source": [
    "#Ingreso de la matriz de coeficientes A, de forma manual\n",
    "\n",
    "A = np.array([[ 6., - 2, 2,   4],\n",
    "              [12, - 8, 6,  10],\n",
    "              [ 3, -13, 9,   3],\n",
    "              [-6,   4, 1, -18]])\n",
    "print(A)"
   ]
  },
  {
   "cell_type": "code",
   "execution_count": 5,
   "metadata": {},
   "outputs": [
    {
     "name": "stdout",
     "output_type": "stream",
     "text": [
      "[ 12.  34.  27. -38.]\n"
     ]
    }
   ],
   "source": [
    "# Ingreso del vector de términos independientes b, de forma manual\n",
    "b = np.array([12., 34, 27, -38])\n",
    "print(b)"
   ]
  },
  {
   "cell_type": "markdown",
   "metadata": {},
   "source": [
    "Creando la matriza aumentada $[\\mathbf{A}|\\mathbf{b}]$"
   ]
  },
  {
   "cell_type": "code",
   "execution_count": 6,
   "metadata": {},
   "outputs": [
    {
     "name": "stdout",
     "output_type": "stream",
     "text": [
      "[[  6.  -2.   2.   4.  12.]\n",
      " [ 12.  -8.   6.  10.  34.]\n",
      " [  3. -13.   9.   3.  27.]\n",
      " [ -6.   4.   1. -18. -38.]]\n",
      "(4, 5)\n"
     ]
    }
   ],
   "source": [
    "Ab = np.c_[A,b]\n",
    "print(Ab)\n",
    "print(np.shape(Ab))"
   ]
  },
  {
   "cell_type": "markdown",
   "metadata": {},
   "source": [
    "[Volver a la Tabla de Contenido](#TOC)"
   ]
  },
  {
   "cell_type": "markdown",
   "metadata": {},
   "source": [
    "- ***Proceso de Eliminación***"
   ]
  },
  {
   "cell_type": "code",
   "execution_count": 7,
   "metadata": {
    "scrolled": false
   },
   "outputs": [
    {
     "name": "stdout",
     "output_type": "stream",
     "text": [
      "\n",
      "\n",
      "Etapa 1 Eliminación columna:  1 \n",
      "\n",
      "\n",
      " [[  6.  -2.   2.   4.  12.]\n",
      " [  0.  -4.   2.   2.  10.]\n",
      " [  3. -13.   9.   3.  27.]\n",
      " [ -6.   4.   1. -18. -38.]]\n",
      "\n",
      " [[  6.  -2.   2.   4.  12.]\n",
      " [  0.  -4.   2.   2.  10.]\n",
      " [  0. -12.   8.   1.  21.]\n",
      " [ -6.   4.   1. -18. -38.]]\n",
      "\n",
      " [[  6.  -2.   2.   4.  12.]\n",
      " [  0.  -4.   2.   2.  10.]\n",
      " [  0. -12.   8.   1.  21.]\n",
      " [  0.   2.   3. -14. -26.]]\n",
      "\n",
      "\n",
      "Etapa 2 Eliminación columna:  2 \n",
      "\n",
      "\n",
      " [[  6.  -2.   2.   4.  12.]\n",
      " [  0.  -4.   2.   2.  10.]\n",
      " [  0.   0.   2.  -5.  -9.]\n",
      " [  0.   2.   3. -14. -26.]]\n",
      "\n",
      " [[  6.  -2.   2.   4.  12.]\n",
      " [  0.  -4.   2.   2.  10.]\n",
      " [  0.   0.   2.  -5.  -9.]\n",
      " [  0.   0.   4. -13. -21.]]\n",
      "\n",
      "\n",
      "Etapa 3 Eliminación columna:  3 \n",
      "\n",
      "\n",
      " [[ 6. -2.  2.  4. 12.]\n",
      " [ 0. -4.  2.  2. 10.]\n",
      " [ 0.  0.  2. -5. -9.]\n",
      " [ 0.  0.  0. -3. -3.]]\n"
     ]
    }
   ],
   "source": [
    "Ab = eliminacion(Ab)"
   ]
  },
  {
   "cell_type": "markdown",
   "metadata": {},
   "source": [
    "[Volver a la Tabla de Contenido](#TOC)"
   ]
  },
  {
   "cell_type": "markdown",
   "metadata": {},
   "source": [
    "- ***Proceso de Sustitución regresiva***"
   ]
  },
  {
   "cell_type": "code",
   "execution_count": 9,
   "metadata": {},
   "outputs": [
    {
     "name": "stdout",
     "output_type": "stream",
     "text": [
      "x[0] = 1.0000\n",
      "x[1] = -3.0000\n",
      "x[2] = -2.0000\n",
      "x[3] = 1.0000\n"
     ]
    }
   ],
   "source": [
    "x = sustitucionReg(Ab)"
   ]
  },
  {
   "cell_type": "markdown",
   "metadata": {},
   "source": [
    "Resolviendo el *SEL* por el método que incorpora `Python` por defecto:"
   ]
  },
  {
   "cell_type": "code",
   "execution_count": 10,
   "metadata": {},
   "outputs": [
    {
     "name": "stdout",
     "output_type": "stream",
     "text": [
      "[ 1. -3. -2.  1.]\n"
     ]
    }
   ],
   "source": [
    "x = np.linalg.solve(A,b)\n",
    "print(x)"
   ]
  },
  {
   "cell_type": "markdown",
   "metadata": {},
   "source": [
    "Comprobando que la solución es correcta, multiplicando el vector solución por la matriz de coeficientes para obtener el vector de términos independientes, es decir:\n",
    "\n",
    "$$\\mathbf{Ax=b}$$"
   ]
  },
  {
   "cell_type": "code",
   "execution_count": 11,
   "metadata": {},
   "outputs": [
    {
     "data": {
      "text/plain": [
       "array([False,  True, False,  True])"
      ]
     },
     "execution_count": 11,
     "metadata": {},
     "output_type": "execute_result"
    }
   ],
   "source": [
    "A.dot(x) == b"
   ]
  },
  {
   "cell_type": "code",
   "execution_count": 12,
   "metadata": {},
   "outputs": [
    {
     "name": "stdout",
     "output_type": "stream",
     "text": [
      "[ 12.  34.  27. -38.]\n"
     ]
    }
   ],
   "source": [
    "print(A.dot(x))"
   ]
  },
  {
   "cell_type": "code",
   "execution_count": 13,
   "metadata": {},
   "outputs": [
    {
     "name": "stdout",
     "output_type": "stream",
     "text": [
      "[ 12.  34.  27. -38.]\n"
     ]
    }
   ],
   "source": [
    "print(b)"
   ]
  },
  {
   "cell_type": "markdown",
   "metadata": {},
   "source": [
    "[Volver a la Tabla de Contenido](#TOC)"
   ]
  },
  {
   "cell_type": "markdown",
   "metadata": {
    "collapsed": true
   },
   "source": [
    "### Método de Gauss - Jordan"
   ]
  },
  {
   "cell_type": "markdown",
   "metadata": {
    "collapsed": true
   },
   "source": [
    "El método de eliminación de [*Gauss - Jordan*](https://es.wikipedia.org/wiki/Eliminaci%C3%B3n_de_Gauss-Jordan) consiste básicamente en continuar con el proceso de eliminación dado en el algoritmo de eliminación simple de Gauss, hasta obtener una matriz diagonal (únicamente tiene elementos diferentes de cero en la diagonal principal) o identidad (únicamente contiene los elementos de la diagonal principal diferentes a 0 e iguales a 1)"
   ]
  },
  {
   "cell_type": "markdown",
   "metadata": {},
   "source": [
    "$$\\begin{matrix} \n",
    "a_{11}^{(7)}x_1 & &    0       & &   0       & &  0         &=& b_{1}^{(7)}  \\\\ \n",
    "  0       & &  a_{22}^{(6)}x_2 & &   0       & &  0         &=& b_{2}^{(6)} \\\\\n",
    "  0       & &    0       & & a_{33}^{(5)}x_3 & &  0         &=& b_{3}^{(5)} \\\\\n",
    "  0       & &    0       & &   0       & &  a_{44}^{(4)}x_4 &=& b_{4}^{(4)} \\\\\n",
    "  \\end{matrix}$$"
   ]
  },
  {
   "cell_type": "markdown",
   "metadata": {},
   "source": [
    "La solución del sistema es \"inmediata\":"
   ]
  },
  {
   "cell_type": "markdown",
   "metadata": {},
   "source": [
    "$$\\begin{matrix} \n",
    "x_1 &=& \\frac{b_{1}^{(7)}}{a_{11}^{(7)}}  \\\\ \n",
    "x_2 &=& \\frac{b_{2}^{(7)}}{a_{22}^{(6)}}  \\\\ \n",
    "x_3 &=& \\frac{b_{3}^{(7)}}{a_{33}^{(5)}}  \\\\ \n",
    "x_4 &=& \\frac{b_{4}^{(7)}}{a_{44}^{(4)}}  \\\\ \n",
    "\\end{matrix}$$"
   ]
  },
  {
   "cell_type": "markdown",
   "metadata": {},
   "source": [
    "Continuando con el ejemplo anterior:"
   ]
  },
  {
   "cell_type": "markdown",
   "metadata": {},
   "source": [
    "$$\\begin{matrix} \n",
    "6x_1 &-&  2x_2 &+& 2x_3 &+&  4x_4 &=& 12 \\\\ \n",
    "  0  &-&  4x_2 &+& 2x_3 &+&  2x_4 &=& 10 \\\\\n",
    "  0  & &    0  & & 2x_3 &-&  5x_4 &=& -9 \\\\\n",
    "  0  & &    0  & &  0   &-&  3x_4 &=& -3 \\\\\n",
    "  \\end{matrix}$$"
   ]
  },
  {
   "cell_type": "markdown",
   "metadata": {},
   "source": [
    "Se emplea el mismo algoritmo que se venía utilizando, pero ahora se empezará desde la columna $4$, fila $1$, y se eliminan todos los elementos hasta el elemento que está encima del elemento pivote. Una vez eliminados todos los elementos encima del pivote, se continua con la columna $3$ y así sucesivamente hasta la columna $2$."
   ]
  },
  {
   "cell_type": "markdown",
   "metadata": {},
   "source": [
    "- <strong>*Etapa $4$*:</strong> Convertir en ceros todos los elementos de la columna $4$ encima del elemento pivote $(a_{44}=-3)$, seleccionando un multiplicador para cada fila, de forma adecuada. En este caso:\n",
    "\n",
    "> $M_{14} = a_{14}/a_{44} =  4/(-3)$\n",
    "\n",
    "> $M_{24} = a_{24}/a_{44} =  2/(-3)$ \n",
    "\n",
    "> $M_{34} = a_{34}/a_{44} = -5/(-3)$ \n",
    "\n",
    "\n",
    "y calcular:\n",
    "\n",
    "> la nueva $1$a fila como: $F_1^{(nueva)}=F_{1}− M_{14} F_4 = F_{1} + 4/3 F_4$. \n",
    "\n",
    "> la nueva $2$a fila como: $F_2^{(nueva)}=F_{2}− M_{24} F_4 = F_{2} + 2/3 F_4$. \n",
    "\n",
    "> la nueva $3$a fila como: $F_3^{(nueva)}=F_{3}- M_{34} F_4 = F_{3} - 5/3 F_4 $. "
   ]
  },
  {
   "cell_type": "markdown",
   "metadata": {},
   "source": [
    "$$\\begin{matrix} \n",
    "6x_1 &-&  2x_2 &+& 2x_3 & &     0 &=&  8 \\\\ \n",
    "  0  &-&  4x_2 &+& 2x_3 & &     0 &=&  8 \\\\\n",
    "  0  & &    0  & & 2x_3 & &     0 &=& -4 \\\\\n",
    "  0  & &    0  & &  0   &-&  3x_4 &=& -3 \\\\\n",
    "  \\end{matrix}$$"
   ]
  },
  {
   "cell_type": "markdown",
   "metadata": {},
   "source": [
    "- <strong>*Etapa $5$*:</strong> Convertir en ceros todos los elementos de la columna $3$ encima del elemento pivote $(a_{33}=2)$, seleccionando un multiplicador para cada fila, de forma adecuada. En este caso:\n",
    "\n",
    "> $M_{13} = a_{13}/a_{33} = 2/2 = 1$ \n",
    "\n",
    "> $M_{23} = a_{23}/a_{33} = 2/2 = 1$ \n",
    "\n",
    "y calcular \n",
    "\n",
    "> la nueva $1$a fila como: $F_1^{(nueva)} = F_{1} − F_3$. \n",
    "\n",
    "> la nueva $2$a fila como: $F_2^{(nueva)} = F_{2} - F_3$. \n"
   ]
  },
  {
   "cell_type": "markdown",
   "metadata": {},
   "source": [
    "$$\\begin{matrix} \n",
    "6x_1 &-&  2x_2 & & 0    & &     0 &=&  12 \\\\ \n",
    "  0  &-&  4x_2 & & 0    & &     0 &=&  12 \\\\\n",
    "  0  & &    0  & & 2x_3 & &     0 &=& -4 \\\\\n",
    "  0  & &    0  & &  0   &-&  3x_4 &=& -3 \\\\\n",
    "  \\end{matrix}$$"
   ]
  },
  {
   "cell_type": "markdown",
   "metadata": {},
   "source": [
    "- <strong>*Etapa $6$*:</strong> Convertir en ceros todos los elementos de la columna $2$ encima del elemento pivote $(a_{22}=-4)$, seleccionando un multiplicador de forma adecuada. En este caso:\n",
    "\n",
    "> $M_{12} = a_{12}/a_{22} = -2/-4 = 1/2$ \n",
    "\n",
    "y calcular la nueva $1$a fila como: $F_1^{(nueva)}=F_{1}− F_2/2$. "
   ]
  },
  {
   "cell_type": "markdown",
   "metadata": {},
   "source": [
    "$$\\begin{matrix} \n",
    "6x_1 & &     0 & & 0    & &     0 &=&  6 \\\\ \n",
    "  0  &-&  4x_2 & & 0    & &     0 &=&  12 \\\\\n",
    "  0  & &    0  & & 2x_3 & &     0 &=& -4 \\\\\n",
    "  0  & &    0  & &  0   &-&  3x_4 &=& -3 \\\\\n",
    "  \\end{matrix}$$"
   ]
  },
  {
   "cell_type": "markdown",
   "metadata": {},
   "source": [
    "La solución es inmediata:"
   ]
  },
  {
   "cell_type": "markdown",
   "metadata": {},
   "source": [
    "$$\\begin{matrix} \n",
    "x_1 &=& \\frac{6}{6} &=& 1 \\\\ \n",
    "x_2 &=& \\frac{12}{-4} &=& -3  \\\\ \n",
    "x_3 &=& \\frac{-4}{-2} &=& -2  \\\\ \n",
    "x_4 &=& \\frac{-3}{-3} &=& 1  \\\\ \n",
    "\\end{matrix}$$"
   ]
  },
  {
   "cell_type": "markdown",
   "metadata": {},
   "source": [
    "<div class=\"alert alert alert-success\">\n",
    "$\\color{red}{\\textbf{Laboratorio computacional:}}$ \n",
    "    \n",
    "- Implemente el algoritmo del método de eliminación de Gauss - Jordan (Emplee el algoritmo de eliminación dado como punto de partida). \n",
    "    \n",
    "- Realice un análisis comparativo de la cantidad de operaciones necesarias en cada uno de ellos. ¿Cuál considera qué es mejor? ¿Por qué? ¿Qué criterios tuvo en cuenta para dicho análisis.\n",
    "    \n",
    "- ¿En qué casos emplearía un método u otro? ¿Por qué?\n",
    "</div>\n"
   ]
  },
  {
   "cell_type": "markdown",
   "metadata": {},
   "source": [
    "[Volver a la Tabla de Contenido](#TOC)"
   ]
  },
  {
   "cell_type": "markdown",
   "metadata": {},
   "source": [
    "### Aspectos computacionales, inconvenitentes de los métodos de eliminación"
   ]
  },
  {
   "cell_type": "markdown",
   "metadata": {},
   "source": [
    "#### Análisis de desempeño algoritmo de Eliminación de Gauss Simple"
   ]
  },
  {
   "cell_type": "markdown",
   "metadata": {},
   "source": [
    "La cantidad de operaciones (sumas, restas, multiplicaciones y/o divisiones) que hay qué realizar para alcanzar el sistema triangular superior (eliminación) de $n$ ecuaciones, es de\n",
    "\n",
    "$$\\frac{3(n-1)n}{2}+\\frac{(n-1)n(2n-1)}{3}$$\n",
    "\n",
    "y para efectuar el proceso de sustitución regresiva (solución del sistema) se requieren de $n^2$ operaciones aritméticas. \n",
    "\n",
    "En total, para resolver un *SEL* empleando el método de Eliminación de Gauss simple (sin contabilizar las operaciones de pivoteo) es de:\n",
    "\n",
    "$$\\frac{4n^3+9n^2-7n}{6}$$\n",
    "\n",
    "Esta expresión se puede escribir de forma mas compacta como:\n",
    "\n",
    "$$ \\frac{2n^3}{3}+O(n^2)$$\n",
    "\n",
    "La anterior ecuación indica que el número de [operaciones de punto flotante por segundo](https://en.wikipedia.org/wiki/FLOPS \"flops\") (flops, en inglés) es del orden de $n^3$ más una componente de orden $n^2$ y menores. Es decir, para resolver un sistema de 10 ecuaciones con 10 incógnitas por el método de Eliminacion de Gauss se requieren del orden de 800 operaciones aritméticas. En la siguiente tabla se observa un resumen de las magnitudes de operaciones dependiendo del orden de $n$.\n",
    "\n",
    "|  n   | Eliminación | Sust. atrás | flops | 2$n^3$/3 | % elim. |\n",
    "|-----:|------------:|------------:|-----:|----------------:|-------:|\n",
    "| 10   |      375    |     55      |   430 |    333           |  87.21% |\n",
    "| 100  |   338250    |   5050      | 343300 |   333333           |  98.53% |\n",
    "| 1000 | 3.34$\\times 10^8$ | 500500| 3.34 $\\times 10^8$ | 3.33$\\times 10^8$|  99.85% |\n",
    "\n",
    "\n",
    "<div style=\"text-align: right\"> Fuente: <a href=\"http://artemisa.unicauca.edu.co/~cardila/Chapra.pdf\">Chapra, S., Canale, R. Métodos Numéricos para ingenieros, 5a Ed. Mc. Graw Hill. 2007</a> </div>\n"
   ]
  },
  {
   "cell_type": "markdown",
   "metadata": {},
   "source": [
    "[Volver a la Tabla de Contenido](#TOC)"
   ]
  },
  {
   "cell_type": "markdown",
   "metadata": {},
   "source": [
    "#### División entre cero"
   ]
  },
  {
   "cell_type": "markdown",
   "metadata": {},
   "source": [
    "Se presenta cuando un elemento de la diagonal principal es cero, $a_{ii}=0$ ($i=1,2,3,\\ldots, n$). Se evita realizando un procedimiento de pivoteo, parcial o total, de filas y/o columnas. Esta técnica se verá en otro apartado más adelante."
   ]
  },
  {
   "cell_type": "markdown",
   "metadata": {},
   "source": [
    "[Volver a la Tabla de Contenido](#TOC)"
   ]
  },
  {
   "cell_type": "markdown",
   "metadata": {},
   "source": [
    "#### Errores de redondeo"
   ]
  },
  {
   "cell_type": "markdown",
   "metadata": {},
   "source": [
    "Observando la respuesta del ejemplo anterior y haciendo la comparación $\\mathbf{Ax=b}$, se observa que uno puede llegar a pensar que efectivamente la solución encontrada es la solución del sistema en custión. Pero realizando una comprobación computacional, evaluando la igualdad dada por el sistema, se tiene:"
   ]
  },
  {
   "cell_type": "code",
   "execution_count": 14,
   "metadata": {},
   "outputs": [
    {
     "data": {
      "text/plain": [
       "array([False,  True, False,  True])"
      ]
     },
     "execution_count": 14,
     "metadata": {},
     "output_type": "execute_result"
    }
   ],
   "source": [
    "A.dot(x) == b"
   ]
  },
  {
   "cell_type": "markdown",
   "metadata": {},
   "source": [
    "Se observa que hay dos componentes que no cumplen con la igualdad."
   ]
  },
  {
   "cell_type": "code",
   "execution_count": 15,
   "metadata": {},
   "outputs": [
    {
     "name": "stdout",
     "output_type": "stream",
     "text": [
      "bGS[0] = 11.99999999999999644729\n",
      "bGS[1] = 34.00000000000000000000\n",
      "bGS[2] = 27.00000000000000710543\n",
      "bGS[3] = -38.00000000000000000000\n"
     ]
    }
   ],
   "source": [
    "bGS = A.dot(x)\n",
    "[print(\"bGS[{0}] = {1:6.20f}\".format(i,bGS[i])) for i in range(len(x))];"
   ]
  },
  {
   "cell_type": "code",
   "execution_count": 16,
   "metadata": {},
   "outputs": [
    {
     "name": "stdout",
     "output_type": "stream",
     "text": [
      "error[0] = 0.00000000000002960595\n",
      "error[1] = 0.00000000000000000000\n",
      "error[2] = 0.00000000000002631640\n",
      "error[3] = 0.00000000000000000000\n"
     ]
    }
   ],
   "source": [
    "# Error relativo %\n",
    "[print(\"error[{0}] = {1:6.20f}\".format(i,abs(bGS[i]-b[i])/abs(b[i])*100)) for i in range(len(x))];"
   ]
  },
  {
   "cell_type": "markdown",
   "metadata": {},
   "source": [
    "La discrepancia, aunque pequeña en este simple ejemplo, es debida al redondeo realizado en las diferentes operaciones aplicadas. Si se hubiera trabajado con fraccionarios en lugar de decimales, evitando los errores de redondeo, la respuesta hubiera sido exacta."
   ]
  },
  {
   "cell_type": "markdown",
   "metadata": {},
   "source": [
    "[Volver a la Tabla de Contenido](#TOC)"
   ]
  },
  {
   "cell_type": "markdown",
   "metadata": {},
   "source": [
    "#### Condicionamiento del sistema"
   ]
  },
  {
   "cell_type": "markdown",
   "metadata": {},
   "source": [
    "Los sistemas bien condicionados son aquellos en los que un pequeño cambio en alguno de los coeficientes de la matriz $\\mathbf{A}$ provoca un cambio pequeño en la solución. Lo contrario serían los sistemas mal condicionados. Una interpretación alternativa puede ser que un amplio rango de resultados puede satisfacer las ecuaciones en forma aproximada, como es el caso cuando se emplean computadores para la solución.\n",
    "\n",
    "- ***Ejemplo:*** Resolver el siguiente SEL\n",
    "\n",
    "$$x_1 + 2x_2 = 10 $$\n",
    "$$1.1 x_1 + 2x_2 = 10.4 $$\n",
    "\n",
    "La solución es inmediata:\n",
    "\n",
    "$$x_1=\\frac{2(10)-2(10.4)}{1(2)-2(1.1)}=4$$\n",
    "$$x_2=\\frac{1(10.4)-1.1(10)}{1(2)-2(1.1)}=3$$\n",
    "\n",
    "Ahora realizando un pequeño cambio en el coeficiente $a_{21}$ de $1.1$ a $1.05$, el resultado es:\n",
    "\n",
    "$$x_1=\\frac{2(10)-2(10.4)}{1(2)-2(1.0.5)}=8$$\n",
    "$$x_2=\\frac{1(10.4)-1.1(10)}{1(2)-2(1.0.5)}=1$$\n",
    "\n",
    "La diferencia en los resultados se da porque en el denominador se tiene la resta de dos números casi iguales, este tipo de diferencia es muy sensible a pequeños cambios en las cantidades empleadas.\n",
    "\n",
    "En un sistema mal condicionado, las pendientes de las rectas son casi iguales, y visualmente es difícil percibir el punto exacto donde se cruzan. Revisemos matemáticamente esta situación. Escribiendo un sistema $2\\times2$ de forma general, se tiene:\n",
    "\n",
    "$$a_{11}x_1 + a_{12}x_2 = b_1 $$\n",
    "$$a_{21}x_1 + a_{22}x_2 = b_2 $$\n",
    "\n",
    "Reescribiendo estas ecuaciones en la forma alternativa:\n",
    "\n",
    "$$x_2=-\\frac{a_{11}}{a_{12}}x_1+\\frac{b_1}{a_{12}}$$\n",
    "$$x_2=-\\frac{a_{21}}{a_{22}}x_1+\\frac{b_2}{a_{22}}$$\n",
    "\n",
    "y si las pendientes son casi iguales,\n",
    "\n",
    "$$\\frac{a_{11}}{a_{12}}\\approx \\frac{a_{21}}{a_{22}}$$\n",
    "\n",
    "llegando finalmente a\n",
    "\n",
    "$$a_{11}a_{22}-a_{12}a_{21}\\approx 0$$\n",
    "\n",
    "Recordando del curso de Algebra Lineal, el [determinante](https://en.wikipedia.org/wiki/Determinant) de un sistema $2\\times2$ es justamente $a_{11}a_{22}-a_{12}a_{21}$, por lo que se concluye que ***un sistema mal condicionado es aquel cuyo determinante es cercano a cero***."
   ]
  },
  {
   "cell_type": "markdown",
   "metadata": {},
   "source": [
    "[Volver a la Tabla de Contenido](#TOC)"
   ]
  },
  {
   "cell_type": "markdown",
   "metadata": {},
   "source": [
    "<a id='Escalamiento'></a>\n",
    "#### Escalamiento "
   ]
  },
  {
   "cell_type": "markdown",
   "metadata": {},
   "source": [
    "La gran pregunta a ser resuelta del ítem anterior es: \"***qué es estar cerca al cero***\". Esto es más complicado aún porque el valor del determinante puede variar al multiplicar las ecuaciones involucradas por algún factor de escalamiento sin alterar la solución del sistema. \n",
    "\n",
    "- ***Ejemplo:***\n",
    "\n",
    "Tomando como ejemplo el mismo sistema $2\\times2$ del ejemplo anterior, se encuentra que su determinante es:\n",
    "\n",
    "$$D=|1(2)-2(1.1)|=0.2$$\n",
    "\n",
    "Se corrobora que su determinante al ser relativamente cercano a cero se tiene un sistema mal condicionado. Ahora si multiplicamos todo el sistema por un factor de $10$, se tiene:\n",
    "\n",
    "$$10x_1 + 20x_2 = 100 $$\n",
    "$$11x_1 + 20x_2 = 104 $$\n",
    "\n",
    "y su determinante es:\n",
    "\n",
    "$$D=|10(20)-20(11)|=20 \\gg 0$$\n",
    "\n",
    "que efectivamente podemos afirmar es mucho mayor que cero, pero aún persiste el problema del mal condicionamiento, pues la solución es la misma."
   ]
  },
  {
   "cell_type": "markdown",
   "metadata": {},
   "source": [
    "[Volver a la Tabla de Contenido](#TOC)"
   ]
  },
  {
   "cell_type": "markdown",
   "metadata": {},
   "source": [
    "### Técnicas para mejorar la solución en los métodos de Eliminación"
   ]
  },
  {
   "cell_type": "markdown",
   "metadata": {},
   "source": [
    "#### Escalamiento"
   ]
  },
  {
   "cell_type": "markdown",
   "metadata": {},
   "source": [
    "Como se observó en el numeral anterior, el efecto del escalamiento esconde lo que realmente puede suceder en un sistema mal condicionado. Para evitar dicho inconveniente, se puede escalar cada una de las ecuaciones de tal manera que el máximo valor de cualquiera de los coeficientes de dicha ecuación sea igual a $1$. Esto se hace simplemente dividiendo por el valor del mayor coeficiente presente en cada ecuación.\n",
    "\n",
    "- ***Ejemplo:***\n",
    "\n",
    "Realizando el escalamiento en el sistema de ecuaciones\n",
    "\n",
    "$$x_1 + 2x_2 = 10 $$\n",
    "$$1.1 x_1 + 2x_2 = 10.4 $$\n",
    "\n",
    "dividiendo por $2$ ambas ecuaciones, para que el mayor coeficiente sea $1.0$ en cada una de las dos ecuaciones, resultado en\n",
    "\n",
    "$$0.5x_1 + x_2 = 5 $$\n",
    "$$0.55 x_1 + x_2 = 5.2 $$\n",
    "\n",
    "cuyo determinante es \n",
    "\n",
    "$$D=|0.5(1)-1(0.55)|=0.05$$\n",
    "\n",
    "y ahora realizando el cálculo del determinante sobre las ecuaciones afectadas por un factor de $10$, se llega al mismo resultado: $0.05$ y se evidencia claramente la dificultad del mal condicionamiento del sistema.\n"
   ]
  },
  {
   "cell_type": "markdown",
   "metadata": {},
   "source": [
    "[Volver a la Tabla de Contenido](#TOC)"
   ]
  },
  {
   "cell_type": "markdown",
   "metadata": {},
   "source": [
    "#### Pivoteo"
   ]
  },
  {
   "cell_type": "markdown",
   "metadata": {},
   "source": [
    "El [pivote](https://en.wikipedia.org/wiki/Pivot_element \"pivote\") es el elemento de una matriz que se selecciona primero mediante un algoritmo (por ejemplo, eliminación gaussiana, algoritmo simplex, etc.), para realizar ciertos cálculos. En este tema, el elemento pivote será el elemento que se encuentra en la posición $a_{ii}$, correspondiente a la diagonal principal.\n",
    "\n",
    "Antes de empezar con el proceso de eliminación, es conveniente determinar si existe algún elemento igual, o cercano, a cero en los elementos de la diagonal principal ($a_{ii}\\approx 0$), ya que esto ocasionará grandes errores de redondeo, afectando por lo tanto la solución. En caso afirmativo, la solución a este problema es casi obvia: si el elemento de la diagonal principal, $a_{ii}=0$ en la etapa $k$, entonces intercambie la fila $k$ del sistema con alguna fila posterior cuya entrada $a_{ii} \\neq0$. Tal intercambio no altera la solución del sistema. Con una entrada diagonal distinta de cero como pivote, el proceso puede continuar como de costumbre.\n",
    "\n",
    "En principio, cualquier valor distinto de cero servirá como pivote para calcular los multiplicadores, pero en la práctica la elección debe hacerse con cierto cuidado para minimizar el error. Cuando la porción restante de la matriz se multiplica por la matriz de eliminación elemental resultante, debemos intentar limitar el crecimiento de las entradas de la matriz transformada para no amplificar los errores de redondeo. Por esta razón, es deseable que los multiplicadores no excedan de $1$ en magnitud. Este requisito se puede cumplir eligiendo la entrada de mayor magnitud en o debajo de la diagonal como pivote, tal como se explicó en el apartado de [escalamiento](#Escalamiento). Esta política se denomina pivoteo parcial y es esencial en la práctica para una implementación numéricamente estable de la eliminación gaussiana para sistemas lineales generales.\n",
    "\n",
    "- ***Ejemplo:*** Revise el ejemplo 9.9 propuesto en el libro de Chapra y Canale.\n"
   ]
  },
  {
   "cell_type": "markdown",
   "metadata": {},
   "source": [
    "[Volver a la Tabla de Contenido](#TOC)"
   ]
  },
  {
   "cell_type": "markdown",
   "metadata": {},
   "source": [
    "<div class=\"alert alert alert-success\">\n",
    "$\\color{red}{\\textbf{Laboratorio computacional:}}$ \n",
    "    \n",
    "- Complemente los algoritmos computacionales vistos en la primera parte del capítulo con la rutina de Pivoteo. (***Ayuda:*** Ver la figura 9.6 del libro de Chapra y Canale, p. 272)\n",
    "</div>\n"
   ]
  },
  {
   "cell_type": "markdown",
   "metadata": {},
   "source": [
    "[Volver a la Tabla de Contenido](#TOC)"
   ]
  },
  {
   "cell_type": "markdown",
   "metadata": {},
   "source": [
    "### Eliminación LU"
   ]
  },
  {
   "cell_type": "markdown",
   "metadata": {},
   "source": [
    "#### Introducción"
   ]
  },
  {
   "cell_type": "markdown",
   "metadata": {},
   "source": [
    "Como se indicó al comienzo de este capítulo, el método de [Eliminación de Gauss simple](#EGS) se emplea para resolver sistemas de ecuaciones lineales de la forma $\\mathbf{Ax=b}$. A pesar de ser un método bastante simple para ser aplicado, no está exento de inconvenientes. A la ineficiencia en el desempeño computacional y posibilidades de errores numéricos debido al redondeo, se le suma lo poco práctico al momento de resolver sistemas en los que el vector de términos independientes $\\mathbf{b}$ es diferente en cada problema a desarrollar, manteniendo la matriz de coeficientes $\\mathbf{A}$ la misma. Este es un típico problema que se presenta cuando se quiere evaluar el comportamiento de un sistema físico al cambiar únicamente las condiciones de frontera y/o iniciales. "
   ]
  },
  {
   "cell_type": "markdown",
   "metadata": {},
   "source": [
    "[Volver a la Tabla de Contenido](#TOC)"
   ]
  },
  {
   "cell_type": "markdown",
   "metadata": {},
   "source": [
    "#### Determinación de la descomposición LU "
   ]
  },
  {
   "cell_type": "markdown",
   "metadata": {},
   "source": [
    "Este proceso de eliminación también es conocido como factorización, o descomposición, $\\mathbf{LU}$ porque descompone la matriz $\\mathbf{A}$ en un producto de una matriz triangular inferior unitaria, $\\mathbf{L}$, y una matriz triangular superior, $\\mathbf{U}$. \n",
    "\n",
    "En forma matricial, al sistema $\\mathbf{Ax=b}$ lo podemos reordenar como\n",
    "\n",
    "$$[\\mathbf{A}]\\{\\mathbf{x}\\}-\\{\\mathbf{b}\\}=\\{\\mathbf{0}\\}$$\n",
    "\n",
    "Ahora supongamos que podemos expresar el proceso de eliminación de la forma\n",
    "\n",
    "$$[\\mathbf{U}]\\{\\mathbf{x}\\}-\\{\\mathbf{d}\\}=\\{\\mathbf{0}\\}$$\n",
    "\n",
    "donde $\\mathbf{U}$ es una matriz triangular superior, quedando el sistema\n",
    "\n",
    "\\begin{align*}\n",
    "\\left[\\begin{array}{ccc}\n",
    "  u_{11} & u_{12} & u_{13} \\\\\n",
    "  0      & u_{22} & u_{23} \\\\\n",
    "  0      & 0      & u_{33} \\\\  \n",
    " \\end{array}\\right]\n",
    "\\begin{Bmatrix}\n",
    "  x_{1}  \\\\\n",
    "  x_{2}  \\\\\n",
    "  x_{3}  \\\\  \n",
    "\\end{Bmatrix}\n",
    "= \\begin{Bmatrix}\n",
    "  d_{1}  \\\\\n",
    "  d_{2}  \\\\\n",
    "  d_{3}  \\\\\n",
    "\\end{Bmatrix}\n",
    "\\end{align*}\n",
    "\n",
    "Igualmente supongamos que existe una matriz diagonal inferior con diagonal unitaria, $\\mathbf{L}$\n",
    "\n",
    "\\begin{align*}L=\n",
    "\\left[\\begin{array}{ccc}\n",
    "  1      & 0      & 0 \\\\\n",
    "  l_{21} & 1      & 0 \\\\\n",
    "  l_{31} & l_{32} & 1 \\\\  \n",
    " \\end{array}\\right]\n",
    "\\end{align*}\n",
    "\n",
    "cuya propiedad es que al posmultiplicarla por $[\\mathbf{U}]\\{\\mathbf{x}\\}-\\{\\mathbf{d}\\}$, obtenemos el sistema matricial inicia, es decir:\n",
    "\n",
    "$$[\\mathbf{L}]\\{[\\mathbf{U}]\\{\\mathbf{x}\\}-\\{\\mathbf{d}\\}\\}=[\\mathbf{A}]\\{\\mathbf{x}\\}-\\{\\mathbf{b}\\}$$\n",
    "\n",
    "de aquí se obtiene\n",
    "\n",
    "$$[\\mathbf{L}][\\mathbf{U}]=[\\mathbf{A}]$$\n",
    "\n",
    "y\n",
    "\n",
    "$$[\\mathbf{L}][\\mathbf{d}]=[\\mathbf{b}]$$\n",
    "\n"
   ]
  },
  {
   "cell_type": "markdown",
   "metadata": {},
   "source": [
    "[Volver a la Tabla de Contenido](#TOC)"
   ]
  },
  {
   "cell_type": "markdown",
   "metadata": {},
   "source": [
    "#### Estrategia de solución"
   ]
  },
  {
   "cell_type": "markdown",
   "metadata": {},
   "source": [
    "El anterior procedimiento determina una estrategia de dos pasos para llegar a la solución:\n",
    "\n",
    "1. ***Descomposición $\\mathbf{LU}$:*** $\\mathbf{A}$ se factoriza en las matrices triangulares inferior $\\mathbf{L}$ y superior $\\mathbf{U}$.\n",
    "\n",
    "2. ***Sustitución:*** $\\mathbf{L}$ y $\\mathbf{U}$ se emplean para obtener $\\mathbf{x}$ para un valor del vector de términos independientes $\\mathbf{b}$.\n",
    "\n",
    "Resumiendo, veámos el siguiente gráfico:\n",
    "\n",
    "<p float=\"center\">\n",
    "  <img src=\"https://github.com/carlosalvarezh/Analisis_Numerico/blob/master/images/C03_Img06_LU.PNG?raw=true\" width=\"500\" />\n",
    "</p>\n",
    "\n",
    "<div style=\"text-align: right\"> Fuente: <a href=\"http://artemisa.unicauca.edu.co/~cardila/Chapra.pdf\">Chapra, S., Canale, R. Métodos Numéricos para ingenieros, 5a Ed. Mc. Graw Hill. 2007</a> </div>\n"
   ]
  },
  {
   "cell_type": "markdown",
   "metadata": {},
   "source": [
    "[Volver a la Tabla de Contenido](#TOC)"
   ]
  },
  {
   "cell_type": "markdown",
   "metadata": {},
   "source": [
    "#### Obtención de las matrices *L* y *U*"
   ]
  },
  {
   "cell_type": "markdown",
   "metadata": {},
   "source": [
    "La obtención de las matrices $\\mathbf{L}$ y $\\mathbf{U}$ es inmediata, resultantes de la descomposición realizada en el método de la [Eliminación de Gauss simple](#EGS). \n",
    "\n",
    "- $\\mathbf{U}$, es la misma resultante del proceso de eliminación, donde se obtiene la matriz triangular superior.\n",
    "\n",
    "onde $\\mathbf{U}$ es una matriz triangular superior, quedando el sistema\n",
    "\n",
    "\\begin{align*}U=\n",
    "\\left[\\begin{array}{ccc}\n",
    "  a_{11} & a_{12} & a_{13} \\\\\n",
    "  0      & a'_{22} & a'_{23} \\\\\n",
    "  0      & 0      & a''_{33} \\\\  \n",
    " \\end{array}\\right]\n",
    "\\end{align*}\n",
    "\n",
    "donde cada apóstrofe indica la cantidad de variaciones que ha sufrido cada coeficiente $a_{ij}$ durante el proceso de eliminación. \n",
    "\n",
    "- $\\mathbf{L}$, resulta de almacenar los multiplicadores $M_{ik}=a_{ik}/a_{kk}$ que se emplearon en las [etapas de eliminación](#Etapaseliminacion), con la diagonal principal unitaria (el subindice $k$ corresponde a la $k$-ésima etapa de eliminación, que coincide con el número de la columna en la matriz de coeficientes).\n",
    "\n",
    "\\begin{align*}L=\n",
    "\\left[\\begin{array}{ccc}\n",
    "  1      & 0      & 0 \\\\\n",
    "  M_{21} & 1      & 0 \\\\\n",
    "  M_{31} & M_{32} & 1 \\\\  \n",
    " \\end{array}\\right]\n",
    "\\end{align*}\n",
    "\n",
    "entonces,\n",
    "\n",
    "$$M_{21}=\\frac{a_{21}}{a_{11}}$$\n",
    "\n",
    "$$M_{31}=\\frac{a_{31}}{a_{11}}$$\n",
    "\n",
    "$$M_{32}=\\frac{a'_{32}}{a'_{22}}$$\n",
    "\n",
    "$$\\vdots$$\n",
    "\n"
   ]
  },
  {
   "cell_type": "markdown",
   "metadata": {},
   "source": [
    "[Volver a la Tabla de Contenido](#TOC)"
   ]
  },
  {
   "cell_type": "markdown",
   "metadata": {},
   "source": [
    "#### Ejemplo *LU*"
   ]
  },
  {
   "cell_type": "markdown",
   "metadata": {},
   "source": [
    "Del [Ejemplo numérico](#EjemploNumerico) de Eliminación de Gauss simple, se tiene el siguiente sistema de ecuaciones lineales\n",
    "\n",
    "$$6x_1  - 2x_2  + 2x_3 +  4x_4 = 12$$\n",
    "\n",
    "$$12x_1 - 8x_2  + 6x_3 + 10x_4 = 34$$\n",
    "\n",
    "$$3x_1  - 13x_2 + 9x_3 + 3x_4  = 27$$\n",
    "\n",
    "$$-6x_1 + 4x_2  +  x_3 - 18x_4 = -38$$\n",
    "\n",
    "\n",
    "la matriz $\\mathbf{U}$ es la [matriz de eliminación](#MEliminada), dada por:\n",
    "\n",
    "\\begin{align*}U=\n",
    "\\left[\\begin{array}{cccc}\n",
    "  6 & -2 & 2 &  4 \\\\\n",
    "  0 & -4 & 2 &  2 \\\\\n",
    "  0 &  0 & 2 & -5 \\\\\n",
    "  0 &  0 & 0 & -3 \\\\\n",
    "  \\end{array}\\right]\n",
    "\\end{align*}\n",
    "\n",
    "y la matriz $\\mathbf{L}$ está dada por cada uno de los elementos de los [multiplicadores](#Multiplicadores) $M_{ik}$:\n",
    "\n",
    "$$M_{21}=a_{21}/a_{11}=12/6 = 2$$\n",
    "\n",
    "$$M_{31}=a_{31}/a_{11}=3/6 = 1/2$$\n",
    "\n",
    "$$M_{41}=a_{41}/a_{11}=-6/6 = -1$$\n",
    "\n",
    "$$M_{32}=a_{32}/a_{22}=-12/-4 = 3$$\n",
    "\n",
    "$$M_{42}=a_{42}/a_{22}= 2/-4 = -1/2$$\n",
    "\n",
    "$$M_{43}=a_{43}/a_{33}=4/2 = 2$$\n",
    "\n",
    "\\begin{align*}L=\n",
    "\\left[\\begin{array}{cccc}\n",
    "    1  &  0 & 0 & 0 \\\\\n",
    "    2  & 1 & 0 & 0 \\\\\n",
    "   1/2 & 3 & 1 & 0 \\\\\n",
    "   -1  & -1/2 & 2 & 1 \\\\\n",
    "  \\end{array}\\right]\n",
    "\\end{align*}\n",
    "\n",
    "Verificando que $\\mathbf{LU=A}$\n",
    "\n",
    "\\begin{align*}\n",
    "\\begin{bmatrix}\n",
    "    1  &  0 & 0 & 0 \\\\\n",
    "    2  & 1 & 0 & 0 \\\\\n",
    "   1/2 & 3 & 1 & 0 \\\\\n",
    "   -1  & -1/2 & 2 & 1 \\\\\n",
    "\\end{bmatrix}\n",
    "\\begin{bmatrix}\n",
    "  6 & -2 & 2 &  4 \\\\\n",
    "  0 & -4 & 2 &  2 \\\\\n",
    "  0 &  0 & 2 & -5 \\\\\n",
    "  0 &  0 & 0 & -3 \\\\\n",
    "\\end{bmatrix}\n",
    "= \\begin{bmatrix}\n",
    "   6 & - 2 & 2 &   4 \\\\\n",
    "  12 & - 8 & 6 &  10 \\\\\n",
    "   3 & -13 & 9 &   3 \\\\\n",
    "  -6 &   4 & 1 & -18 \\\\\n",
    "\\end{bmatrix}\n",
    "\\end{align*}\n",
    "\n",
    "Comprobando computacionalmente la factorización $\\mathbf{LU=A}$:"
   ]
  },
  {
   "cell_type": "code",
   "execution_count": 17,
   "metadata": {},
   "outputs": [
    {
     "name": "stdout",
     "output_type": "stream",
     "text": [
      "[[ 1.   0.   0.   0. ]\n",
      " [ 2.   1.   0.   0. ]\n",
      " [ 0.5  3.   1.   0. ]\n",
      " [-1.  -0.5  2.   1. ]]\n"
     ]
    }
   ],
   "source": [
    "#Ingreso de la matriz de coeficientes A, de forma manual\n",
    "\n",
    "L = np.array([[ 1,  0, 0, 0],\n",
    "              [ 2,  1, 0, 0],\n",
    "              [.5,  3, 1, 0],\n",
    "              [-1,-.5, 2, 1]])\n",
    "print(L)"
   ]
  },
  {
   "cell_type": "code",
   "execution_count": 18,
   "metadata": {},
   "outputs": [
    {
     "name": "stdout",
     "output_type": "stream",
     "text": [
      "[[ 6 -2  2  4]\n",
      " [ 0 -4  2  2]\n",
      " [ 0  0  2 -5]\n",
      " [ 0  0  0 -3]]\n"
     ]
    }
   ],
   "source": [
    "#Ingreso de la matriz de coeficientes A, de forma manual\n",
    "\n",
    "U = np.array([[ 6, -2, 2,  4],\n",
    "              [ 0, -4, 2,  2],\n",
    "              [ 0,  0, 2, -5],\n",
    "              [ 0,  0, 0, -3]])\n",
    "print(U)"
   ]
  },
  {
   "cell_type": "code",
   "execution_count": 19,
   "metadata": {},
   "outputs": [
    {
     "name": "stdout",
     "output_type": "stream",
     "text": [
      "[[  6.  -2.   2.   4.]\n",
      " [ 12.  -8.   6.  10.]\n",
      " [  3. -13.   9.   3.]\n",
      " [ -6.   4.   1. -18.]]\n"
     ]
    }
   ],
   "source": [
    "print(L.dot(U))"
   ]
  },
  {
   "cell_type": "code",
   "execution_count": 20,
   "metadata": {},
   "outputs": [
    {
     "data": {
      "text/plain": [
       "array([[ True,  True,  True,  True],\n",
       "       [ True,  True,  True,  True],\n",
       "       [ True,  True,  True,  True],\n",
       "       [ True,  True,  True,  True]])"
      ]
     },
     "execution_count": 20,
     "metadata": {},
     "output_type": "execute_result"
    }
   ],
   "source": [
    "L.dot(U) == A"
   ]
  },
  {
   "cell_type": "markdown",
   "metadata": {},
   "source": [
    "[Volver a la Tabla de Contenido](#TOC)"
   ]
  },
  {
   "cell_type": "markdown",
   "metadata": {},
   "source": [
    "#### Implementación computacional del algoritmo LU"
   ]
  },
  {
   "cell_type": "markdown",
   "metadata": {},
   "source": [
    "La implementación computacional se realizará modificando la función que se creó para el proceso de [eliminación](#Algoritmoeliminacion) para determinar la matriz $\\mathbf{L}$, pero esta teniendo en cuenta únicamente la matriz de coeficientes $\\mathbf{A}$ (no la ampliada), ya que la idea es poder emplear diferentes valores del vector de términos independientes $\\mathbf{b}$.\n",
    "\n",
    "Una forma de hacerlo es empleando el algoritmo de eliminación del método de eliminación de Gauss simple visto y almacenar los valores de los multiplicadores en las respectivas componentes de la nueva matriz $\\mathbf{L}$. Para ello, se usa una matriz identidad y se reemplazan los ceros por los valores de los multiplicadores en cada una de las posiciones indicadas. \n"
   ]
  },
  {
   "cell_type": "code",
   "execution_count": 21,
   "metadata": {},
   "outputs": [],
   "source": [
    "def eliminacionLU(U):\n",
    "    \"\"\"\n",
    "    función en Python 3.8 que realiza el proceso de eliminación LU\n",
    "    en un Sistema de Ecuaciones Lineales (SEL) \n",
    "    \n",
    "    input: ingresa la matriz A[n x n]\n",
    "    \n",
    "    output: devuelve las matrices triangular inferior, L, y triangular superior,\n",
    "            U, de [n x n].\n",
    "    \"\"\"\n",
    "    n = U.shape[0]\n",
    "    L = np.identity(n)\n",
    "    \n",
    "    for k in range(0,n-1):\n",
    "        for i in range(k+1, n):\n",
    "            m = U[i][k]/U[k][k]\n",
    "            L[i,k] = m\n",
    "            for j in range(k, n):\n",
    "                U[i][j] = U[i][j] - m * U[k][j]\n",
    "    return (L, U)"
   ]
  },
  {
   "cell_type": "markdown",
   "metadata": {},
   "source": [
    "Esta aproximación es simple, pero computacionalmente costosa, ya que se crea una matriz con casi el 50% de los elementos iguales a cero. Una alternativa podría ser emplear la estructura de datos tipo [diccionario](https://docs.python.org/3/tutorial/datastructures.html#dictionaries) de Python, que facilita almacenar tanto el valor como las \"coordenadas\" matriciales (fila/columna) diferentes de cero y así no almacenar ceros innecesariamente. Se deja como actividad a ser realizada por el estudiante.\n",
    "\n",
    "Veamos ahora los resultados obtenidos tras ejecutar este algoritmo y la comprobación $\\mathbf{LU=A}$"
   ]
  },
  {
   "cell_type": "code",
   "execution_count": 22,
   "metadata": {
    "scrolled": false
   },
   "outputs": [
    {
     "name": "stdout",
     "output_type": "stream",
     "text": [
      "[[ 1.   0.   0.   0. ]\n",
      " [ 2.   1.   0.   0. ]\n",
      " [ 0.5  3.   1.   0. ]\n",
      " [-1.  -0.5  2.   1. ]]\n",
      "[[ 6. -2.  2.  4.]\n",
      " [ 0. -4.  2.  2.]\n",
      " [ 0.  0.  2. -5.]\n",
      " [ 0.  0.  0. -3.]]\n"
     ]
    }
   ],
   "source": [
    "U = A.copy()\n",
    "L,U = eliminacionLU(U)\n",
    "print(L)\n",
    "print(U)"
   ]
  },
  {
   "cell_type": "code",
   "execution_count": 23,
   "metadata": {
    "scrolled": true
   },
   "outputs": [
    {
     "name": "stdout",
     "output_type": "stream",
     "text": [
      "[[  6.  -2.   2.   4.]\n",
      " [ 12.  -8.   6.  10.]\n",
      " [  3. -13.   9.   3.]\n",
      " [ -6.   4.   1. -18.]]\n"
     ]
    }
   ],
   "source": [
    "print(L.dot(U))"
   ]
  },
  {
   "cell_type": "code",
   "execution_count": 24,
   "metadata": {},
   "outputs": [
    {
     "data": {
      "text/plain": [
       "array([[ True,  True,  True,  True],\n",
       "       [ True,  True,  True,  True],\n",
       "       [ True,  True,  True,  True],\n",
       "       [ True,  True,  True,  True]])"
      ]
     },
     "execution_count": 24,
     "metadata": {},
     "output_type": "execute_result"
    }
   ],
   "source": [
    "L.dot(U) == A"
   ]
  },
  {
   "cell_type": "markdown",
   "metadata": {},
   "source": [
    "***Actividad para el estudiante:*** A qué considera que no todos los valores en esta comprobación son `True`?"
   ]
  },
  {
   "cell_type": "markdown",
   "metadata": {},
   "source": [
    "[Volver a la Tabla de Contenido](#TOC)"
   ]
  },
  {
   "cell_type": "markdown",
   "metadata": {},
   "source": [
    "#### Ejemplo computacional algoritmo LU: Cálculo de la Inversa"
   ]
  },
  {
   "cell_type": "markdown",
   "metadata": {},
   "source": [
    "Determinar la inversa de la matriz $\\mathbf{A}$ del ejemplo que hemos venido trabajando.\n",
    "\n",
    "La inversa de una matriz empleando la factorización $\\mathbf{LU}$ se puede obtener mediante el cálculo sucesivo del procedimiento descrito, cambiando cada vez el vector del lado derecho por un vector columna que tiene todos sus elementos iguales a cero,excepto por el valor de uno en la posición que corresponde a la columna de la matriz inversa a ser calculada. Este proceso generará cada vez como respuesta la columna correspondiente a la matriz inversa. Veamos.\n",
    "\n",
    "En el ejemplo anterior ya se obtuvo la factorización $\\mathbf{LU}$, ahora realicemos el procedimiento para cada vector $\\mathbf{b}$, y cada una de las respuestas $\\mathbf{x}$ serán las columnas de la matriz inversa.\n",
    "\n",
    "Primero, obtengamos la primera columna de la matriz inversa. Para ello, creamos un vector:\n",
    "\n",
    "\\begin{align}\n",
    "  b_1 &= \\begin{bmatrix}\n",
    "         1 \\\\\n",
    "         0 \\\\\n",
    "         0 \\\\\n",
    "         0\n",
    "       \\end{bmatrix}\n",
    "\\end{align}\n"
   ]
  },
  {
   "cell_type": "code",
   "execution_count": 25,
   "metadata": {},
   "outputs": [],
   "source": [
    "b1 = np.array([1, 0, 0, 0])"
   ]
  },
  {
   "cell_type": "markdown",
   "metadata": {},
   "source": [
    "Ahora vamos a resolver el sistema $\\mathbf{Ld=b_1}$ por sustitución hacia adelante. El algoritmo que tenemos de sustitución es hacia atrás. Toca modificarlo para que resuelva hacia adelante (progresiva)."
   ]
  },
  {
   "cell_type": "code",
   "execution_count": 26,
   "metadata": {},
   "outputs": [],
   "source": [
    "def sustitucionProg(A,b):\n",
    "    \"\"\"\n",
    "    función en Python 3.8 que realiza el proceso de sustitución progresiva\n",
    "    \n",
    "    input: Se ingresa la matriz triangular inferior L[n * n]\n",
    "    \n",
    "    output: devuelve el vector solución b[n * 1]\n",
    "    \"\"\"\n",
    "    \n",
    "    n = A.shape[0]\n",
    "    d = np.zeros(n)\n",
    "    d[0] = b[0]\n",
    "    for i in range(1,n):\n",
    "        suma = 0\n",
    "        for j in range(n):\n",
    "            suma = suma + A[i][j] * d[j]\n",
    "        d[i] = b[i] - suma\n",
    "    return d"
   ]
  },
  {
   "cell_type": "code",
   "execution_count": 27,
   "metadata": {},
   "outputs": [
    {
     "name": "stdout",
     "output_type": "stream",
     "text": [
      "[  1.   -2.    5.5 -11. ]\n"
     ]
    }
   ],
   "source": [
    "d1 = sustitucionProg(L,b1)\n",
    "print(d1)"
   ]
  },
  {
   "cell_type": "markdown",
   "metadata": {},
   "source": [
    "Este resultado preliminar se emplea al lado derecho para resolver el sistema  $\\mathbf{Ux=d}$ mediante sustitución regresiva, donde el vector $\\mathbf{x}$ será la solución que corresponderá a la primera columna de la matriz inversa.\n",
    "\n",
    "Observe que el algoritmo de sustitución regresiva que se tienen implementado es con la matriz aumentada, por lo que toca antes aumentar la matriz $\\mathbf{U}$ con el vector de términos independientes, $\\mathbf{d}$."
   ]
  },
  {
   "cell_type": "code",
   "execution_count": 28,
   "metadata": {},
   "outputs": [
    {
     "name": "stdout",
     "output_type": "stream",
     "text": [
      "[[  6.   -2.    2.    4.    1. ]\n",
      " [  0.   -4.    2.    2.   -2. ]\n",
      " [  0.    0.    2.   -5.    5.5]\n",
      " [  0.    0.    0.   -3.  -11. ]]\n",
      "(4, 5)\n"
     ]
    }
   ],
   "source": [
    "Ud1 = np.c_[U,d1]\n",
    "print(Ud1)\n",
    "print(np.shape(Ud1))"
   ]
  },
  {
   "cell_type": "code",
   "execution_count": 29,
   "metadata": {},
   "outputs": [
    {
     "name": "stdout",
     "output_type": "stream",
     "text": [
      "x[0] = -3.4861\n",
      "x[1] = 8.2917\n",
      "x[2] = 11.9167\n",
      "x[3] = 3.6667\n",
      "[-3.48611111  8.29166667 11.91666667  3.66666667]\n"
     ]
    }
   ],
   "source": [
    "x1 = sustitucionReg(Ud1)\n",
    "print(x1)"
   ]
  },
  {
   "cell_type": "markdown",
   "metadata": {},
   "source": [
    "El vector x1 calculado corresponde a la primera columna de la matriz inversa. Repitiendo este procedimiento, cambiando cada vez el vector de términos independientes, para el cálculo de la segunda columna, sería:\n",
    "\n",
    "\\begin{align}\n",
    "  b_2 &= \\begin{bmatrix}\n",
    "         0 \\\\\n",
    "         1 \\\\\n",
    "         0 \\\\\n",
    "         0\n",
    "       \\end{bmatrix}\n",
    "\\end{align}\n"
   ]
  },
  {
   "cell_type": "code",
   "execution_count": 30,
   "metadata": {},
   "outputs": [
    {
     "name": "stdout",
     "output_type": "stream",
     "text": [
      "x[0] = 2.1528\n",
      "x[1] = -4.7917\n",
      "x[2] = -6.9167\n",
      "x[3] = -2.1667\n",
      "[ 2.15277778 -4.79166667 -6.91666667 -2.16666667]\n"
     ]
    }
   ],
   "source": [
    "b2 = np.array([0, 1, 0, 0])\n",
    "d2 = sustitucionProg(L,b2)\n",
    "Ud2 = np.c_[U,d2]\n",
    "x2 = sustitucionReg(Ud2)\n",
    "print(x2)"
   ]
  },
  {
   "cell_type": "markdown",
   "metadata": {},
   "source": [
    "Para el siguiente término se emplea el vector de términos independientes\n",
    "\n",
    "\\begin{align}\n",
    "  b_3 &= \\begin{bmatrix}\n",
    "         0 \\\\\n",
    "         0 \\\\\n",
    "         1 \\\\\n",
    "         0\n",
    "       \\end{bmatrix}\n",
    "\\end{align}\n"
   ]
  },
  {
   "cell_type": "code",
   "execution_count": 31,
   "metadata": {},
   "outputs": [
    {
     "name": "stdout",
     "output_type": "stream",
     "text": [
      "x[0] = -0.6944\n",
      "x[1] = 1.4167\n",
      "x[2] = 2.1667\n",
      "x[3] = 0.6667\n",
      "[-0.69444444  1.41666667  2.16666667  0.66666667]\n"
     ]
    }
   ],
   "source": [
    "b3 = np.array([0, 0, 1, 0])\n",
    "d3 = sustitucionProg(L,b3)\n",
    "Ud3 = np.c_[U,d3]\n",
    "x3 = sustitucionReg(Ud3)\n",
    "print(x3)"
   ]
  },
  {
   "cell_type": "markdown",
   "metadata": {},
   "source": [
    "Para el último término, se emplea el vector de términos independientes\n",
    "\n",
    "\\begin{align}\n",
    "  b_4 &= \\begin{bmatrix}\n",
    "         0 \\\\\n",
    "         0 \\\\\n",
    "         0 \\\\\n",
    "         1\n",
    "       \\end{bmatrix}\n",
    "\\end{align}\n"
   ]
  },
  {
   "cell_type": "code",
   "execution_count": 32,
   "metadata": {},
   "outputs": [
    {
     "name": "stdout",
     "output_type": "stream",
     "text": [
      "x[0] = 0.3056\n",
      "x[1] = -0.5833\n",
      "x[2] = -0.8333\n",
      "x[3] = -0.3333\n",
      "[ 0.30555556 -0.58333333 -0.83333333 -0.33333333]\n"
     ]
    }
   ],
   "source": [
    "b4 = np.array([0, 0, 0, 1])\n",
    "d4 = sustitucionProg(L,b4)\n",
    "Ud4 = np.c_[U,d4]\n",
    "x4 = sustitucionReg(Ud4)\n",
    "print(x4)"
   ]
  },
  {
   "cell_type": "markdown",
   "metadata": {},
   "source": [
    "Por último, montando la matriz inversa con cada uno de los vectores obtenidos anteriormente. Debe tener presente que los vectores obtenidos son en forma de vector fila, por lo que hay que realizar la transposición de la misma."
   ]
  },
  {
   "cell_type": "code",
   "execution_count": 33,
   "metadata": {},
   "outputs": [
    {
     "name": "stdout",
     "output_type": "stream",
     "text": [
      "[[-3.48611111  2.15277778 -0.69444444  0.30555556]\n",
      " [ 8.29166667 -4.79166667  1.41666667 -0.58333333]\n",
      " [11.91666667 -6.91666667  2.16666667 -0.83333333]\n",
      " [ 3.66666667 -2.16666667  0.66666667 -0.33333333]]\n"
     ]
    }
   ],
   "source": [
    "Ainv = np.matrix([x1, x2, x3, x4]).T\n",
    "print(Ainv)"
   ]
  },
  {
   "cell_type": "markdown",
   "metadata": {},
   "source": [
    "Comprobando que efectivamente se obtuvo la matriz inversa, realizamos el cálculo: \n",
    "\n",
    "$$\\mathbf{A^{-1}A=I}$$\n"
   ]
  },
  {
   "cell_type": "code",
   "execution_count": 34,
   "metadata": {
    "scrolled": true
   },
   "outputs": [
    {
     "name": "stdout",
     "output_type": "stream",
     "text": [
      "[[ 1.00000000e+00 -1.77635684e-15  1.77635684e-15  3.55271368e-15]\n",
      " [ 7.10542736e-15  1.00000000e+00  3.55271368e-15  7.10542736e-15]\n",
      " [ 0.00000000e+00 -7.10542736e-15  1.00000000e+00  7.10542736e-15]\n",
      " [ 0.00000000e+00 -1.77635684e-15 -1.77635684e-15  1.00000000e+00]]\n"
     ]
    }
   ],
   "source": [
    "Identity = Ainv.dot(A)\n",
    "print(Identity)"
   ]
  },
  {
   "cell_type": "markdown",
   "metadata": {},
   "source": [
    "[Volver a la Tabla de Contenido](#TOC)"
   ]
  },
  {
   "cell_type": "markdown",
   "metadata": {},
   "source": [
    "## Análisis de Error y condición del Sistema"
   ]
  },
  {
   "cell_type": "markdown",
   "metadata": {},
   "source": [
    "### Condicionamiento del sistema"
   ]
  },
  {
   "cell_type": "markdown",
   "metadata": {},
   "source": [
    "La inversa de una matriz proporciona una forma para determinar si el sistema está mal condicionado. Se tienen tres métodos para esto:\n",
    "\n",
    "- Escalar la matriz de coeficientes.\n",
    "\n",
    "- Multplicar la inversa por la matriz de coeficientes original y estimar si el resultado es lo suficientemente cercano a la matriz identidad, es decir: $\\mathbf{A^{-1}A \\approx I}$\n",
    "\n",
    "- Invertir la matriz identidad y estimar si el resultado está lo suficientemente cerca a la matriz de coeficientes original, es decir, $\\mathbf{[A^{-1}]^{-1}\\approx A}$"
   ]
  },
  {
   "cell_type": "markdown",
   "metadata": {},
   "source": [
    "[Volver a la Tabla de Contenido](#TOC)"
   ]
  },
  {
   "cell_type": "markdown",
   "metadata": {},
   "source": [
    "### Normas vectoriales y matriciales"
   ]
  },
  {
   "cell_type": "markdown",
   "metadata": {},
   "source": [
    "Para medir errores y sensibilidad en la resolución de sistemas lineales, necesitamos alguna noción del \"tamaño\" de vectores y matrices. El concepto escalar de magnitud, módulo o valor absoluto se puede generalizar al concepto de normas para vectores y matrices.\n",
    "\n",
    "- ***[Norma](https://en.wikipedia.org/wiki/Norm_(mathematics)):*** es una función que toma valores reales y que proporciona una medida del tamaño o \"longitud\" de entidades matemáticas multicomponentes, como los vectores y las matrices.\n",
    "\n",
    "Aunque es posible una definición más general, todas las normas vectoriales que usaremos son instancias de $p-normas$, que para un entero $p>0$ y un vector $\\mathbf{x}$ de dimensión $n$ se definen por:\n",
    "\n",
    "$$\\|\\mathbf{x}\\|_p=\\left(\\sum_{i=1}^n |x_i|^p \\right)^{1/p}$$\n",
    "\n",
    "Algunos casos especiales de normas son:\n",
    "\n",
    "- $norma-1$:\n",
    "\n",
    "\n",
    "  >- ***para un vector***\n",
    "\n",
    "$$\\|\\mathbf{x}\\|_1=\\sum_{i=1}^n |x_i|$$\n",
    "\n",
    "  >- ***para una matriz:*** se realiza una sumatoria de los valores absolutos de los coeficientes para cada columna, y la mayor de estas sumatorias se toma como la norma. Esto se conoce como la norma columna-suma.\n",
    "  \n",
    "$$\\|\\mathbf{A}\\|_1=\\underset{1 \\leq j \\leq n}{max}\\sum_{i=1}^n |a_{ij}|$$\n",
    "\n",
    "Se realiza\n",
    "\n",
    "- $norma-2$: también llamada norma Euclideana\n",
    "\n",
    "\n",
    "  >- ***para un vector***\n",
    "\n",
    "$$\\|\\mathbf{x}\\|_2=\\sqrt{\\sum_{i=1}^n |x_i|^2}$$\n",
    "\n",
    "  >- ***para una matriz***\n",
    "\n",
    "$$\\|\\mathbf{A}\\|_2=\\sqrt{\\sum_{i=1}^n \\sum_{j=1}^n a_{ij}^2}$$\n",
    "\n",
    "\n",
    "- $norma-\\infty$\n",
    "\n",
    "  >- ***para un vector***\n",
    "\n",
    "$$\\|\\mathbf{A}\\|_{\\infty}=\\underset{1 \\leq i \\leq n}{max}|x_i|$$\n",
    "\n",
    "\n",
    "  >- ***para una matriz:*** similar a la norma-1 para matrices se puede hacer para los renglones, y resulta una matriz-uniforme o norma renglón-suma\n",
    "\n",
    "$$\\|\\mathbf{A}\\|_1=\\underset{1 \\leq i \\leq n}{max}\\sum_{j=1}^n |a_{ij}|$$"
   ]
  },
  {
   "cell_type": "markdown",
   "metadata": {},
   "source": [
    "[Volver a la Tabla de Contenido](#TOC)"
   ]
  },
  {
   "cell_type": "markdown",
   "metadata": {
    "collapsed": true
   },
   "source": [
    "## Métodos Iterativos"
   ]
  },
  {
   "cell_type": "markdown",
   "metadata": {},
   "source": [
    "### Método de Jacobi"
   ]
  },
  {
   "cell_type": "markdown",
   "metadata": {},
   "source": []
  },
  {
   "cell_type": "markdown",
   "metadata": {},
   "source": [
    "[Volver a la Tabla de Contenido](#TOC)"
   ]
  },
  {
   "cell_type": "markdown",
   "metadata": {},
   "source": [
    "### Método de Gauss - Seidel"
   ]
  },
  {
   "cell_type": "markdown",
   "metadata": {},
   "source": []
  },
  {
   "cell_type": "markdown",
   "metadata": {},
   "source": [
    "[Volver a la Tabla de Contenido](#TOC)"
   ]
  },
  {
   "cell_type": "markdown",
   "metadata": {},
   "source": [
    "### Método SOR"
   ]
  },
  {
   "cell_type": "markdown",
   "metadata": {},
   "source": []
  },
  {
   "cell_type": "markdown",
   "metadata": {},
   "source": [
    "[Volver a la Tabla de Contenido](#TOC)"
   ]
  },
  {
   "cell_type": "code",
   "execution_count": null,
   "metadata": {},
   "outputs": [],
   "source": []
  },
  {
   "cell_type": "code",
   "execution_count": null,
   "metadata": {},
   "outputs": [],
   "source": []
  }
 ],
 "metadata": {
  "anaconda-cloud": {},
  "kernelspec": {
   "display_name": "Python 3",
   "language": "python",
   "name": "python3"
  },
  "language_info": {
   "codemirror_mode": {
    "name": "ipython",
    "version": 3
   },
   "file_extension": ".py",
   "mimetype": "text/x-python",
   "name": "python",
   "nbconvert_exporter": "python",
   "pygments_lexer": "ipython3",
   "version": "3.6.10"
  },
  "latex_envs": {
   "LaTeX_envs_menu_present": true,
   "autocomplete": true,
   "bibliofile": "biblio.bib",
   "cite_by": "apalike",
   "current_citInitial": 1,
   "eqLabelWithNumbers": true,
   "eqNumInitial": 1,
   "hotkeys": {
    "equation": "Ctrl-E",
    "itemize": "Ctrl-I"
   },
   "labels_anchors": false,
   "latex_user_defs": false,
   "report_style_numbering": true,
   "user_envs_cfg": true
  },
  "toc": {
   "base_numbering": 1,
   "nav_menu": {},
   "number_sections": true,
   "sideBar": true,
   "skip_h1_title": true,
   "title_cell": "Tabla de Contenidos",
   "title_sidebar": "Contenidos",
   "toc_cell": true,
   "toc_position": {
    "height": "calc(100% - 180px)",
    "left": "10px",
    "top": "150px",
    "width": "427px"
   },
   "toc_section_display": true,
   "toc_window_display": true
  }
 },
 "nbformat": 4,
 "nbformat_minor": 2
}
