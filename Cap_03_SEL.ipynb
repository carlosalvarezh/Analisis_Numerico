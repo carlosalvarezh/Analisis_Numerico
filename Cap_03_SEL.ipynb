{
 "cells": [
  {
   "cell_type": "markdown",
   "metadata": {},
   "source": [
    "<p float=\"center\">\n",
    "  <img src=\"https://github.com/carlosalvarezh/Analisis_Numerico/blob/master/images/C00_Img00_logo.png?raw=true\" width=\"350\" />\n",
    "</p>\n",
    "<h1 align=\"center\">ST0256 - Análisis Numérico</h1>\n",
    "<h1 align=\"center\">Capítulo 3: Sistemas de Ecuaciones Lineales</h1>\n",
    "<h1 align=\"center\">2021/01</h1>\n",
    "<h1 align=\"center\">MEDELLÍN - COLOMBIA </h1>"
   ]
  },
  {
   "cell_type": "markdown",
   "metadata": {},
   "source": [
    "<table>\n",
    " <tr align=left><td><img align=left src=\"./images/CC-BY.png\">\n",
    " <td>Text provided under a Creative Commons Attribution license, CC-BY. All code is made available under the FSF-approved MIT license.(c) Carlos Alberto Alvarez Henao</td>\n",
    "</table>"
   ]
  },
  {
   "cell_type": "markdown",
   "metadata": {},
   "source": [
    "*** \n",
    "\n",
    "***Docente:*** Carlos Alberto Álvarez Henao, I.C. D.Sc.\n",
    "\n",
    "***e-mail:*** calvar52@eafit.edu.co\n",
    "\n",
    "***skype:*** carlos.alberto.alvarez.henao\n",
    "\n",
    "***Herramienta:*** [Jupyter](http://jupyter.org/)\n",
    "\n",
    "***Kernel:*** Python 3.8\n",
    "\n",
    "\n",
    "***"
   ]
  },
  {
   "cell_type": "markdown",
   "metadata": {},
   "source": [
    "<a id='TOC'></a>"
   ]
  },
  {
   "cell_type": "markdown",
   "metadata": {
    "toc": true
   },
   "source": [
    "<h1>Tabla de Contenidos<span class=\"tocSkip\"></span></h1>\n",
    "<div class=\"toc\"><ul class=\"toc-item\"><li><span><a href=\"#Sistema-de-Ecuaciones-Lineales\" data-toc-modified-id=\"Sistema-de-Ecuaciones-Lineales-1\"><span class=\"toc-item-num\">1&nbsp;&nbsp;</span>Sistema de Ecuaciones Lineales</a></span><ul class=\"toc-item\"><li><span><a href=\"#Introducción\" data-toc-modified-id=\"Introducción-1.1\"><span class=\"toc-item-num\">1.1&nbsp;&nbsp;</span>Introducción</a></span></li><li><span><a href=\"#Singularidad-y-No-Singularidad\" data-toc-modified-id=\"Singularidad-y-No-Singularidad-1.2\"><span class=\"toc-item-num\">1.2&nbsp;&nbsp;</span>Singularidad y No Singularidad</a></span></li><li><span><a href=\"#Existencia-y-Unicidad\" data-toc-modified-id=\"Existencia-y-Unicidad-1.3\"><span class=\"toc-item-num\">1.3&nbsp;&nbsp;</span>Existencia y Unicidad</a></span></li><li><span><a href=\"#Interpretación-geométrica\" data-toc-modified-id=\"Interpretación-geométrica-1.4\"><span class=\"toc-item-num\">1.4&nbsp;&nbsp;</span>Interpretación geométrica</a></span></li></ul></li><li><span><a href=\"#Métodos-Directos\" data-toc-modified-id=\"Métodos-Directos-2\"><span class=\"toc-item-num\">2&nbsp;&nbsp;</span>Métodos Directos</a></span><ul class=\"toc-item\"><li><span><a href=\"#Eliminación-de-Gauss-Simple\" data-toc-modified-id=\"Eliminación-de-Gauss-Simple-2.1\"><span class=\"toc-item-num\">2.1&nbsp;&nbsp;</span>Eliminación de Gauss Simple</a></span><ul class=\"toc-item\"><li><span><a href=\"#Introducción\" data-toc-modified-id=\"Introducción-2.1.1\"><span class=\"toc-item-num\">2.1.1&nbsp;&nbsp;</span>Introducción</a></span></li><li><span><a href=\"#Algoritmo-general\" data-toc-modified-id=\"Algoritmo-general-2.1.2\"><span class=\"toc-item-num\">2.1.2&nbsp;&nbsp;</span>Algoritmo general</a></span></li><li><span><a href=\"#Etapas-en-el-procesos-de-eliminación\" data-toc-modified-id=\"Etapas-en-el-procesos-de-eliminación-2.1.3\"><span class=\"toc-item-num\">2.1.3&nbsp;&nbsp;</span>Etapas en el procesos de eliminación</a></span></li><li><span><a href=\"#Algoritmo-proceso-de-Eliminación\" data-toc-modified-id=\"Algoritmo-proceso-de-Eliminación-2.1.4\"><span class=\"toc-item-num\">2.1.4&nbsp;&nbsp;</span>Algoritmo proceso de Eliminación</a></span></li><li><span><a href=\"#Resultado-del-proceso-de-Eliminación\" data-toc-modified-id=\"Resultado-del-proceso-de-Eliminación-2.1.5\"><span class=\"toc-item-num\">2.1.5&nbsp;&nbsp;</span>Resultado del proceso de Eliminación</a></span></li><li><span><a href=\"#Implementación-computacional\" data-toc-modified-id=\"Implementación-computacional-2.1.6\"><span class=\"toc-item-num\">2.1.6&nbsp;&nbsp;</span>Implementación computacional</a></span></li><li><span><a href=\"#Sustitución-regresiva-(o-despeje)\" data-toc-modified-id=\"Sustitución-regresiva-(o-despeje)-2.1.7\"><span class=\"toc-item-num\">2.1.7&nbsp;&nbsp;</span>Sustitución regresiva (o despeje)</a></span></li><li><span><a href=\"#Algoritmo-proceso-de-sustitución-regresiva\" data-toc-modified-id=\"Algoritmo-proceso-de-sustitución-regresiva-2.1.8\"><span class=\"toc-item-num\">2.1.8&nbsp;&nbsp;</span>Algoritmo proceso de sustitución regresiva</a></span></li><li><span><a href=\"#Implementación-computacional\" data-toc-modified-id=\"Implementación-computacional-2.1.9\"><span class=\"toc-item-num\">2.1.9&nbsp;&nbsp;</span>Implementación computacional</a></span></li><li><span><a href=\"#Análisis-de-desempeño-algoritmo-de-Eliminación-de-Gauss-Simple\" data-toc-modified-id=\"Análisis-de-desempeño-algoritmo-de-Eliminación-de-Gauss-Simple-2.1.10\"><span class=\"toc-item-num\">2.1.10&nbsp;&nbsp;</span>Análisis de desempeño algoritmo de Eliminación de Gauss Simple</a></span></li><li><span><a href=\"#Ejemplo-teórico-algoritmo-Eliminación-de-Gauss-simple\" data-toc-modified-id=\"Ejemplo-teórico-algoritmo-Eliminación-de-Gauss-simple-2.1.11\"><span class=\"toc-item-num\">2.1.11&nbsp;&nbsp;</span>Ejemplo teórico algoritmo Eliminación de Gauss simple</a></span></li><li><span><a href=\"#Ejemplo-numérico-algoritmo-Eliminación-de-Gauss-Simple\" data-toc-modified-id=\"Ejemplo-numérico-algoritmo-Eliminación-de-Gauss-Simple-2.1.12\"><span class=\"toc-item-num\">2.1.12&nbsp;&nbsp;</span>Ejemplo numérico algoritmo Eliminación de Gauss Simple</a></span></li><li><span><a href=\"#Ejemplo-computacional-algoritmo-de-Eliminación-de-Gauss-Simple\" data-toc-modified-id=\"Ejemplo-computacional-algoritmo-de-Eliminación-de-Gauss-Simple-2.1.13\"><span class=\"toc-item-num\">2.1.13&nbsp;&nbsp;</span>Ejemplo computacional algoritmo de Eliminación de Gauss Simple</a></span></li></ul></li><li><span><a href=\"#Método-de-Gauss---Jordan\" data-toc-modified-id=\"Método-de-Gauss---Jordan-2.2\"><span class=\"toc-item-num\">2.2&nbsp;&nbsp;</span>Método de Gauss - Jordan</a></span></li></ul></li><li><span><a href=\"#Método-de-Gauss---Seidel\" data-toc-modified-id=\"Método-de-Gauss---Seidel-3\"><span class=\"toc-item-num\">3&nbsp;&nbsp;</span>Método de Gauss - Seidel</a></span></li></ul></div>"
   ]
  },
  {
   "cell_type": "markdown",
   "metadata": {},
   "source": [
    "## Sistema de Ecuaciones Lineales"
   ]
  },
  {
   "cell_type": "markdown",
   "metadata": {},
   "source": [
    "### Introducción"
   ]
  },
  {
   "cell_type": "markdown",
   "metadata": {},
   "source": [
    "Un [Sistema de Ecuaciones Lineales](https://en.wikipedia.org/wiki/System_of_linear_equations), *SEL*, es un conjunto de $m$ ecuaciones lineales con $n$ incógnitas, cuya solución es un conjunto de valores para las incógnitas con el que se satisfacen todas las ecuaciones.\n",
    "\n",
    "Asumamos que los elementos que componen las ecuaciones están definidos en los $\\Re$ y que siempre tendremos la misma cantidad de ecuaciones que de incógnitas, es decir $m=n$.\n",
    "\n",
    "$$a_{11}x_1 + a_{12}x_2 + a_{13}x_3 + \\ldots + a_{1n}x_n = b_1 \\hspace{1 cm} (ec. 1)$$\n",
    "\n",
    "$$a_{21}x_1 + a_{22}x_2 + a_{23}x_3 + \\ldots + a_{2n}x_n = b_2 \\hspace{1 cm} (ec. 2)$$\n",
    "\n",
    "$$a_{31}x_1 + a_{32}x_2 + a_{33}x_3 + \\ldots + a_{3n}x_n = b_3 \\hspace{1 cm} (ec. 3)$$\n",
    "\n",
    "$$\\vdots$$\n",
    "\n",
    "$$a_{n1}x_1 + a_{n2}x_2 + a_{n3}x_3 + \\ldots + a_{nn}x_n = b_n \\hspace{1 cm} (ec. n)$$"
   ]
  },
  {
   "cell_type": "markdown",
   "metadata": {},
   "source": [
    "En notación matricial, un sistema de ecuaciones algebraicas lineal tiene la forma:\n",
    "\n",
    "$$\\mathbf{Ax=b}$$\n",
    "\n",
    "donde\n",
    "\n",
    "- $\\mathbf{A}$: Matriz de coeficientes $[n \\times n]$\n",
    "\n",
    "\n",
    "- $\\mathbf{b}$: vector de términos independientes $[n \\times 1]$\n",
    "\n",
    "\n",
    "- $\\mathbf{x}$: Vector de incógnitas $[n \\times 1]$\n",
    "\n"
   ]
  },
  {
   "cell_type": "markdown",
   "metadata": {},
   "source": [
    "\\begin{align*}\n",
    "\\left[\\begin{array}{cccc}\n",
    "  a_{11} & a_{12} & \\ldots &a_{1n} \\\\\n",
    "  a_{21} & a_{22} & \\ldots &a_{2n} \\\\\n",
    "  a_{31} & a_{32} & \\ldots &a_{3n} \\\\\n",
    "  \\vdots & \\vdots & \\ddots &\\vdots \\\\\n",
    "  a_{n1} & a_{n2} & \\ldots &a_{nn} \\\\\n",
    "\\end{array}\\right]\n",
    "\\begin{Bmatrix}\n",
    "  x_{1}  \\\\\n",
    "  x_{2}  \\\\\n",
    "  x_{3}  \\\\\n",
    "  \\vdots \\\\\n",
    "  x_{n}\n",
    "\\end{Bmatrix}\n",
    "= \\begin{Bmatrix}\n",
    "  b_{1}  \\\\\n",
    "  b_{2}  \\\\\n",
    "  b_{3}  \\\\\n",
    "  \\vdots \\\\\n",
    "  b_{n}\n",
    "\\end{Bmatrix}\n",
    "\\end{align*}"
   ]
  },
  {
   "cell_type": "markdown",
   "metadata": {},
   "source": [
    "Lo siguiente conduce a la pregunta *¿Puede el vector $\\mathbf{b}$ ser expresado como una combinación lineal de las columnas de la matriz $\\mathbf{A}$?*\n",
    "\n",
    "- Los coeficientes de esta combinación lineal están dados por las componentes del vector solución $\\mathbf{x}$.\n",
    "\n",
    "\n",
    "- Puede o no tener solución.\n",
    "\n",
    "\n",
    "- Puede no ser única.\n"
   ]
  },
  {
   "cell_type": "markdown",
   "metadata": {},
   "source": [
    "[Volver a la Tabla de Contenido](#TOC)"
   ]
  },
  {
   "cell_type": "markdown",
   "metadata": {},
   "source": [
    "### Singularidad y No Singularidad"
   ]
  },
  {
   "cell_type": "markdown",
   "metadata": {},
   "source": [
    "Una matriz $\\mathbf{A}_{[n,n]}$ se dice que es singular si presenta una de las siguientes propiedades:\n",
    "\n",
    "\n",
    "- $\\mathbf{A}$ No tiene inversa: No existe una matriz $\\mathbf{M}$ tal que $\\mathbf{AM = MA = I}$.\n",
    "\n",
    "\n",
    "- $\\text{det}(\\mathbf{A}) = 0$\n",
    "\n",
    "\n",
    "- $\\text{Rango}(\\mathbf{A}) < n$: El rango de una matriz es el máximo número de filas o columnas linealmente independientes.\n",
    "\n",
    "\n",
    "- $\\mathbf{Az = 0}$, para cualquier vector $\\mathbf{z} \\neq \\mathbf{0}$.\n",
    "\n",
    "\n",
    "La solubilidad de un sistema de ecuaciones lineales está determinado si la matriz $\\mathbf{A}$ es, o no, singular.\n",
    "\n",
    "- ***No Singular:*** Tiene solución y es única\n",
    "\n",
    "\n",
    "- ***Singular:*** No tiene solución o tiene infinitas soluciones"
   ]
  },
  {
   "cell_type": "markdown",
   "metadata": {},
   "source": [
    "[Volver a la Tabla de Contenido](#TOC)"
   ]
  },
  {
   "cell_type": "markdown",
   "metadata": {},
   "source": [
    "### Existencia y Unicidad"
   ]
  },
  {
   "cell_type": "markdown",
   "metadata": {},
   "source": [
    "- La Existencia y la Unicidad de la solución de $\\mathbf{Ax=b}$ depende de si $\\mathbf{A}$ es singular o no singular.\n",
    "\n",
    "\n",
    "- Puede también depender de $\\mathbf{b}$, pero únicamente en el caso singular\n",
    "\n",
    "\n",
    "- Si $\\mathbf{b} \\in \\text{span}(\\mathbf{A})$, el sistema se dice que es consistente\n",
    "\n",
    "\n",
    "|$\\mathbf{A}$ | $\\mathbf{b}$           | #soluciones|\n",
    "|-----------|:------------------------:|-----------|\n",
    "|No singular| puede ser arbitrario     |única      |\n",
    "|singular   | $\\mathbf{b} \\in \\text{span}(\\mathbf{A})$   |infinitas  |\n",
    "|singular   | $\\mathbf{b} \\notin \\text{span}(\\mathbf{A})$|ninguna    |\n"
   ]
  },
  {
   "cell_type": "markdown",
   "metadata": {},
   "source": [
    "[Volver a la Tabla de Contenido](#TOC)"
   ]
  },
  {
   "cell_type": "markdown",
   "metadata": {},
   "source": [
    "### Interpretación geométrica"
   ]
  },
  {
   "cell_type": "markdown",
   "metadata": {},
   "source": [
    "En $2D$, cada ecuación determina una línea recta en el plano. Si dos líneas rectas son no paralelas (no singular), entonces el punto de intersección es único. La solución es el punto de intersección de las dos líneas\n",
    "\n",
    "<p float=\"center\">\n",
    "  <img src=\"https://github.com/carlosalvarezh/Analisis_Numerico/blob/master/images/C03_Img01_Sln2D_01.PNG?raw=true\" width=\"350\" />\n",
    "</p>\n",
    "\n",
    "\n",
    "Si las dos líneas son paralelas (singular), entonces o las líneas no se intersectan (no hay solución) \n",
    "\n",
    "<p float=\"center\">\n",
    "  <img src=\"https://github.com/carlosalvarezh/Analisis_Numerico/blob/master/images/C03_Img02_Sln2D_02.PNG?raw=true\" width=\"350\" />\n",
    "</p>\n",
    "\n",
    "o coinciden en todos los puntos a lo largo de las líneas (infinitas soluciones)\n",
    "\n",
    "<p float=\"center\">\n",
    "  <img src=\"https://github.com/carlosalvarezh/Analisis_Numerico/blob/master/images/C03_Img03_Sln2D_03.PNG?raw=true\" width=\"350\" />\n",
    "</p>\n",
    "\n",
    "En mayores dimensiones, cada ecuación determina un hiperplano; si la matriz es no singular, la intersección de los hiperplanos es la única solución.\n"
   ]
  },
  {
   "cell_type": "markdown",
   "metadata": {},
   "source": [
    "[Volver a la Tabla de Contenido](#TOC)"
   ]
  },
  {
   "cell_type": "markdown",
   "metadata": {},
   "source": [
    "- ***Ejemplo: No singularidad***\n",
    "\n",
    "Dado el Sistema $2 \\times 2$\n",
    "\n",
    "$$2x_1 + 3x_2 = b_1 $$\n",
    "$$5x_1 + 4x_2 = b_2 $$\n",
    "\n",
    "en notación matricial se tiene:\n",
    "\n",
    "\\begin{align*}\n",
    "\\left[\\begin{array}{cc}\n",
    "  2 & 3 & \\\\\n",
    "  5 & 4 & \\\\\n",
    " \\end{array}\\right]\n",
    "\\begin{Bmatrix}\n",
    "  x_{1}  \\\\\n",
    "  x_{2}  \\\\\n",
    "\\end{Bmatrix}\n",
    "= \\begin{Bmatrix}\n",
    "  b_{1}  \\\\\n",
    "  b_{2}  \\\\\n",
    "\\end{Bmatrix}\n",
    "\\end{align*}\n",
    "\n",
    "- Es no singular, independientemente del valor de $\\mathbf{b}$\n",
    "\n",
    "\n",
    "- Por ejemplo, si $\\mathbf{b}=\\{ 8 \\hspace{.25cm} 13\\}^T$, entonces $\\mathbf{x}=\\{ 1 \\hspace{0.25cm} 2 \\}^T$ es la solución única del sistema.\n"
   ]
  },
  {
   "cell_type": "markdown",
   "metadata": {},
   "source": [
    "[Volver a la Tabla de Contenido](#TOC)"
   ]
  },
  {
   "cell_type": "markdown",
   "metadata": {},
   "source": [
    "- ***Ejemplo: Singularidad***\n",
    "\n",
    "Dado el Sistema $2 \\times 2$\n",
    "\n",
    "$$2x_1 + 3x_2 = b_1 $$\n",
    "$$4x_1 + 6x_2 = b_2 $$\n",
    "\n",
    "en notación matricial se tiene:\n",
    "\n",
    "\\begin{align*}\n",
    "\\left[\\begin{array}{cc}\n",
    "  2 & 3 & \\\\\n",
    "  4 & 6 & \\\\\n",
    " \\end{array}\\right]\n",
    "\\begin{Bmatrix}\n",
    "  x_{1}  \\\\\n",
    "  x_{2}  \\\\\n",
    "\\end{Bmatrix}\n",
    "= \\begin{Bmatrix}\n",
    "  b_{1}  \\\\\n",
    "  b_{2}  \\\\\n",
    "\\end{Bmatrix}\n",
    "\\end{align*}\n",
    "\n",
    "- Es singular, independientemente del valor de $\\mathbf{b}$\n",
    "\n",
    "\n",
    "- Por ejemplo, si $\\mathbf{b}=\\{ 4 \\hspace{.25cm} 7\\}^T$, entonces no existe solución.\n",
    "\n",
    "\n",
    "- Si $\\mathbf{b}=\\{ 4 \\hspace{0.25cm} 8 \\}^T$ , $\\mathbf{x}=\\{ \\gamma \\hspace{0.25cm} (4-2\\gamma)/3 \\}^T$ es solución para cualquier número real $\\gamma$, entonces tiene infinitas soluciones"
   ]
  },
  {
   "cell_type": "markdown",
   "metadata": {},
   "source": [
    "[Volver a la Tabla de Contenido](#TOC)"
   ]
  },
  {
   "cell_type": "markdown",
   "metadata": {},
   "source": [
    "## Métodos Directos"
   ]
  },
  {
   "cell_type": "markdown",
   "metadata": {},
   "source": [
    "Un método para la solución de *SEL* es directo si se define como un conjunto finito de operaciones y de pasos para hallar la solución. El método genera una solución que sería exacta si no fuese por los errores de redondeo al efectuar las operaciones aritméticas (sumas, restas, multiplicaciones y divisiones).\n",
    "\n",
    "Dado un SEL de la forma $\\mathbf{Ax=b}$, se aplican *“operaciones elementales de fila”* para transformar el sistema de ecuaciones en uno equivalente y más simple de resolver.\n",
    "\n",
    "***Operaciones Elementales de Fila:*** Dada una matriz $\\mathbf{A}$, se dice que se realiza una operación elemental de fila si se hace una de las siguientes operaciones:\n",
    "\n",
    "- Intercambio de dos filas;\n",
    "\n",
    "\n",
    "- Sumar a una fila un múltiplo de otra fila; \n",
    "\n",
    "\n",
    "- Multiplicar una fila por un escalar no nulo."
   ]
  },
  {
   "cell_type": "markdown",
   "metadata": {},
   "source": [
    "[Volver a la Tabla de Contenido](#TOC)"
   ]
  },
  {
   "cell_type": "markdown",
   "metadata": {},
   "source": [
    "### Eliminación de Gauss Simple"
   ]
  },
  {
   "cell_type": "markdown",
   "metadata": {},
   "source": [
    "#### Introducción"
   ]
  },
  {
   "cell_type": "markdown",
   "metadata": {},
   "source": [
    "El método de [Eliminación de Gauss Simple](https://en.wikipedia.org/wiki/Gaussian_elimination#:~:text=In%20mathematics%2C%20Gaussian%20elimination%2C%20also,the%20corresponding%20matrix%20of%20coefficients.) se descompone en:\n",
    "\n",
    "- ***Eliminación:*** Dado el sistema $\\mathbf{Ax=b}$, se realizan operaciones fundamentales de fila hasta obtener un sistema triangular superior equivalente $\\mathbf{Ux=B}$\n",
    "\n",
    "\n",
    "- ***Despeje:*** Del sistema triangular superior, se halla primero el valor de $x_n$, con este valor se halla $x_{n-1}$, con estos dos valores se halla $x_{n-2}$ y así sucesivamente hasta obtener el valor de $x_{1}$"
   ]
  },
  {
   "cell_type": "markdown",
   "metadata": {},
   "source": [
    "[Volver a la Tabla de Contenido](#TOC)"
   ]
  },
  {
   "cell_type": "markdown",
   "metadata": {},
   "source": [
    "#### Algoritmo general"
   ]
  },
  {
   "cell_type": "markdown",
   "metadata": {},
   "source": [
    "$\\text{Lea } \\mathbf{A}, \\mathbf{b}$\n",
    "\n",
    "$\\mathbf{U,B} \\leftarrow \\text{Eliminacion}(\\mathbf{A,b})$\n",
    "\n",
    "\n",
    "$x \\leftarrow \\text{Despeje} (\\mathbf{U,B})$\n",
    "\n",
    "$\\text{Imprima } \\mathbf{x}$"
   ]
  },
  {
   "cell_type": "markdown",
   "metadata": {},
   "source": [
    "[Volver a la Tabla de Contenido](#TOC)"
   ]
  },
  {
   "cell_type": "markdown",
   "metadata": {},
   "source": [
    "#### Etapas en el procesos de eliminación"
   ]
  },
  {
   "cell_type": "markdown",
   "metadata": {},
   "source": [
    "- ***Eliminación Etapa 1:*** Convertir todos los elementos $a_{i1}=0$ seleccionando un multiplicador de forma adecuada, en este caso $M_{i1}=a_{i1}/a_{11}$, y calcular la nueva $i–\\text{ésima}$ fila como: $F_i^{\\text{new}}=F_i - M_{i1}F_1$, con $2 \\leq i \\leq n$. Para todo $1 \\leq j \\leq n+1$ se cumple: $a_{ij}^{(new)}=a_{ij}-M_{i1}a_{1j}$.\n",
    "\n",
    "\n",
    "- ***Eliminación Etapa 2:*** Convertir todos los elementos $a_{i2}=0$ seleccionando un multiplicador de forma adecuada, en este caso $M_{i2}=a_{i2}/a_{22}$, y calcular la nueva $i–\\text{ésima}$ fila como: $F_i^{\\text{new}}=F_i - M_{i2}F_2$, con $3 \\leq i \\leq n$. Para todo $2 \\leq j \\leq n+1$ se cumple: $a_{ij}^{(new)}=a_{ij}-M_{i2}a_{2j}$.\n",
    "\n",
    "$$\\vdots$$\n",
    "\n",
    "\n",
    "- ***Eliminación Etapa k:*** Convertir todos los elementos $a_{ik}=0$ seleccionando un multiplicador de forma adecuada, en este caso $M_{ik}=a_{ik}/a_{kk}$, y calcular la nueva $i–\\text{ésima}$ fila como: $F_i^{\\text{new}}=F_i - M_{ik}F_k$, con $1 \\leq k \\leq n-1$ y $k-1 \\leq i \\leq n$. Para todo $k \\leq j \\leq n+1$ se cumple: $a_{ij}^{(new)}=a_{ij}-M_{ik}a_{kj}$."
   ]
  },
  {
   "cell_type": "markdown",
   "metadata": {},
   "source": [
    "[Volver a la Tabla de Contenido](#TOC)"
   ]
  },
  {
   "cell_type": "markdown",
   "metadata": {},
   "source": [
    "#### Algoritmo proceso de Eliminación"
   ]
  },
  {
   "cell_type": "markdown",
   "metadata": {},
   "source": [
    "El presente seudocódigo muestra el algoritmo en el proceso de eliminación, empleando la matriz amentada $[A|b]$. \n",
    "\n",
    "<p float=\"center\">\n",
    "  <img src=\"https://github.com/carlosalvarezh/Analisis_Numerico/blob/master/images/C03_Img04_Eliminacion.PNG?raw=true\" width=\"500\" />\n",
    "</p>\n"
   ]
  },
  {
   "cell_type": "markdown",
   "metadata": {},
   "source": [
    "[Volver a la Tabla de Contenido](#TOC)"
   ]
  },
  {
   "cell_type": "markdown",
   "metadata": {},
   "source": [
    "#### Resultado del proceso de Eliminación"
   ]
  },
  {
   "cell_type": "markdown",
   "metadata": {},
   "source": [
    "El resultado del proceso de eliminación sobre la matriz aumentada es el siguiente\n",
    "\n",
    "\n",
    "\\begin{align*}\n",
    "\\left[\\begin{array}{ccccccc}\n",
    "  a_{11} & a_{12} & a_{13} & \\ldots & a_{1n} & \\vdots & a_{1,n+1} \\\\\n",
    "  0      & a_{22} & a_{23} & \\ldots & a_{2n} & \\vdots & a_{2,n+1} \\\\\n",
    "  0      & 0      & a_{33} & \\ldots & a_{3n} & \\vdots & a_{3,n+1} \\\\\n",
    "  \\vdots & \\vdots & \\vdots & \\ddots & \\vdots & \\vdots & \\vdots     \\\\\n",
    "  0      & 0      & 0      & \\vdots & a_{nn} & \\vdots & a_{n,n+1} \\\\\n",
    "\\end{array}\\right]\n",
    "\\end{align*}"
   ]
  },
  {
   "cell_type": "markdown",
   "metadata": {},
   "source": [
    "[Volver a la Tabla de Contenido](#TOC)"
   ]
  },
  {
   "cell_type": "markdown",
   "metadata": {},
   "source": [
    "#### Implementación computacional"
   ]
  },
  {
   "cell_type": "markdown",
   "metadata": {},
   "source": [
    "A continuación se presenta una implementación en `Python` del algoritmo de eliminación"
   ]
  },
  {
   "cell_type": "code",
   "execution_count": null,
   "metadata": {},
   "outputs": [],
   "source": [
    "def eliminacion(Ab):\n",
    "    \"\"\"\n",
    "    función en Python 3.7 que realiza el proceso de eliminación (encontrar la triangular superior)\n",
    "    en un Sistema de Ecuaciones Lineales (SEL)\n",
    "    \n",
    "    input: Se ingresa la matriz ampliada Ab[n x n+1]\n",
    "    \n",
    "    output: devuelve la matriz ampliada Ab[n x n+1] triangular superior\n",
    "    \"\"\"\n",
    "    \n",
    "    for k in range(0,n-1):\n",
    "        print(\"\\n\\nEtapa\", k+1, \"Eliminación columna: \", k+1, \"\\n\")\n",
    "        for i in range(k+1, n):\n",
    "            multiplicador = Ab[i][k]/Ab[k][k]\n",
    "            for j in range(k, n+1):\n",
    "                Ab[i][j] = Ab[i][j] - multiplicador * Ab[k][j]\n",
    "    return Ab\n"
   ]
  },
  {
   "cell_type": "markdown",
   "metadata": {},
   "source": [
    "[Volver a la Tabla de Contenido](#TOC)"
   ]
  },
  {
   "cell_type": "markdown",
   "metadata": {},
   "source": [
    "#### Sustitución regresiva (o despeje)"
   ]
  },
  {
   "cell_type": "markdown",
   "metadata": {},
   "source": [
    "Una vez se obtiene la matriz triangular superior, se procede a realizar el procedimiento de sustitución regresiva, que consiste en despejar la última incógnita de la última ecuación (observe que es una ecuación con una sola incógnita) quedando\n",
    "\n",
    "$$x_n = \\frac{a_{n,n+1}}{a_{n,n}}$$\n",
    "\n",
    "después se pasa a la penúltima ecuación y se despeja la penúltima incógnita, que también es una ecuación con una sola incógnita, ya que se conoce el valor de $x_n$ dado en el paso anterior, quedando:    \n",
    "\n",
    "$$x_{n-1} = \\frac{a_{n-1,n+1}-a_{n,n+1} \\times x_n}{a_{n,n}}$$\n",
    "\n",
    "se sigue este procedimiento hasta que se llega a la primera ecuación, resulta la siguiente fórmula recursiva:\n",
    "\n",
    "$$x_i=\\frac{a_{i,n+1}-\\sum\\limits_{j=i+1}^{n}a_{ij}x_j}{a_{ii}}, i=n, n-1, n-2, \\ldots, 1.$$\n"
   ]
  },
  {
   "cell_type": "markdown",
   "metadata": {},
   "source": [
    "[Volver a la Tabla de Contenido](#TOC)"
   ]
  },
  {
   "cell_type": "markdown",
   "metadata": {},
   "source": [
    "#### Algoritmo proceso de sustitución regresiva"
   ]
  },
  {
   "cell_type": "markdown",
   "metadata": {},
   "source": [
    "<p float=\"center\">\n",
    "  <img src=\"https://github.com/carlosalvarezh/Analisis_Numerico/blob/master/images/C03_Img05_SustRegresiva.PNG?raw=true\" width=\"500\" />\n",
    "</p>\n"
   ]
  },
  {
   "cell_type": "markdown",
   "metadata": {},
   "source": [
    "[Volver a la Tabla de Contenido](#TOC)"
   ]
  },
  {
   "cell_type": "markdown",
   "metadata": {},
   "source": [
    "#### Implementación computacional"
   ]
  },
  {
   "cell_type": "markdown",
   "metadata": {},
   "source": [
    "A continuación se presenta una implementación en `Python` del algoritmo de sustitución regresiva"
   ]
  },
  {
   "cell_type": "code",
   "execution_count": null,
   "metadata": {},
   "outputs": [],
   "source": [
    "def SustitucionRegresiva(Ab):\n",
    "    \"\"\"\n",
    "    función en Python 3.7 que realiza el proceso de sustitución regresiva\n",
    "    \n",
    "    input: Se ingresa la matriz ampliada Ab[n * n+1]\n",
    "    \n",
    "    output: devuelve el vector solución x[n * 1]\n",
    "    \"\"\"    \n",
    "    \n",
    "    n = Ab.shape[1]\n",
    "    x = np.zeros(n)\n",
    "    x[n-1] = Ab[n-1][n] / Ab[n-1][n-1]\n",
    "    for i in range(n-2,-1,-1):\n",
    "        suma = 0\n",
    "        for j in range(i+1, n):\n",
    "            suma = suma + Ab[i][j] * x[j]\n",
    "        x[i] = (Ab[i][n] - suma) / Ab[i][i]\n",
    "    return x"
   ]
  },
  {
   "cell_type": "markdown",
   "metadata": {},
   "source": [
    "[Volver a la Tabla de Contenido](#TOC)"
   ]
  },
  {
   "cell_type": "markdown",
   "metadata": {},
   "source": [
    "#### Análisis de desempeño algoritmo de Eliminación de Gauss Simple"
   ]
  },
  {
   "cell_type": "markdown",
   "metadata": {},
   "source": [
    "La cantidad de operaciones (sumas, restas, multiplicaciones y/o divisiones) que hay qué realizar para alcanzar el sistema triangular superior (eliminación) de $n$ ecuaciones, es de\n",
    "\n",
    "$$\\frac{3(n-1)n}{2}+\\frac{(n-1)n(2n-1)}{3}$$\n",
    "\n",
    "y para efectuar el proceso de sustitución regresiva (solución del sistema) se requieren de $n^2$ operaciones aritméticas. \n",
    "\n",
    "En total, para resolver un *SEL* empleando el método de Eliminación de Gauss simple (sin contabilizar las operaciones de pivoteo) es de\n",
    "\n",
    "$$\\frac{4n^3+9n^2-7n}{6}$$\n",
    "\n",
    "Es decir, para resolver un sistema de 10 ecuaciones con 10 incógnitas por el método de Eliminacion de Gauss se requieren del orden de 805 operaciones aritméticas. Un orden de magnitud mayor, incrementará la cantidad de operaciones que hay qué realizar al cubo."
   ]
  },
  {
   "cell_type": "markdown",
   "metadata": {},
   "source": [
    "[Volver a la Tabla de Contenido](#TOC)"
   ]
  },
  {
   "cell_type": "markdown",
   "metadata": {},
   "source": [
    "#### Ejemplo teórico algoritmo Eliminación de Gauss simple"
   ]
  },
  {
   "cell_type": "markdown",
   "metadata": {},
   "source": [
    "A manera de ejemplo paso-a-paso, vamos a construir un sistema de $5$ ecuaciones con $5$ incógnitas:\n",
    "\n",
    "\n",
    "$$a_{11}x_1 + a_{12}x_2 + a_{13}x_3 + a_{14}x_4 + a_{15}x_5 = b_1 \\hspace{1 cm} (ec. 1)$$\n",
    "\n",
    "$$a_{21}x_1 + a_{22}x_2 + a_{23}x_3 + a_{24}x_4 + a_{25}x_5 = b_2 \\hspace{1 cm} (ec. 2)$$\n",
    "\n",
    "$$a_{31}x_1 + a_{32}x_2 + a_{33}x_3 + a_{34}x_4 + a_{35}x_5 = b_3 \\hspace{1 cm} (ec. 3)$$\n",
    "\n",
    "$$a_{41}x_1 + a_{42}x_2 + a_{43}x_3 + a_{44}x_4 + a_{45}x_5 = b_4 \\hspace{1 cm} (ec. 4)$$\n",
    "\n",
    "$$a_{51}x_1 + a_{52}x_2 + a_{53}x_3 + a_{54}x_4 + a_{55}x_5 = b_5 \\hspace{1 cm} (ec. 5)$$"
   ]
  },
  {
   "cell_type": "markdown",
   "metadata": {},
   "source": [
    "- ***Eliminación:*** Dado el sistema 𝑨𝒙=𝒃 se realizan operaciones fundamentales de fila hasta obtener un sistema triangular superior equivalente 𝑼𝒙=𝑩\n",
    "\n",
    "> ***Etapa $1$:*** Convertir todos los elementos $a_{i1}=0$ seleccionando un multiplicador de forma adecuada, en este caso $M_{i1}=a_{i1}/a_{11}$ , y calcular la nueva $i$–ésima fila como: $F_i^{(nueva)}=F_{i}−M_{i1} \\times F_1$, con $2\\leq i \\leq n$. \n",
    "\n",
    "\n",
    "> ***Etapa $2$:*** Convertir todos los elementos $a_{i2}=0$ seleccionando un multiplicador de forma adecuada, en este caso $M_{i2}=a_{i2}/a_{22}$ , y calcular la nueva $i$–ésima fila como: $F_i^{(nueva)}=F_{i}−M_{i2} \\times F_2$, con $3\\leq i \\leq n$.\n",
    "\n",
    "\n",
    "> ***Etapa $3$:*** Convertir todos los elementos $a_{i3}=0$ seleccionando un multiplicador de forma adecuada, en este caso $M_{i3}=a_{i3}/a_{33}$ , y calcular la nueva $i$–ésima fila como: $F_i^{(nueva)}=F_{i}−M_{i3} \\times F_3$, con $4\\leq i \\leq n$.\n",
    "\n",
    "\n",
    "> $\\vdots$\n",
    "\n",
    "resultando"
   ]
  },
  {
   "cell_type": "markdown",
   "metadata": {},
   "source": [
    "$$\\begin{matrix} \n",
    "a_{11}x_1 &+& a_{12}x_2 &+& a_{13}x_3 &+& a_{14}x_4 &+& a_{15}x_5 &=& b_1 \\\\ \n",
    "          & & a_{22}^{(1)}x_2 &+& a_{23}^{(1)}x_3 &+& a_{24}^{(1)}x_4 &+& a_{25}^{(1)}x_5 &=& b_2^{(1)} \\\\\n",
    "          & &           & & a_{33}^{(2)}x_3 &+& a_{34}^{(2)}x_4 &+& a_{35}^{(2)}x_5 &=& b_3^{(2)} \\\\\n",
    "          & &           & &           & & a_{44}^{(3)}x_4 &+& a_{45}^{(3)}x_5 &=& b_4^{(3)} \\\\\n",
    "          & &           & &           & &           & & a_{55}^{(4)}x_5 &=& b_5^{(4)} \\\\\n",
    "  \\end{matrix}$$\n",
    "\n",
    "\n",
    "Los superíndices entre paréntesis indican la cantidad de veecs que fue transformado ese término, debido a las operaciones de fila."
   ]
  },
  {
   "cell_type": "markdown",
   "metadata": {},
   "source": [
    "- ***Sustitución Regresiva*** del sistema triangular superior: se halla primero el valor de $𝑥_5$, con este valor se halla $𝑥_4$, con estos dos valores se halla $𝑥_3$ y así sucesivamente hasta obtener el valor de $𝑥_1$."
   ]
  },
  {
   "cell_type": "markdown",
   "metadata": {},
   "source": [
    "$$\\begin{matrix} \n",
    "x_5 &=& \\frac{b_5^{(4)}}{a_{55}^{(4)}}\\\\\n",
    "x_4 &=& \\frac{b_4^{(3)}-a_{45}^{(3)}x_5}{a_{44}^{(3)}} \\\\\n",
    "x_3 &=& \\frac{b_3^{(2)}-a_{34}^{(2)}x_4 - a_{35}^{(2)}x_5}{a_{33}^{(2)}} \\\\\n",
    "x_2 &=& \\frac{b_2^{(1)}-a_{23}^{(1)}x_3 - a_{24}^{(1)}x_4 - a_{25}^{(1)}x_5 }{a_{22}^{(1)}} \\\\\n",
    "x_1 &=& \\frac{b_1 - a_{12}x_2 - a_{13}x_3 - a_{14}x_4 - a_{15}x_5 }{a_{11}} \\\\ \n",
    "  \\end{matrix}$$\n"
   ]
  },
  {
   "cell_type": "markdown",
   "metadata": {},
   "source": [
    "[Volver a la Tabla de Contenido](#TOC)"
   ]
  },
  {
   "cell_type": "markdown",
   "metadata": {},
   "source": [
    "#### Ejemplo numérico algoritmo Eliminación de Gauss Simple"
   ]
  },
  {
   "cell_type": "markdown",
   "metadata": {},
   "source": [
    "Resolver el sistema $4 \\times 4$:\n",
    "\n",
    "$$6x_1  - 2x_2  + 2x_3 +  4x_4 = 12$$\n",
    "\n",
    "$$12x_1 - 8x_2  + 6x_3 + 10x_4 = 34$$\n",
    "\n",
    "$$3x_1  - 13x_2 + 9x_3 + 3x_4  = 27$$\n",
    "\n",
    "$$-6x_1 + 4x_2  +  x_3 - 18x_4 = -38$$"
   ]
  },
  {
   "cell_type": "markdown",
   "metadata": {},
   "source": [
    "- ***Eliminación:***\n",
    "\n",
    "> ***Etapa $1$:*** Convertir en ceros todos los elementos de la columna $1$ debajo del elemento pivote $(a_{11}=6)$, seleccionando un multiplicador para cada fila, de forma adecuada. En este caso:\n",
    "\n",
    "$$M_{21}=a_{21}/a_{11}=12/6 = 2$$\n",
    "\n",
    "$$M_{31}=a_{31}/a_{11}=3/6 = 1/2$$\n",
    "\n",
    "$$M_{41}=a_{41}/a_{11}=-6/6 = -1$$\n",
    "\n",
    "\n",
    "y calcular:\n",
    "\n",
    "> la nueva $2$a fila como: $F_2^{(nueva)}=F_{2}− M_{21} F_1 = F_{2}− 2 F_1$. \n",
    "\n",
    "> la nueva $3$a fila como: $F_3^{(nueva)}=F_{3}− M_{31} F_1 = F_{3}− F_1/2$. \n",
    "\n",
    "> la nueva $4$a fila como: $F_4^{(nueva)}=F_{4}- M_{41} F_1 = F_{4}- (-1)F_1 = F_{4} + F_1$. \n"
   ]
  },
  {
   "cell_type": "markdown",
   "metadata": {},
   "source": [
    "$$\\begin{matrix} \n",
    "6x_1 &-&  2x_2 &+& 2x_3 &+&  4x_4 &=& 12 \\\\ \n",
    "  0  &-&  4x_2 &+& 2x_3 &+&  2x_4 &=& 10 \\\\\n",
    "  0  &-& 12x_2 &+& 8x_3 &+&   x_4 &=& 21 \\\\\n",
    "  0  & &  2x_2 &+& 3x_3 &-& 14x_4 &=& -26\\\\\n",
    "  \\end{matrix}$$\n"
   ]
  },
  {
   "cell_type": "markdown",
   "metadata": {},
   "source": [
    "> ***Etapa $2$:*** Convertir en ceros todos los elementos de la columna $2$ debajo del elemento pivote $(a_{22}=-4)$, seleccionando un multiplicador para cada fila, de forma adecuada. En este caso:\n",
    "\n",
    "$$M_{32}=a_{32}/a_{22}=-12/-4 = 3$$\n",
    "\n",
    "$$M_{42}=a_{42}/a_{22}= 2/-4 = -1/2$$\n",
    "\n",
    "y calcular \n",
    "\n",
    "> la nueva $3$a fila como: $F_3^{(nueva)}=F_{3}−3 F_2$. \n",
    "\n",
    "> la nueva $4$a fila como: $F_4^{(nueva)}=F_{4}+ F_2/2$. \n"
   ]
  },
  {
   "cell_type": "markdown",
   "metadata": {},
   "source": [
    "$$\\begin{matrix} \n",
    "6x_1 &-&  2x_2 &+& 2x_3 &+&  4x_4 &=& 12 \\\\ \n",
    "  0  &-&  4x_2 &+& 2x_3 &+&  2x_4 &=& 10 \\\\\n",
    "  0  & &    0  & & 2x_3 &-&  5x_4 &=& -9 \\\\\n",
    "  0  & &    0  & & 4x_3 &-& 13x_4 &=& -21\\\\\n",
    "  \\end{matrix}$$"
   ]
  },
  {
   "cell_type": "markdown",
   "metadata": {},
   "source": [
    "> ***Etapa $3$:*** Convertir en ceros todos los elementos de la columna $3$ debajo del elemento pivote $(a_{33}=2)$, seleccionando un multiplicador de forma adecuada. En este caso:\n",
    "\n",
    "$$M_{43}=a_{43}/a_{33}=4/2 = 2$$\n",
    "\n",
    "y calcular la nueva $4$a fila como: $F_4^{(nueva)}=F_{4}−2 F_3$. "
   ]
  },
  {
   "cell_type": "markdown",
   "metadata": {},
   "source": [
    "$$\\begin{matrix} \n",
    "6x_1 &-&  2x_2 &+& 2x_3 &+&  4x_4 &=& 12 \\\\ \n",
    "  0  &-&  4x_2 &+& 2x_3 &+&  2x_4 &=& 10 \\\\\n",
    "  0  & &    0  & & 2x_3 &-&  5x_4 &=& -9 \\\\\n",
    "  0  & &    0  & &  0   &-&  3x_4 &=& -3 \\\\\n",
    "  \\end{matrix}$$"
   ]
  },
  {
   "cell_type": "markdown",
   "metadata": {},
   "source": [
    "Se observa que el sistema resultante es triangular superior.\n",
    "\n",
    "Por último, aplicando el algoritmo de la *sustitución regresiva*:"
   ]
  },
  {
   "cell_type": "markdown",
   "metadata": {},
   "source": [
    "$$\\begin{matrix} \n",
    "x_4 &=& \\frac{-3}{3}= 1\\\\\n",
    "x_3 &=& \\frac{-9+5 \\times 1}{2} = -2 \\\\\n",
    "x_2 &=& \\frac{10-2(2)-2(1)}{-4} = -3\\\\\n",
    "x_1 &=& \\frac{12+2(-3)-2(-2)-4(1)}{6}=1\\\\\n",
    "\\end{matrix}$$\n"
   ]
  },
  {
   "cell_type": "markdown",
   "metadata": {},
   "source": [
    "[Volver a la Tabla de Contenido](#TOC)"
   ]
  },
  {
   "cell_type": "markdown",
   "metadata": {},
   "source": [
    "#### Ejemplo computacional algoritmo de Eliminación de Gauss Simple"
   ]
  },
  {
   "cell_type": "markdown",
   "metadata": {},
   "source": [
    "Vamos a resolver el problema usando programación en el lenguaje `Python`. Se importarán algunas bibliotecas matemáticas para trabajar con arreglos en vez de listas."
   ]
  },
  {
   "cell_type": "code",
   "execution_count": 1,
   "metadata": {
    "collapsed": true
   },
   "outputs": [],
   "source": [
    "import numpy as np\n",
    "import matplotlib.pyplot as plt"
   ]
  },
  {
   "cell_type": "markdown",
   "metadata": {},
   "source": [
    "usando los algoritmos vistos:\n",
    "\n",
    "- Lea la matriz de coeficientes $\\mathbf{A}$ y el vector de términos independientes $\\mathbf{b}$\n",
    "\n",
    "\n",
    "- Realice el proceso de eliminación para obtener la matríz triangular superior\n",
    "\n",
    "\n",
    "- Realice el proceso de sustitución regresiva para obtener el vector solución\n",
    "\n",
    "Generando la matriz de coeficientes $A$ y el vector de términos independientes $\\mathbf{b}$:"
   ]
  },
  {
   "cell_type": "code",
   "execution_count": 2,
   "metadata": {
    "collapsed": true
   },
   "outputs": [],
   "source": [
    "A = np.array([[ 6., - 2, 2,   4],\n",
    "              [12, - 8, 6,  10],\n",
    "              [ 3, -13, 9,   3],\n",
    "              [-6,   4, 1, -18]])\n",
    "#print(A)"
   ]
  },
  {
   "cell_type": "code",
   "execution_count": 3,
   "metadata": {
    "collapsed": true
   },
   "outputs": [],
   "source": [
    "b = np.array([12., 34, 27, -38])\n",
    "#print(b)"
   ]
  },
  {
   "cell_type": "markdown",
   "metadata": {},
   "source": [
    "Creando la matriza aumentada $[\\mathbf{A}|\\mathbf{b}]$"
   ]
  },
  {
   "cell_type": "code",
   "execution_count": 4,
   "metadata": {
    "collapsed": true
   },
   "outputs": [],
   "source": [
    "Ab = np.c_[A,b]\n",
    "#Ab\n",
    "#np.shape(Ab)"
   ]
  },
  {
   "cell_type": "markdown",
   "metadata": {},
   "source": [
    "[Volver a la Tabla de Contenido](#TOC)"
   ]
  },
  {
   "cell_type": "markdown",
   "metadata": {},
   "source": [
    "- ***Proceso de Eliminación***"
   ]
  },
  {
   "cell_type": "code",
   "execution_count": 5,
   "metadata": {},
   "outputs": [
    {
     "name": "stdout",
     "output_type": "stream",
     "text": [
      "\n",
      "\n",
      "Etapa 1 Eliminación columna:  1 \n",
      "\n",
      "\n",
      " [[  6.  -2.   2.   4.  12.]\n",
      " [  0.  -4.   2.   2.  10.]\n",
      " [  3. -13.   9.   3.  27.]\n",
      " [ -6.   4.   1. -18. -38.]]\n",
      "\n",
      " [[  6.  -2.   2.   4.  12.]\n",
      " [  0.  -4.   2.   2.  10.]\n",
      " [  0. -12.   8.   1.  21.]\n",
      " [ -6.   4.   1. -18. -38.]]\n",
      "\n",
      " [[  6.  -2.   2.   4.  12.]\n",
      " [  0.  -4.   2.   2.  10.]\n",
      " [  0. -12.   8.   1.  21.]\n",
      " [  0.   2.   3. -14. -26.]]\n",
      "\n",
      "\n",
      "Etapa 2 Eliminación columna:  2 \n",
      "\n",
      "\n",
      " [[  6.  -2.   2.   4.  12.]\n",
      " [  0.  -4.   2.   2.  10.]\n",
      " [  0.   0.   2.  -5.  -9.]\n",
      " [  0.   2.   3. -14. -26.]]\n",
      "\n",
      " [[  6.  -2.   2.   4.  12.]\n",
      " [  0.  -4.   2.   2.  10.]\n",
      " [  0.   0.   2.  -5.  -9.]\n",
      " [  0.   0.   4. -13. -21.]]\n",
      "\n",
      "\n",
      "Etapa 3 Eliminación columna:  3 \n",
      "\n",
      "\n",
      " [[  6.  -2.   2.   4.  12.]\n",
      " [  0.  -4.   2.   2.  10.]\n",
      " [  0.   0.   2.  -5.  -9.]\n",
      " [  0.   0.   0.  -3.  -3.]]\n"
     ]
    }
   ],
   "source": [
    "\"\"\"n = A.shape[1]\n",
    "\n",
    "for k in range(0,n-1):\n",
    "    print(\"\\n\\nEtapa\", k+1, \"Eliminación columna: \", k+1, \"\\n\")\n",
    "    for i in range(k+1, n):\n",
    "        multiplicador = Ab[i][k]/Ab[k][k]\n",
    "        for j in range(k, n+1):\n",
    "            Ab[i][j] = Ab[i][j] - multiplicador * Ab[k][j]\n",
    "        print(\"\\n\",Ab)\n",
    "\"\"\""
   ]
  },
  {
   "cell_type": "code",
   "execution_count": null,
   "metadata": {
    "collapsed": true
   },
   "outputs": [],
   "source": [
    "print(Ab)\n",
    "print(n)\n",
    "print(k)\n",
    "\n",
    "for l in range(0,n-1):\n",
    "    print(\"\\n\\nEtapa\", l+k+1, \"Eliminación columna: \", l+n, \"\\n\")\n",
    "    for i in range(n):\n",
    "        multiplicador = Ab[i][n-1]/Ab[n-1][n-1]\n",
    "        print(multiplicador)\n",
    "        for j in range(n,0,-1):\n",
    "            Ab[i][j] = Ab[i][j] - multiplicador * Ab[l][j]\n",
    "        print(\"\\n\",Ab)"
   ]
  },
  {
   "cell_type": "markdown",
   "metadata": {},
   "source": [
    "[Volver a la Tabla de Contenido](#TOC)"
   ]
  },
  {
   "cell_type": "markdown",
   "metadata": {},
   "source": [
    "- ***Proceso de Sustitución regresiva***"
   ]
  },
  {
   "cell_type": "code",
   "execution_count": 6,
   "metadata": {},
   "outputs": [
    {
     "name": "stdout",
     "output_type": "stream",
     "text": [
      "[ 1. -3. -2.  1.]\n"
     ]
    }
   ],
   "source": [
    "x = np.zeros(n)\n",
    "x[n-1] = Ab[n-1][n] / Ab[n-1][n-1]\n",
    "for i in range(n-2,-1,-1):\n",
    "    suma = 0\n",
    "    for j in range(i+1, n):\n",
    "        suma = suma + Ab[i][j] * x[j]\n",
    "    x[i] = (Ab[i][n] - suma) / Ab[i][i]\n",
    "\n",
    "print(x)"
   ]
  },
  {
   "cell_type": "markdown",
   "metadata": {},
   "source": [
    "Resolviendo el *SEL* por el método que incorpora `Python` por defecto:"
   ]
  },
  {
   "cell_type": "code",
   "execution_count": 7,
   "metadata": {},
   "outputs": [
    {
     "name": "stdout",
     "output_type": "stream",
     "text": [
      "[ 1. -3. -2.  1.]\n"
     ]
    }
   ],
   "source": [
    "x = np.linalg.solve(A,b)\n",
    "print(x)"
   ]
  },
  {
   "cell_type": "markdown",
   "metadata": {},
   "source": [
    "Comprobando que la solución es correcta:"
   ]
  },
  {
   "cell_type": "code",
   "execution_count": 8,
   "metadata": {},
   "outputs": [
    {
     "data": {
      "text/plain": [
       "array([ True,  True, False,  True], dtype=bool)"
      ]
     },
     "execution_count": 8,
     "metadata": {},
     "output_type": "execute_result"
    }
   ],
   "source": [
    "A.dot(x) == b"
   ]
  },
  {
   "cell_type": "code",
   "execution_count": 9,
   "metadata": {},
   "outputs": [
    {
     "name": "stdout",
     "output_type": "stream",
     "text": [
      "[ 12.  34.  27. -38.]\n"
     ]
    }
   ],
   "source": [
    "print(A.dot(x))"
   ]
  },
  {
   "cell_type": "code",
   "execution_count": 10,
   "metadata": {},
   "outputs": [
    {
     "name": "stdout",
     "output_type": "stream",
     "text": [
      "[ 12.  34.  27. -38.]\n"
     ]
    }
   ],
   "source": [
    "print(b)"
   ]
  },
  {
   "cell_type": "markdown",
   "metadata": {},
   "source": [
    "[Volver a la Tabla de Contenido](#TOC)"
   ]
  },
  {
   "cell_type": "markdown",
   "metadata": {
    "collapsed": true
   },
   "source": [
    "### Método de Gauss - Jordan"
   ]
  },
  {
   "cell_type": "markdown",
   "metadata": {
    "collapsed": true
   },
   "source": [
    "El método de *Gauss - Jordan* consiste básicamente en continuar con el proceso de eliminación hasta obtener una matriz diagonal (únicamente tiene elementos diferentes de cero en la diagonal principal)"
   ]
  },
  {
   "cell_type": "markdown",
   "metadata": {},
   "source": [
    "$$\\begin{matrix} \n",
    "a_{11}^{(7)}x_1 & &    0       & &   0       & &  0         &=& b_{1}^{(7)}  \\\\ \n",
    "  0       & &  a_{22}^{(6)}x_2 & &   0       & &  0         &=& b_{2}^{(6)} \\\\\n",
    "  0       & &    0       & & a_{33}^{(5)}x_3 & &  0         &=& b_{3}^{(5)} \\\\\n",
    "  0       & &    0       & &   0       & &  a_{44}^{(4)}x_4 &=& b_{4}^{(4)} \\\\\n",
    "  \\end{matrix}$$"
   ]
  },
  {
   "cell_type": "markdown",
   "metadata": {},
   "source": [
    "La solución del sistema es \"inmediata\":"
   ]
  },
  {
   "cell_type": "markdown",
   "metadata": {},
   "source": [
    "$$\\begin{matrix} \n",
    "x_1 &=& \\frac{b_{1}^{(7)}}{a_{11}^{(7)}}  \\\\ \n",
    "x_2 &=& \\frac{b_{2}^{(7)}}{a_{22}^{(6)}}  \\\\ \n",
    "x_3 &=& \\frac{b_{3}^{(7)}}{a_{33}^{(5)}}  \\\\ \n",
    "x_4 &=& \\frac{b_{4}^{(7)}}{a_{44}^{(4)}}  \\\\ \n",
    "\\end{matrix}$$"
   ]
  },
  {
   "cell_type": "markdown",
   "metadata": {},
   "source": [
    "Continuando con el ejemplo anterior:"
   ]
  },
  {
   "cell_type": "markdown",
   "metadata": {},
   "source": [
    "$$\\begin{matrix} \n",
    "6x_1 &-&  2x_2 &+& 2x_3 &+&  4x_4 &=& 12 \\\\ \n",
    "  0  &-&  4x_2 &+& 2x_3 &+&  2x_4 &=& 10 \\\\\n",
    "  0  & &    0  & & 2x_3 &-&  5x_4 &=& -9 \\\\\n",
    "  0  & &    0  & &  0   &-&  3x_4 &=& -3 \\\\\n",
    "  \\end{matrix}$$"
   ]
  },
  {
   "cell_type": "markdown",
   "metadata": {},
   "source": [
    "Se emplea el mismo algoritmo que se venía utilizando, pero ahora se empezará desde la columna $4$, fila $1$, y se eliminan todos los elementos hasta el elemento que está encima del elemento pivote. Una vez eliminados todos los elementos encima del pivote, se continua con la columna $3$ y así sucesivamente hasta la columna $2$."
   ]
  },
  {
   "cell_type": "markdown",
   "metadata": {},
   "source": [
    "- <strong>*Etapa $4$*:</strong> Convertir en ceros todos los elementos de la columna $4$ encima del elemento pivote $(a_{44}=-3)$, seleccionando un multiplicador para cada fila, de forma adecuada. En este caso:\n",
    "\n",
    "> $M_{14} = a_{14}/a_{44} =  4/(-3)$\n",
    "\n",
    "> $M_{24} = a_{24}/a_{44} =  2/(-3)$ \n",
    "\n",
    "> $M_{34} = a_{34}/a_{44} = -5/(-3)$ \n",
    "\n",
    "\n",
    "y calcular:\n",
    "\n",
    "> la nueva $1$a fila como: $F_1^{(nueva)}=F_{1}− M_{14} F_4 = F_{1} + 4/3 F_4$. \n",
    "\n",
    "> la nueva $2$a fila como: $F_2^{(nueva)}=F_{2}− M_{24} F_4 = F_{2} + 2/3 F_4$. \n",
    "\n",
    "> la nueva $3$a fila como: $F_3^{(nueva)}=F_{3}- M_{34} F_4 = F_{3} - 5/3 F_4 $. "
   ]
  },
  {
   "cell_type": "markdown",
   "metadata": {},
   "source": [
    "$$\\begin{matrix} \n",
    "6x_1 &-&  2x_2 &+& 2x_3 & &     0 &=&  8 \\\\ \n",
    "  0  &-&  4x_2 &+& 2x_3 & &     0 &=&  8 \\\\\n",
    "  0  & &    0  & & 2x_3 & &     0 &=& -4 \\\\\n",
    "  0  & &    0  & &  0   &-&  3x_4 &=& -3 \\\\\n",
    "  \\end{matrix}$$"
   ]
  },
  {
   "cell_type": "markdown",
   "metadata": {},
   "source": [
    "- <strong>*Etapa $5$*:</strong> Convertir en ceros todos los elementos de la columna $3$ encima del elemento pivote $(a_{33}=2)$, seleccionando un multiplicador para cada fila, de forma adecuada. En este caso:\n",
    "\n",
    "> $M_{13} = a_{13}/a_{33} = 2/2 = 1$ \n",
    "\n",
    "> $M_{23} = a_{23}/a_{33} = 2/2 = 1$ \n",
    "\n",
    "y calcular \n",
    "\n",
    "> la nueva $1$a fila como: $F_1^{(nueva)} = F_{1} − F_3$. \n",
    "\n",
    "> la nueva $2$a fila como: $F_2^{(nueva)} = F_{2} - F_3$. \n"
   ]
  },
  {
   "cell_type": "markdown",
   "metadata": {},
   "source": [
    "$$\\begin{matrix} \n",
    "6x_1 &-&  2x_2 & & 0    & &     0 &=&  12 \\\\ \n",
    "  0  &-&  4x_2 & & 0    & &     0 &=&  12 \\\\\n",
    "  0  & &    0  & & 2x_3 & &     0 &=& -4 \\\\\n",
    "  0  & &    0  & &  0   &-&  3x_4 &=& -3 \\\\\n",
    "  \\end{matrix}$$"
   ]
  },
  {
   "cell_type": "markdown",
   "metadata": {},
   "source": [
    "- <strong>*Etapa $6$*:</strong> Convertir en ceros todos los elementos de la columna $2$ encima del elemento pivote $(a_{22}=-4)$, seleccionando un multiplicador de forma adecuada. En este caso:\n",
    "\n",
    "> $M_{12} = a_{12}/a_{22} = -2/-4 = 1/2$ \n",
    "\n",
    "y calcular la nueva $1$a fila como: $F_1^{(nueva)}=F_{1}− F_2/2$. "
   ]
  },
  {
   "cell_type": "markdown",
   "metadata": {},
   "source": [
    "$$\\begin{matrix} \n",
    "6x_1 & &     0 & & 0    & &     0 &=&  6 \\\\ \n",
    "  0  &-&  4x_2 & & 0    & &     0 &=&  12 \\\\\n",
    "  0  & &    0  & & 2x_3 & &     0 &=& -4 \\\\\n",
    "  0  & &    0  & &  0   &-&  3x_4 &=& -3 \\\\\n",
    "  \\end{matrix}$$"
   ]
  },
  {
   "cell_type": "markdown",
   "metadata": {},
   "source": [
    "La solución es inmediata:"
   ]
  },
  {
   "cell_type": "markdown",
   "metadata": {},
   "source": [
    "$$\\begin{matrix} \n",
    "x_1 &=& \\frac{6}{6} &=& 1 \\\\ \n",
    "x_2 &=& \\frac{12}{-4} &=& -3  \\\\ \n",
    "x_3 &=& \\frac{-4}{-2} &=& -2  \\\\ \n",
    "x_4 &=& \\frac{-3}{-3} &=& 1  \\\\ \n",
    "\\end{matrix}$$"
   ]
  },
  {
   "cell_type": "markdown",
   "metadata": {},
   "source": [
    "Continuando con el programa:"
   ]
  },
  {
   "cell_type": "code",
   "execution_count": null,
   "metadata": {
    "collapsed": true
   },
   "outputs": [],
   "source": [
    "print(Ab)"
   ]
  },
  {
   "cell_type": "markdown",
   "metadata": {
    "collapsed": true
   },
   "source": [
    "# Métodos Iterativos"
   ]
  },
  {
   "cell_type": "markdown",
   "metadata": {},
   "source": [
    "## Método de Gauss - Seidel"
   ]
  },
  {
   "cell_type": "code",
   "execution_count": null,
   "metadata": {},
   "outputs": [],
   "source": []
  }
 ],
 "metadata": {
  "anaconda-cloud": {},
  "kernelspec": {
   "display_name": "Python 3",
   "language": "python",
   "name": "python3"
  },
  "language_info": {
   "codemirror_mode": {
    "name": "ipython",
    "version": 3
   },
   "file_extension": ".py",
   "mimetype": "text/x-python",
   "name": "python",
   "nbconvert_exporter": "python",
   "pygments_lexer": "ipython3",
   "version": "3.6.10"
  },
  "latex_envs": {
   "LaTeX_envs_menu_present": true,
   "autocomplete": true,
   "bibliofile": "biblio.bib",
   "cite_by": "apalike",
   "current_citInitial": 1,
   "eqLabelWithNumbers": true,
   "eqNumInitial": 1,
   "hotkeys": {
    "equation": "Ctrl-E",
    "itemize": "Ctrl-I"
   },
   "labels_anchors": false,
   "latex_user_defs": false,
   "report_style_numbering": true,
   "user_envs_cfg": true
  },
  "toc": {
   "base_numbering": 1,
   "nav_menu": {},
   "number_sections": true,
   "sideBar": true,
   "skip_h1_title": true,
   "title_cell": "Tabla de Contenidos",
   "title_sidebar": "Contenidos",
   "toc_cell": true,
   "toc_position": {
    "height": "calc(100% - 180px)",
    "left": "10px",
    "top": "150px",
    "width": "165px"
   },
   "toc_section_display": true,
   "toc_window_display": true
  }
 },
 "nbformat": 4,
 "nbformat_minor": 2
}
