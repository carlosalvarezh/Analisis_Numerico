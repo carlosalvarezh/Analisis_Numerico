{
 "cells": [
  {
   "cell_type": "markdown",
   "metadata": {},
   "source": [
    "<h1 align=\"center\">Métodos Numéricos</h1>\n",
    "<h1 align=\"center\">Capítulo 6: Ecuaciones Diferenciales Ordinarias</h1>\n",
    "<h1 align=\"center\">2021/02</h1>\n",
    "<h1 align=\"center\">MEDELLÍN - COLOMBIA </h1>"
   ]
  },
  {
   "cell_type": "markdown",
   "metadata": {},
   "source": [
    "<table>\n",
    " <tr align=left><td><img align=left src=\"./images/CC-BY.png\">\n",
    " <td>Text provided under a Creative Commons Attribution license, CC-BY. All code is made available under the FSF-approved MIT license.(c) Carlos Alberto Alvarez Henao</td>\n",
    "</table>"
   ]
  },
  {
   "cell_type": "markdown",
   "metadata": {},
   "source": [
    "*** \n",
    "\n",
    "***Docente:*** Carlos Alberto Álvarez Henao, I.C. D.Sc.\n",
    "\n",
    "***e-mail:*** carlosalvarezh@gmail.com\n",
    "\n",
    "***skype:*** carlos.alberto.alvarez.henao\n",
    "\n",
    "***Linkedin:*** https://www.linkedin.com/in/carlosalvarez5/\n",
    "\n",
    "***github:*** https://github.com/carlosalvarezh/Metodos_Numericos\n",
    "\n",
    "***Herramienta:*** [Jupyter](http://jupyter.org/)\n",
    "\n",
    "***Kernel:*** Python 3.8\n",
    "\n",
    "\n",
    "***"
   ]
  },
  {
   "cell_type": "markdown",
   "metadata": {},
   "source": [
    "<a id='TOC'></a>"
   ]
  },
  {
   "cell_type": "markdown",
   "metadata": {
    "toc": true
   },
   "source": [
    "<h1>Tabla de Contenidos<span class=\"tocSkip\"></span></h1>\n",
    "<div class=\"toc\"><ul class=\"toc-item\"><li><span><a href=\"#Ecuaciones-diferenciales-Ordinarias\" data-toc-modified-id=\"Ecuaciones-diferenciales-Ordinarias-1\"><span class=\"toc-item-num\">1&nbsp;&nbsp;</span>Ecuaciones diferenciales Ordinarias</a></span><ul class=\"toc-item\"><li><span><a href=\"#Introducción\" data-toc-modified-id=\"Introducción-1.1\"><span class=\"toc-item-num\">1.1&nbsp;&nbsp;</span>Introducción</a></span></li><li><span><a href=\"#Problemas-de-valor-inicial-(PVI)\" data-toc-modified-id=\"Problemas-de-valor-inicial-(PVI)-1.2\"><span class=\"toc-item-num\">1.2&nbsp;&nbsp;</span>Problemas de valor inicial (PVI)</a></span></li><li><span><a href=\"#Solución-numérica-de-una-EDO\" data-toc-modified-id=\"Solución-numérica-de-una-EDO-1.3\"><span class=\"toc-item-num\">1.3&nbsp;&nbsp;</span>Solución numérica de una EDO</a></span></li><li><span><a href=\"#Existencia,-unicidad-y-problemas-bien-planteados\" data-toc-modified-id=\"Existencia,-unicidad-y-problemas-bien-planteados-1.4\"><span class=\"toc-item-num\">1.4&nbsp;&nbsp;</span>Existencia, unicidad y problemas bien planteados</a></span><ul class=\"toc-item\"><li><span><a href=\"#Condición-de-Lipschitz\" data-toc-modified-id=\"Condición-de-Lipschitz-1.4.1\"><span class=\"toc-item-num\">1.4.1&nbsp;&nbsp;</span>Condición de Lipschitz</a></span></li><li><span><a href=\"#Conjunto-convexo\" data-toc-modified-id=\"Conjunto-convexo-1.4.2\"><span class=\"toc-item-num\">1.4.2&nbsp;&nbsp;</span>Conjunto convexo</a></span></li><li><span><a href=\"#Teorema-de-suficiencia\" data-toc-modified-id=\"Teorema-de-suficiencia-1.4.3\"><span class=\"toc-item-num\">1.4.3&nbsp;&nbsp;</span>Teorema de suficiencia</a></span></li><li><span><a href=\"#Teorema-de-existencia-y-unicidad\" data-toc-modified-id=\"Teorema-de-existencia-y-unicidad-1.4.4\"><span class=\"toc-item-num\">1.4.4&nbsp;&nbsp;</span>Teorema de existencia y unicidad</a></span></li><li><span><a href=\"#Problemas-bien-planteados\" data-toc-modified-id=\"Problemas-bien-planteados-1.4.5\"><span class=\"toc-item-num\">1.4.5&nbsp;&nbsp;</span>Problemas bien planteados</a></span></li><li><span><a href=\"#EDOs-estables-e-inestables\" data-toc-modified-id=\"EDOs-estables-e-inestables-1.4.6\"><span class=\"toc-item-num\">1.4.6&nbsp;&nbsp;</span>EDOs estables e inestables</a></span></li></ul></li></ul></li><li><span><a href=\"#Métodos-de-Runge---Kutta\" data-toc-modified-id=\"Métodos-de-Runge---Kutta-2\"><span class=\"toc-item-num\">2&nbsp;&nbsp;</span>Métodos de Runge - Kutta</a></span><ul class=\"toc-item\"><li><span><a href=\"#Método-de-Euler\" data-toc-modified-id=\"Método-de-Euler-2.1\"><span class=\"toc-item-num\">2.1&nbsp;&nbsp;</span>Método de Euler</a></span><ul class=\"toc-item\"><li><span><a href=\"#Introducción\" data-toc-modified-id=\"Introducción-2.1.1\"><span class=\"toc-item-num\">2.1.1&nbsp;&nbsp;</span>Introducción</a></span></li><li><span><a href=\"#Análisis-de-error-para-el-método-de-Euler\" data-toc-modified-id=\"Análisis-de-error-para-el-método-de-Euler-2.1.2\"><span class=\"toc-item-num\">2.1.2&nbsp;&nbsp;</span>Análisis de error para el método de Euler</a></span></li><li><span><a href=\"#Ejemplo-de-aplicación-del-método-de-Euler\" data-toc-modified-id=\"Ejemplo-de-aplicación-del-método-de-Euler-2.1.3\"><span class=\"toc-item-num\">2.1.3&nbsp;&nbsp;</span>Ejemplo de aplicación del método de Euler</a></span></li></ul></li><li><span><a href=\"#Método-de-Heun\" data-toc-modified-id=\"Método-de-Heun-2.2\"><span class=\"toc-item-num\">2.2&nbsp;&nbsp;</span>Método de Heun</a></span></li><li><span><a href=\"#Generalización-de-los-métodos-de-Runge---Kutta\" data-toc-modified-id=\"Generalización-de-los-métodos-de-Runge---Kutta-2.3\"><span class=\"toc-item-num\">2.3&nbsp;&nbsp;</span>Generalización de los métodos de <em>Runge - Kutta</em></a></span><ul class=\"toc-item\"><li><span><a href=\"#Métodos-de-Runge---Kutta-de-segundo-orden\" data-toc-modified-id=\"Métodos-de-Runge---Kutta-de-segundo-orden-2.3.1\"><span class=\"toc-item-num\">2.3.1&nbsp;&nbsp;</span>Métodos de <em>Runge - Kutta</em> de segundo orden</a></span></li><li><span><a href=\"#Método-de-Runge---Kutta-de-tercer-orden\" data-toc-modified-id=\"Método-de-Runge---Kutta-de-tercer-orden-2.3.2\"><span class=\"toc-item-num\">2.3.2&nbsp;&nbsp;</span>Método de <em>Runge - Kutta</em> de tercer orden</a></span></li><li><span><a href=\"#Método-de-Runge---Kutta-de-cuarto-orden\" data-toc-modified-id=\"Método-de-Runge---Kutta-de-cuarto-orden-2.3.3\"><span class=\"toc-item-num\">2.3.3&nbsp;&nbsp;</span>Método de <em>Runge - Kutta</em> de cuarto orden</a></span></li></ul></li></ul></li></ul></div>"
   ]
  },
  {
   "cell_type": "markdown",
   "metadata": {},
   "source": [
    "## Ecuaciones diferenciales Ordinarias"
   ]
  },
  {
   "cell_type": "markdown",
   "metadata": {},
   "source": [
    "### Introducción"
   ]
  },
  {
   "cell_type": "markdown",
   "metadata": {},
   "source": [
    "Las [Ecuaciones Diferenciales ordinarias](https://en.wikipedia.org/wiki/Differential_equation) (*ODE*) se emplean para modelar matemáticamente problemas de la ciencia (exactas, sociales, etc) o la ingeniería, que implican el cambio de alguna variable (*dependiente*) respecto a otra (*independiente*).\n",
    "\n",
    "Si $y$ representa a una función $f$ que puede tener como parámetros un conjunto de variables independientes $t_1,t_2,\\ldots,t_𝑛$, entonces, una *ODE* es una igualdad en la que intervienen alguna o algunas de las derivadas de la función $f$ con respecto a alguna de las variables independientes $t$, además de los valores y variables:\n",
    "\n",
    "<a id='Ec6_1'></a>\n",
    "\\begin{equation*}\n",
    "y, t, \\frac{dy}{dt},\\frac{d^2y}{dt^2},\\ldots, \\frac{d^ny}{dt^n}\n",
    "\\label{eq:Ec6_1} \\tag{6.1}\n",
    "\\end{equation*}\n",
    "\n",
    "Una ecuación diferencial ordinaria $y'=f(t,y)$ por sí misma no determina una única función que sea solución, porque la ecuación simplemente especifica las pendientes de los componentes de la solución $y'(t)$ en cada punto, pero no el valor real de la solución $y(t)$ en cualquier punto. Por tanto, en general, existe una familia infinita de funciones que satisfacen la ecuación diferencial, siempre que $f$ sea lo suficientemente suave.\n",
    "\n",
    "\n",
    "<a id='Ej6_1'></a>\n",
    "- ***Ejemplo: 1***\n",
    "\n",
    "Considere la ecuación diferencial ordinaria $y' = y$. Esta es una *EDO* de la forma $y'=f(t,y)$, donde $f(t,y)=y$. La familia de soluciones para esta ecuación viene dada por $y(t)=ce^t$, donde $c$ es cualquier constante real. Si imponemos una condición inicial, $y(t_0)=y_0$, se determinará la única solución particular que satisface la condición inicial. Para este ejemplo, si $t_0=0$, obtenemos $c=y_0$, lo que significa que la solución es $y(t)=y_0e^t$. \n",
    "\n",
    "<p float=\"center\">\n",
    "  <img src=\"https://github.com/carlosalvarezh/Analisis_Numerico/blob/master/images/C06_Img01_EDO1_1.PNG?raw=true\" width=\"250\" />\n",
    "</p>\n",
    "\n",
    "<div style=\"text-align: right\"> Fuente: <a href=\"https://heath.cs.illinois.edu/scicomp/\">Heath, Michael. Scientific Computing. An introductory survey</a> </div>\n"
   ]
  },
  {
   "cell_type": "markdown",
   "metadata": {},
   "source": [
    "[Volver a la Tabla de Contenido](#TOC)"
   ]
  },
  {
   "cell_type": "markdown",
   "metadata": {},
   "source": [
    "### Problemas de valor inicial (PVI)"
   ]
  },
  {
   "cell_type": "markdown",
   "metadata": {},
   "source": [
    "Para determinar una solución particular, debemos especificar el valor, generalmente denotado por $y_0$, de la función solución en algún punto, usualmente denotado por $t_0$. Por lo tanto, parte de los datos del problema dados es el requisito de que\n",
    "$$y(t_0) = y_0$$\n",
    "\n",
    "Este requisito adicional determina una solución única para la *EDO*, siempre que $f$ sea continuamente diferenciable. Debido a que la variable independiente $t$ generalmente representa el tiempo, pensamos en $t_0$ como el tiempo inicial y en $y_0$ como el valor inicial. Por tanto, esto se denomina [problema de valor inicial](https://en.wikipedia.org/wiki/Initial_value_problem) (*PVI*). La *EDO* gobierna la evolución dinámica del sistema en el tiempo desde su estado inicial $y_0$ en el tiempo $t_0$ en adelante, y buscamos una función $y(t)$ que describa el estado del sistema en función del tiempo.\n",
    "\n",
    "En este capítulo nos centraremos en aproximar la solucion de $y(t)$ para un problema de la forma\n",
    "\n",
    "<a id='Ec6_2'></a>\n",
    "\\begin{equation*}\n",
    "\\frac{dy}{dt} = f(t,y), \\quad a \\le t \\le b\n",
    "\\label{eq:Ec6_2} \\tag{6.2}\n",
    "\\end{equation*}\n",
    "\n",
    "sujeto a la condición inicial $y(a = t_0) = y_0$."
   ]
  },
  {
   "cell_type": "markdown",
   "metadata": {},
   "source": [
    "[Volver a la Tabla de Contenido](#TOC)"
   ]
  },
  {
   "cell_type": "markdown",
   "metadata": {},
   "source": [
    "### Solución numérica de una EDO"
   ]
  },
  {
   "cell_type": "markdown",
   "metadata": {},
   "source": [
    "Para resolver de forma numérica una *EDO* de orden $1$, se debe conocer de antemano los valores iniciales $𝑦(t_0 )=𝑦_0$ y el intervalo $[𝑎,𝑏]$. La solución de la *EDO* es un conjunto finito de puntos\n",
    "\n",
    "<a id='Ec6_3'></a>\n",
    "\\begin{equation*}\n",
    "\\{(t_0,𝑓(t_0 )),(t_1,𝑓(t_1 )),…,(t_𝑛,𝑓(t_𝑛 ))\\}\n",
    "\\label{eq:Ec6_3} \\tag{6.3}\n",
    "\\end{equation*}\n",
    "\n",
    "<p float=\"center\">\n",
    "  <img src=\"https://github.com/carlosalvarezh/Analisis_Numerico/blob/master/images/C06_Img01_EDO2.PNG?raw=true\" width=\"500\" />\n",
    "</p>\n",
    "\n",
    "<div style=\"text-align: right\"> Fuente: <a href=\"http://artemisa.unicauca.edu.co/~cardila/Chapra.pdf\">Chapra, S., Canale, R. Métodos Numéricos para ingenieros, 5a Ed. Mc. Graw Hill. 2007</a> </div>\n"
   ]
  },
  {
   "cell_type": "markdown",
   "metadata": {},
   "source": [
    "[Volver a la Tabla de Contenido](#TOC)"
   ]
  },
  {
   "cell_type": "markdown",
   "metadata": {},
   "source": [
    "### Existencia, unicidad y problemas bien planteados"
   ]
  },
  {
   "cell_type": "markdown",
   "metadata": {},
   "source": [
    "Para poder determinar la existencia y unicidad de la solución de una *EDO*, es necesario introducir algunos conceptos que serán de utilidad."
   ]
  },
  {
   "cell_type": "markdown",
   "metadata": {},
   "source": [
    "[Volver a la Tabla de Contenido](#TOC)"
   ]
  },
  {
   "cell_type": "markdown",
   "metadata": {},
   "source": [
    "#### Condición de Lipschitz"
   ]
  },
  {
   "cell_type": "markdown",
   "metadata": {},
   "source": [
    "Una función $f(t,y)$ satisface la [condición de Lipschitz](https://en.wikipedia.org/wiki/Lipschitz_continuity) (llamada así en honor al matemático alemán [Rudolf Otto Sigismund Lipschitz](https://en.wikipedia.org/wiki/Rudolf_Lipschitz)) en la variable $y$ si existe una constante $L>0$ tal que\n",
    "\n",
    "<a id='Ec6_4'></a>\n",
    "\\begin{equation*}\n",
    "|f(t,y_1)-f(t,y_2)| \\le L|y_1-y_2|,\n",
    "\\label{eq:Ec6_4} \\tag{6.4}\n",
    "\\end{equation*}\n",
    "\n",
    "en una región $R \\subset \\mathbb{R}^2$ tal que $(t,y_1), (t,y_2) \\in R$. \n",
    "\n",
    "El anterior resultado implica que, si $\\partial f(t,y)/\\partial y$ existe, estará acotada por un valor $L$. De forma similar, si $\\partial f/ \\partial y$ está acotada en un intervalo $[a,b]$ entonces $f$ staisface la condición de *Lipschitz*."
   ]
  },
  {
   "cell_type": "markdown",
   "metadata": {},
   "source": [
    "[Volver a la Tabla de Contenido](#TOC)"
   ]
  },
  {
   "cell_type": "markdown",
   "metadata": {},
   "source": [
    "#### Conjunto convexo"
   ]
  },
  {
   "cell_type": "markdown",
   "metadata": {},
   "source": [
    "Se dice que un conjunto $D \\subset \\mathbb{R}^2$ es convexo si para dos puntos arbitrarios $P_1=(t_1,y_1)$, $P_2=(t_2,y_2)$ pertenecen a, o están contenidos en, $D$. Es decir, si $\\forall s \\in [0,1], sP_1+(1-s)P_s \\in D$. \n",
    "\n",
    "Geométricamente se tiene que un conjunto es convexo siempre que dos puntos que pertenezcan a un conjunto, todo segmento de línea recta entre los dos puntos también pertenece al conjunto.\n",
    "\n",
    "<p float=\"center\">\n",
    "  <img src=\"https://github.com/carlosalvarezh/Analisis_Numerico/blob/master/images/C06_Img03_Convex.PNG?raw=true\" width=\"250\" />\n",
    "</p>\n",
    "\n",
    "<div style=\"text-align: right\"> Fuente: <a href=\"http://jaramillo_herman.workfolio.com/\">Jaramillo, H., Página personal</a> </div>"
   ]
  },
  {
   "cell_type": "markdown",
   "metadata": {},
   "source": [
    "[Volver a la Tabla de Contenido](#TOC)"
   ]
  },
  {
   "cell_type": "markdown",
   "metadata": {},
   "source": [
    "#### Teorema de suficiencia"
   ]
  },
  {
   "cell_type": "markdown",
   "metadata": {},
   "source": [
    "Suponga que $f(t,y)$ se define sobre un conjunto convexo $D \\subset \\mathbb{R}^2$, existe una constante $L>0$ con\n",
    "\n",
    "<a id='Ec6_5'></a>\n",
    "\\begin{equation*}\n",
    "\\left| \\frac{\\partial f(t,y)}{\\partial y} \\right| \\le L, \\forall (t,y) \\in D\n",
    "\\label{eq:Ec6_5} \\tag{6.5}\n",
    "\\end{equation*}\n",
    "\n",
    "entonces $f$ satisface la condición *Lipschitz* en $D$ en la variable $y$ con constante $L$ de *Lipschitz*."
   ]
  },
  {
   "cell_type": "markdown",
   "metadata": {},
   "source": [
    "[Volver a la Tabla de Contenido](#TOC)"
   ]
  },
  {
   "cell_type": "markdown",
   "metadata": {},
   "source": [
    "<a id='TEU'></a>\n",
    "#### Teorema de existencia y unicidad"
   ]
  },
  {
   "cell_type": "markdown",
   "metadata": {},
   "source": [
    "Suponga que $D= \\{(t,y)| a\\le t\\le b \\text{ y } -\\infty < y < \\infty \\}$ y que $f(t,y)$ es continua en $D$. Si $f$ satisface la condición de *Lipschitz* en $D$ en la variable $y$, entonces el problema de valor inicial\n",
    "\n",
    "<a id='Ec6_6'></a>\n",
    "\\begin{equation*}\n",
    "\\frac{dy}{dt}=f(t,y), \\quad a\\le t \\le b, \\quad y(a)=\\alpha\n",
    "\\label{eq:Ec6_6} \\tag{6.6}\n",
    "\\end{equation*}\n",
    "\n",
    "tiene solución única $y(t)$ para $a\\le t \\le b$."
   ]
  },
  {
   "cell_type": "markdown",
   "metadata": {},
   "source": [
    "[Volver a la Tabla de Contenido](#TOC)"
   ]
  },
  {
   "cell_type": "markdown",
   "metadata": {},
   "source": [
    "#### Problemas bien planteados"
   ]
  },
  {
   "cell_type": "markdown",
   "metadata": {},
   "source": [
    "Un problema de valor inicial, dado por la ecuación ([6.6](#Ec6_6)) se dice que está bien planteado si cumple las siguientes dos condiciones:\n",
    "\n",
    "\n",
    "- Existe solución única\n",
    "\n",
    "\n",
    "- La solución depende de la forma continua de los datos, es decir, de las condiciones iniciales. Con esto, pequeños cambios en los datos iniciales implica pequeños cambios en la solución. \n",
    "\n",
    "\n",
    "Este tipo de condición se denomina [*problema perturbado*](https://en.wikipedia.org/wiki/Stability_theory), es decir, existen constantes $\\varepsilon_0>0$ y $k>0$, tales que para cualquier $\\varepsilon$ en $(0,\\varepsilon_0)$, siempre que $\\delta(t)$ es continua con $|\\delta(t)|<\\varepsilon \\quad \\forall t \\in [a,b]$, y cuando $|\\delta_0|<\\varepsilon$, el problema de valor inicial\n",
    "\n",
    "<a id='Ec6_7'></a>\n",
    "\\begin{equation*}\n",
    "\\frac{dz}{dt}=f(t,z)+\\delta(t), \\quad a\\le t \\le b, \\quad z(a)=\\alpha+\\delta_0\n",
    "\\label{eq:Ec6_7} \\tag{6.7}\n",
    "\\end{equation*}\n",
    "\n",
    "tiene solución única $z(t)$ que satisface\n",
    "\n",
    "\\begin{equation*}\n",
    "|z(t)-y(t)|<k\\varepsilon \\quad \\forall t \\in [a,b]\n",
    "\\end{equation*}\n",
    "\n",
    "Adicional a lo anterior, si $f$ satisface las condiciones del [teorema de existencia y unicidad](#TEU) y la ecuación ([6.6](#Ec6_6)), se dice entonces que el problema de valor inicial dado está bien planteado."
   ]
  },
  {
   "cell_type": "markdown",
   "metadata": {},
   "source": [
    "[Volver a la Tabla de Contenido](#TOC)"
   ]
  },
  {
   "cell_type": "markdown",
   "metadata": {},
   "source": [
    "#### EDOs estables e inestables"
   ]
  },
  {
   "cell_type": "markdown",
   "metadata": {},
   "source": [
    "Concluyendo, en términos generales, si los miembros de la familia de soluciones para una *EDO* se alejan unos de otros con el tiempo, se dice que la ecuación es inestable; pero si los miembros de la familia de soluciones se acercan entre sí con el tiempo, se dice que la ecuación es estable. Si las curvas solución no convergen ni divergen (es decir, permanecen cerca pero en realidad no se unen), se dice que la ecuación es neutralmente estable. Esta definición de estabilidad para las *EDO* refleja la sensibilidad de una solución de la *EDO* a las perturbaciones. A una pequeña perturbación en una solución de una ecuación estable se amortiguará con el tiempo porque las curvas de la solución están convergiendo, mientras que para una ecuación inestable la perturbación aumentará con el tiempo porque las curvas de la solución son divergentes.\n",
    "\n",
    "Retomando el [ejemplo 1](#Ej6_1), se consideró la EDO escalar $y'=y$ y se graficó la familia de curvas que son solución, $y=ce^t$. A partir del crecimiento exponencial de las soluciones, sabemos que las curvas de la solución para esta ecuación se alejan entre sí a medida que aumenta el tiempo. Por tanto, podemos concluir que la ecuación es inestable. Más rigurosamente, observamos que el [*jacobiano*](https://en.wikipedia.org/wiki/Jacobian_matrix_and_determinant) de $f$ (es decir, $\\partial f / \\partial y$) es positivo (de hecho, es la constante 1), por lo que la ecuación es inestable.\n",
    "\n",
    "<p float=\"center\">\n",
    "  <img src=\"https://github.com/carlosalvarezh/Analisis_Numerico/blob/master/images/C06_Img01_EDO1_1.PNG?raw=true\" width=\"250\" />\n",
    "</p>\n",
    "\n",
    "<div style=\"text-align: right\"> Fuente: <a href=\"https://heath.cs.illinois.edu/scicomp/\">Heath, Michael. Scientific Computing. An introductory survey</a> </div>\n",
    "\n",
    "Consideremos ahora una ecuación escalar diferente, $y'=-y$. La familia de soluciones para esta ecuación viene dada por $y(t)=ce^{-t}$, donde $c$ es cualquier constante real. Para esta ecuación vemos que el *jacobiano* de $f$ es negativo ($\\partial f / \\partial y = -1$), por lo que la ecuación es estable. También podemos ver esto en el decaimiento exponencial de las soluciones, como se muestra en la siguiente imágen.\n",
    "\n",
    "<p float=\"center\">\n",
    "  <img src=\"https://github.com/carlosalvarezh/Analisis_Numerico/blob/master/images/C06_Img02_EDO2.PNG?raw=true\" width=\"350\" />\n",
    "</p>\n",
    "\n",
    "<div style=\"text-align: right\"> Fuente: <a href=\"https://heath.cs.illinois.edu/scicomp/\">Heath, Michael. Scientific Computing. An introductory survey</a> </div>"
   ]
  },
  {
   "cell_type": "markdown",
   "metadata": {},
   "source": [
    "[Volver a la Tabla de Contenido](#TOC)"
   ]
  },
  {
   "cell_type": "markdown",
   "metadata": {},
   "source": [
    "## Métodos de Runge - Kutta"
   ]
  },
  {
   "cell_type": "markdown",
   "metadata": {},
   "source": [
    "En el primer capítulo del curso, se utilizó un esquema numérico para resolver la ecuación del paracaidista de la forma:\n",
    "\n",
    "$$\\text{Nuevo valor = valor anterior + pendiente} \\times \\text{tamaño de paso}$$\n",
    "\n",
    "en términos matemáticos:\n",
    "\n",
    "<a id='Ec6_8'></a>\n",
    "\\begin{equation*}\n",
    "y_{i+1} = y_i + \\phi h\n",
    "\\label{eq:Ec6_8} \\tag{6.8}\n",
    "\\end{equation*}\n",
    "\n",
    "La pendiente estimada $\\phi$ se usa para extrapolar desde un valor anterior $y_i$ a un nuevo valor $y_{i+1}$ en una distancia $h$. Esta fórmula se puede aplicar paso a paso para calcular el valor en el futuro y, por tanto, trazar la trayectoria de la solución.\n",
    "\n",
    "A esta familia de métodos se les denomina [Métodos de Runge-Kutta](https://en.wikipedia.org/wiki/Runge%E2%80%93Kutta_methods)"
   ]
  },
  {
   "cell_type": "markdown",
   "metadata": {},
   "source": [
    "[Volver a la Tabla de Contenido](#TOC)"
   ]
  },
  {
   "cell_type": "markdown",
   "metadata": {},
   "source": [
    "<a id='Euler'></a>\n",
    "### Método de Euler"
   ]
  },
  {
   "cell_type": "markdown",
   "metadata": {},
   "source": [
    "#### Introducción"
   ]
  },
  {
   "cell_type": "markdown",
   "metadata": {},
   "source": [
    "Empezando por el método más simple como introducción a los esquemas más complejos, el [método de Euler](https://en.wikipedia.org/wiki/Euler_method). En este método, la primera derivada proporciona una estimación directa de la pendiente en $t_i$:\n",
    "\n",
    "<a id='Ec6_9'></a>\n",
    "\\begin{equation*}\n",
    "\\phi=f(t_i,y_i) = y'_i\n",
    "\\label{eq:Ec6_9} \\tag{6.9}\n",
    "\\end{equation*}\n",
    "\n",
    "donde $f(t_i,y_i)$ es la *EDO* evaluada en $x_i$ y $t_i$. Esta estimación se puede sustituir en la ecuación [(6.8)](#Ec6_8)\n",
    "\n",
    "<a id='Ec6_10'></a>\n",
    "\\begin{equation*}\n",
    "y_{i+1}=y_i+f(t_i,y_i)h\n",
    "\\label{eq:Ec6_10} \\tag{6.10}\n",
    "\\end{equation*}\n",
    "\n",
    "En el método de Euler, se predice un nuevo valor de $y$ por medio de la pendiente, igual a la primera derivada en el valor original de $t$, que habrá de extrapolarse en forma lineal sobre el tamaño de paso $h$.\n",
    "\n",
    "<p float=\"center\">\n",
    "  <img src=\"https://github.com/carlosalvarezh/Analisis_Numerico/blob/master/images/C06_Img04_Euler01.PNG?raw=true\" width=\"500\" />\n",
    "</p>"
   ]
  },
  {
   "cell_type": "markdown",
   "metadata": {},
   "source": [
    "[Volver a la Tabla de Contenido](#TOC)"
   ]
  },
  {
   "cell_type": "markdown",
   "metadata": {},
   "source": [
    "#### Análisis de error para el método de Euler"
   ]
  },
  {
   "cell_type": "markdown",
   "metadata": {},
   "source": [
    "La solución numérica de las *EDO's* involucra dos tipos de errores:\n",
    "\n",
    "- ***Truncamiento:*** Causado por la naturaleza de las técnicas empleadas para aproximar los valores de $y$ y a su vez se dividen en dos tipos, *Local*, que es la aplicación del método en cuestión sobre un paso sencillo, y *propagado*, que consiste en las aproximaciones producidas durante los pasos previos. La suma de los dos es el error de truncamiento global.\n",
    "\n",
    "\n",
    "- ***Redondeo:*** Se puede obtener cierto conocimiento acerca de la magnitud y propiedades del error de truncamiento al derivar el método de Euler directamente de la expansión en series de Taylor. Es fácil determinar que el error absoluto en el método de Euler está dado por:\n",
    "\n",
    "<a id='Ec6_11'></a>\n",
    "\\begin{equation*}\n",
    "E_a=\\frac{f'(t_i,y_i)}{2}h^2\n",
    "\\label{eq:Ec6_11} \\tag{6.11}\n",
    "\\end{equation*}"
   ]
  },
  {
   "cell_type": "markdown",
   "metadata": {},
   "source": [
    "[Volver a la Tabla de Contenido](#TOC)"
   ]
  },
  {
   "cell_type": "markdown",
   "metadata": {},
   "source": [
    "#### Ejemplo de aplicación del método de Euler"
   ]
  },
  {
   "cell_type": "markdown",
   "metadata": {},
   "source": [
    "Retomando el [ejemplo 1](#Ej6_1), para un tamaño de paso $h=0.1$, se avanzará en la solución desde el tiempo $t_0=0$ hasta el tiempo $t_n=t_0+n\\times h$, de la siguiente manera, reemplazando en la ecuación ([6.10](#Ec6_10))\n",
    "\n",
    "\\begin{equation*}\n",
    "y_1=y_0+f(t_0,y_0)h \\\\\n",
    "y_2=y_1+f(t_1,y_1)h \\\\\n",
    "y_3=y_2+f(t_2,y_2)h \\\\\n",
    "\\vdots \\\\\n",
    "y_n=y_{n-1}+f(t_{n-1},y_{n-1})h\n",
    "\\end{equation*}\n",
    "\n",
    "reemplazando valores y tabulando los cálculos,\n",
    "\n",
    "|$$t_i$$ |         Euler                                     |  Error |\n",
    "|:------:|:-------------------------------------------------:|:------:|\n",
    "|$$0.0$$ |$$y_0=1.0$$                                        |   -    |\n",
    "|$$0.1$$ |$$y_1=1.000000+(1.000000) \\times 0.1=1.100000$$    |$$0.004679$$|\n",
    "|$$0.2$$ |$$y_2=1.100000+(1.100000) \\times 0.1=1.210000$$    |$$0.009336$$|\n",
    "|$$0.3$$ |$$y_3=1.210000+(1.210000) \\times 0.1=1.331000$$    |$$0.013971$$|\n",
    "|$$0.4$$ |$$y_4=1.331000+(1.331000) \\times 0.1=1.464100$$    |$$0.018584$$|\n",
    "|$$0.5$$ |$$y_5=1.464100+(1.464100) \\times 0.1=1.610510$$    |$$0.023176$$|\n",
    "|$$0.6$$ |$$y_6=1.610510+(1.610510) \\times 0.1=1.771561$$    |$$0.027747$$|\n",
    "|$$0.7$$ |$$y_7=1.771561+(1.771561) \\times 0.1=1.948717$$    |$$0.032296$$|\n",
    "|$$0.8$$ |$$y_8=2.143589+(2.143589) \\times 0.1=2.143589$$    |$$0.036823$$|\n",
    "|$$0.9$$ |$$y_9=2.143589+(2.143589) \\times 0.1=2.357948$$    |$$0.041330$$|\n",
    "|$$1.0$$ |$$y_{10}=2.357948+(2.357948) \\times 0.1=2.593742$$ |$$0.045815$$|\n",
    "\n",
    "aprovechando que conocemos la respuesta exacta, el error será calculado como error relativo. A seguir, se realizará una implementación computacional para el método de Euler."
   ]
  },
  {
   "cell_type": "code",
   "execution_count": 7,
   "metadata": {},
   "outputs": [],
   "source": [
    "import numpy as np\n",
    "import matplotlib.pyplot as plt"
   ]
  },
  {
   "cell_type": "code",
   "execution_count": 7,
   "metadata": {},
   "outputs": [],
   "source": [
    "def plots(t,y, method):\n",
    "    plt.plot(t,y, 'ro', label=method)\n",
    "    x = np.linspace(t[0],t[-1],100)\n",
    "    plt.plot(x,fex(x),'-', label='Exacta')\n",
    "    plt.grid(True)\n",
    "    plt.legend()\n",
    "    plt.show()"
   ]
  },
  {
   "cell_type": "code",
   "execution_count": 22,
   "metadata": {},
   "outputs": [],
   "source": [
    "def RK1C(y0, t0, tn, h, a1):\n",
    "    \n",
    "    n = int((tn - t0) / h)\n",
    "    y = [y0]\n",
    "    t = [t0]\n",
    "   \n",
    "    print('|    t    |    y    | Exacta  | Error(%)|')\n",
    "    print('|{0:6.6f} |{1:6.6f} |{2:6.6f} |    -    | '.format(t[0],y[0],y[0]))\n",
    "\n",
    "    for i in range(n):\n",
    "        yi = y[i] + a1 * ode(t[i],y[i]) * h\n",
    "        y.append(yi)\n",
    "        \n",
    "        ti = t[i] + h\n",
    "        t.append(ti)\n",
    "        \n",
    "        fexi = fex(ti)\n",
    "        erri = abs((fexi - yi)/fexi)\n",
    "    \n",
    "        print('|{0:6.6f} |{1:6.6f} |{2:6.6f} |{3:6.6f} | '.format(ti,yi,fexi,erri))\n",
    "    \n",
    "    return t,y"
   ]
  },
  {
   "cell_type": "code",
   "execution_count": 1,
   "metadata": {},
   "outputs": [],
   "source": [
    "def ode(t,y):\n",
    "    #return y\n",
    "    #return t**3 + t**2 * y + t * y**2\n",
    "    return 4 - t + 2 * y"
   ]
  },
  {
   "cell_type": "code",
   "execution_count": 4,
   "metadata": {},
   "outputs": [],
   "source": [
    "def fex(x):\n",
    "    #return np.exp(x)\n",
    "    return -7/4 + x/2 + 11 * np.exp(2*x)/4"
   ]
  },
  {
   "cell_type": "code",
   "execution_count": 9,
   "metadata": {},
   "outputs": [],
   "source": [
    "#Datos iniciales\n",
    "t0 = 0.0\n",
    "y0 = 1.0\n",
    "tn = 2\n",
    "h = 0.5 #0.1\n",
    "a1 = 1.05"
   ]
  },
  {
   "cell_type": "code",
   "execution_count": 30,
   "metadata": {},
   "outputs": [
    {
     "name": "stdout",
     "output_type": "stream",
     "text": [
      "|    t    |    y    | Exacta  | Error(%)|\n",
      "|0.000000 |1.000000 |1.000000 |    -    | \n",
      "|0.100000 |1.105000 |1.105171 |0.000155 | \n",
      "|0.200000 |1.221025 |1.221403 |0.000309 | \n",
      "|0.300000 |1.349233 |1.349859 |0.000464 | \n",
      "|0.400000 |1.490902 |1.491825 |0.000618 | \n",
      "|0.500000 |1.647447 |1.648721 |0.000773 | \n",
      "|0.600000 |1.820429 |1.822119 |0.000928 | \n",
      "|0.700000 |2.011574 |2.013753 |0.001082 | \n",
      "|0.800000 |2.222789 |2.225541 |0.001237 | \n",
      "|0.900000 |2.456182 |2.459603 |0.001391 | \n",
      "|1.000000 |2.714081 |2.718282 |0.001545 | \n"
     ]
    },
    {
     "data": {
      "image/png": "[encoded data removed]",
      "text/plain": [
       "<Figure size 432x288 with 1 Axes>"
      ]
     },
     "metadata": {
      "needs_background": "light"
     },
     "output_type": "display_data"
    }
   ],
   "source": [
    "t, y = euler(y0, t0, tn, h, a1)\n",
    "plots(t, y, 'Euler')"
   ]
  },
  {
   "cell_type": "markdown",
   "metadata": {},
   "source": [
    "[Volver a la Tabla de Contenido](#TOC)"
   ]
  },
  {
   "cell_type": "markdown",
   "metadata": {},
   "source": [
    "### Método de Heun"
   ]
  },
  {
   "cell_type": "markdown",
   "metadata": {},
   "source": [
    "En el [método de Euler](#Euler), la pendiente al inicio del intervalo (ecuación [6.9](#Ec6_9)) se usa para extrapolar linealmente a $y_{i+1}$ (ecuación [6.10](#Ec6_10)). El método se detiene aquí. Un método para mejorar la estimación de la pendiente en el [método de Euler](#Euler) involucra la determinación y promediado de dos derivadas para el intervalo. En el [método de Heun](https://en.wikipedia.org/wiki/Heun%27s_method), la pendiente calculada en la ecuación [6.10](#Ec6_10) no es la respuesta final, sino una predicción intermedia. Esta ecuación es llamada *predictor*. Mejora una estimación de $y_{i+1}$ que permite el cálculo de una estimación de la pendiente al final del intervalo:\n",
    "\n",
    "<a id='Ec6_12'></a>\n",
    "\\begin{equation*}\n",
    "y'_{i+1}=f(t_{i+1},y_{i+1}^0)\n",
    "\\label{eq:Ec6_12} \\tag{6.12}\n",
    "\\end{equation*}\n",
    "\n",
    "Las dos pendientes, representadas en las ecuaciones [6.9](#Ec6_9) y [6.12](#Ec6_12), se promedian en el intervalo\n",
    "\n",
    "<a id='Ec6_13'></a>\n",
    "\\begin{equation*}\n",
    "\\bar{y}'=\\frac{y_i'+y_{i+1}'}{2}=\\frac{f(t_{i},y_{i})+f(t_{i+1},y_{i+1}^0)}{2}\n",
    "\\label{eq:Ec6_13} \\tag{6.13}\n",
    "\\end{equation*}\n",
    "\n",
    "Esta pendiente promedio se utiliza para extrapolar linealmente desde $y_i$ hasta $y_{i+1}$ usando el método de *Euler*:\n",
    "\n",
    "<a id='Ec6_14'></a>\n",
    "\\begin{equation*}\n",
    "y_{i+1}=y_i+\\frac{f(t_{i},y_{i})+f(t_{i+1},y_{i+1}^0)}{2}h\n",
    "\\label{eq:Ec6_14} \\tag{6.14}\n",
    "\\end{equation*}\n",
    "\n",
    "esta última ecuación es llamada *corrector*. el método de *Heun* es un procedimmiento [*predictor - corrector*](https://en.wikipedia.org/wiki/Predictor%E2%80%93corrector_method). Gráficamente, el método de *Heun* indica:\n",
    "\n",
    "<p float=\"center\">\n",
    "  <img src=\"https://github.com/carlosalvarezh/Analisis_Numerico/blob/master/images/C06_Img05_Heun.PNG?raw=true\" width=\"750\" />\n",
    "</p>\n"
   ]
  },
  {
   "cell_type": "markdown",
   "metadata": {},
   "source": [
    "[Volver a la Tabla de Contenido](#TOC)"
   ]
  },
  {
   "cell_type": "code",
   "execution_count": null,
   "metadata": {},
   "outputs": [],
   "source": [
    "# Implementación computacional del método de Heun"
   ]
  },
  {
   "cell_type": "markdown",
   "metadata": {},
   "source": [
    "[Volver a la Tabla de Contenido](#TOC)"
   ]
  },
  {
   "cell_type": "markdown",
   "metadata": {},
   "source": [
    "### Generalización de los métodos de *Runge - Kutta*"
   ]
  },
  {
   "cell_type": "markdown",
   "metadata": {},
   "source": [
    "Existen muchas variaciones de los métodos de [Runge-Kutta](https://en.wikipedia.org/wiki/List_of_Runge%E2%80%93Kutta_methods), pero todas se pueden denotar en la forma generalizada de la ecuación:\n",
    "\n",
    "\n",
    "<a id='Ec6_15'></a>\n",
    "\\begin{equation*}\n",
    "y_{i+1} = y_i + f(t_i,y_i,h)h\n",
    "\\label{eq:Ec6_15} \\tag{6.15}\n",
    "\\end{equation*}\n",
    "\n",
    "donde $f(t_i,y_i,h)$ es conocida como función incremento, la cual puede interpretarse como una pendiente representativa sobre el intervalo.\n",
    "\n",
    "<a id='Ec6_16'></a>\n",
    "\\begin{equation*}\n",
    "f = a_1k_1+ a_2k_2 +\\ldots+ a_nk_n\n",
    "\\label{eq:Ec6_16} \\tag{6.16}\n",
    "\\end{equation*}\n",
    "\n",
    "donde las $a_i$ son constantes y las $k_i$ son expresiones del tipo:\n",
    "\n",
    "<a id='Ec6_17'></a>\n",
    "\\begin{equation*}\n",
    "\\begin{split}\n",
    "k_1 &= f(t_i,y_i) \\\\\n",
    "k_2 &= f(t_i+p_1h,y_i+q_{11}k_1h) \\\\\n",
    "k_3 &= f(t_i+p_2h,y_i+q_{21}k_1h+q_{22}k_2h) \\\\\n",
    "\\vdots\n",
    "\\end{split}\n",
    "\\label{eq:Ec6_17} \\tag{6.17}\n",
    "\\end{equation*}\n",
    "\n",
    "Observe que las $k$ son relaciones de recurrencia, esto es, $k_1$ aparece en la ecuación para $k_2$, la cual aparece en la ecuación para $k_3$, etc. Como cada $k$ es una evaluación funcional, esta recurrencia hace que los métodos *RK* sean eficientes para la programación. Existen varios tipos de métodos *RK* al emplear diferentes números de términos en la función incremento como la especificada por $n$. \n",
    "\n",
    "- $n = 1$, es el *método de Euler*. Una vez se elige $n$, se evalúan las $a$, $p$ y $q$ al igualar la ecuación [6.16](#Ec6_16) a los términos en la expansión de la *serie de Taylor*.\n"
   ]
  },
  {
   "cell_type": "markdown",
   "metadata": {},
   "source": [
    "[Volver a la Tabla de Contenido](#TOC)"
   ]
  },
  {
   "cell_type": "markdown",
   "metadata": {},
   "source": [
    "#### Métodos de *Runge - Kutta* de segundo orden"
   ]
  },
  {
   "cell_type": "markdown",
   "metadata": {},
   "source": [
    "La  versión de segundo orden para la ecuación [(6.15)](#Ec6_15) es:\n",
    "\n",
    "<a id='Ec6_18'></a>\n",
    "\\begin{equation*}\n",
    "\\begin{split}\n",
    "y_{i+1} = y_i + (a_1k_1+a_2k_2)h\n",
    "\\end{split}\n",
    "\\label{eq:Ec6_18} \\tag{6.18}\n",
    "\\end{equation*}\n",
    "\n",
    "donde\n",
    "\n",
    "<a id='Ec6_19'></a>\n",
    "\\begin{equation*}\n",
    "\\begin{split}\n",
    "k_1 &= f(t_i, y_i)\\\\\n",
    "k_2 &= f(t_i+p_1h, y_i+q_{11}k_1h)\n",
    "\\end{split}\n",
    "\\label{eq:Ec6_19} \\tag{6.19}\n",
    "\\end{equation*}\n",
    "\n",
    "Los valores de $a_1$, $a_2$, $p_1$ y $q_{11}$ son evaluados al igualar el término de segundo orden de la ecuación [6.18](#Ec6_18) con la expansión de la serie de Taylor. Desarrollando tres ecuaciones para evaluar las cuatro incógnitas:\n",
    "\n",
    "<a id='Ec6_20'></a>\n",
    "\\begin{equation*}\n",
    "\\begin{split}\n",
    "a_1+a_2 &=1 \\\\\n",
    "a_2p_1 &= 1/2 \\\\\n",
    "a_2q_{11} &= 1/2\n",
    "\\end{split}\n",
    "\\label{eq:Ec6_20} \\tag{6.20}\n",
    "\\end{equation*}\n",
    "\n",
    "\n",
    "Como se tienen tres ecuaciones con cuatro incógnitas se tiene que suponer el valor de una de ellas. Suponiendo que se especificó un valor para $a_2$, se puede resolver de manera simultánea la ecuación [6.20](#Ec6_20):\n",
    "\n",
    "<a id='Ec6_21'></a>\n",
    "\\begin{equation*}\n",
    "\\begin{split}\n",
    "a_1 &= 1 – a_2 \\\\\n",
    "p_1 &= q_{11} = \\frac{1}{2a_2}\n",
    "\\end{split}\n",
    "\\label{eq:Ec6_21} \\tag{6.21}\n",
    "\\end{equation*}\n",
    "\n",
    "Como se puede elegir un número infinito de valores para $a_2$, hay un número infinito de métodos *RK* de segundo orden. Cada versión podría dar exactamente los mismos resultados si la solución de la *EDO* fuera cuadrática, lineal o una constante.\n",
    "\n",
    "si\n",
    "\n",
    "\n",
    "- $a_2 = 1/2$: Método de Heun con un solo corrector, donde.\n",
    "\n",
    "<a id='Ec6_22'></a>\n",
    "\\begin{equation*}\n",
    "\\begin{split}\n",
    "y_{i+1} &= y_i + (k_1/2+k_2/2)h \\\\\n",
    "k_1 &= f(t_i, y_i) \\\\\n",
    "k_2 &= f(t_i+h, y_i+k_1h)\n",
    "\\end{split}\n",
    "\\label{eq:Ec6_22} \\tag{6.22}\n",
    "\\end{equation*}\n",
    "\n",
    "\n",
    "\n",
    "- $a_2 = 1$: Método del punto medio.\n",
    "\n",
    "<a id='Ec6_23'></a>\n",
    "\\begin{equation*}\n",
    "\\begin{split}\n",
    "y_{i+1} &= y_i + k_2h \\\\\n",
    "k_1 &= f(t_i, y_i) \\\\\n",
    "k_2 &= f(t_i+h/2, y_i+k_1h/2)\n",
    "\\end{split}\n",
    "\\label{eq:Ec6_23} \\tag{6.23}\n",
    "\\end{equation*}\n",
    "\n",
    "\n",
    "- $a_2 = 2/3$: Método de Ralston.\n",
    "\n",
    "<a id='Ec6_24'></a>\n",
    "\\begin{equation*}\n",
    "\\begin{split}\n",
    "y_{i+1} &= y_i + (k_1/3+2k_2/3)h \\\\\n",
    "k_1 &= f(t_i, y_i) \\\\\n",
    "k_2 &= f(t_i+3h/4, y_i+3k_1h/4)\n",
    "\\end{split}\n",
    "\\label{eq:Ec6_24} \\tag{6.24}\n",
    "\\end{equation*}\n"
   ]
  },
  {
   "cell_type": "markdown",
   "metadata": {},
   "source": [
    "[Volver a la Tabla de Contenido](#TOC)"
   ]
  },
  {
   "cell_type": "markdown",
   "metadata": {},
   "source": [
    "#### Método de *Runge - Kutta* de tercer orden"
   ]
  },
  {
   "cell_type": "markdown",
   "metadata": {},
   "source": [
    "Siguiendo el mismo razonamiento para $n = 3$, el resultado es seis ecuaciones con ocho incógnitas, por lo tanto se deben suponer dos valores con antelación para poder desarrollar el sistema de ecuaciones. Una versión ampliamente usada es:\n",
    "\n",
    "<a id='Ec6_25'></a>\n",
    "\\begin{equation*}\n",
    "\\begin{split}\n",
    "y_{i+1} &= y_i + 1/6 (k_1 + 4k_2 + k_3)h \\\\\n",
    "k_1 &= f(t_i, y_i) \\\\\n",
    "k_2 &= f(t_i+h/2, y_i+k_1h/2) \\\\\n",
    "k_3 &= f(t_i+h, y_i – k_1h + 2k_2h)\n",
    "\\end{split}\n",
    "\\label{eq:Ec6_25} \\tag{6.25}\n",
    "\\end{equation*}\n",
    "\n",
    "Si la derivada es solo una función de $t$, el método se reduce a la *regla de Simpson1/3* vista en el capítulo anterior.\n",
    "\n",
    "Una implementación computacional podría ser:"
   ]
  },
  {
   "cell_type": "code",
   "execution_count": 3,
   "metadata": {},
   "outputs": [],
   "source": [
    "import numpy as np\n",
    "import matplotlib.pyplot as plt"
   ]
  },
  {
   "cell_type": "code",
   "execution_count": 32,
   "metadata": {},
   "outputs": [],
   "source": [
    "def rk3(y0, t0, tn, h):\n",
    "    \n",
    "    n = int((tn - t0) / h)\n",
    "    y = [y0]\n",
    "    t = [t0]\n",
    "   \n",
    "    print('|    t    |    y    | Exacta  | Error(%)|')\n",
    "    print('|{0:6.6f} |{1:6.6f} |{2:6.6f} |    -    | '.format(t[0],y[0],y[0]))\n",
    "\n",
    "    for i in range(n):\n",
    "        k1 = ode(t[i],y[i])\n",
    "        k2 = ode(t[i] + h / 2, y[i] + k1 * h / 2)\n",
    "        k3 = ode(t[i] + h, y[i] - k1 * h + 2 * k2 * h)\n",
    "        yi = y[i] + h * (k1 + 4 * k2 + k3) / 6\n",
    "        y.append(yi)\n",
    "        \n",
    "        ti = t[i] + h\n",
    "        t.append(ti)\n",
    "        \n",
    "        fexi = fex(ti)\n",
    "        erri = abs((fexi - yi)/fexi)\n",
    "    \n",
    "        print('|{0:6.6f} |{1:6.6f} |{2:6.6f} |{3:6.6f} | '.format(ti,yi,fexi,erri))\n",
    "    \n",
    "    return t,y"
   ]
  },
  {
   "cell_type": "code",
   "execution_count": 33,
   "metadata": {},
   "outputs": [
    {
     "name": "stdout",
     "output_type": "stream",
     "text": [
      "|    t    |    y    | Exacta  | Error(%)|\n",
      "|0.000000 |1.000000 |1.000000 |    -    | \n",
      "|0.100000 |1.105167 |1.105171 |0.000004 | \n",
      "|0.200000 |1.221393 |1.221403 |0.000008 | \n",
      "|0.300000 |1.349843 |1.349859 |0.000012 | \n",
      "|0.400000 |1.491802 |1.491825 |0.000015 | \n",
      "|0.500000 |1.648690 |1.648721 |0.000019 | \n",
      "|0.600000 |1.822077 |1.822119 |0.000023 | \n",
      "|0.700000 |2.013698 |2.013753 |0.000027 | \n",
      "|0.800000 |2.225472 |2.225541 |0.000031 | \n",
      "|0.900000 |2.459518 |2.459603 |0.000035 | \n",
      "|1.000000 |2.718177 |2.718282 |0.000038 | \n"
     ]
    },
    {
     "data": {
      "image/png": "[encoded data removed]",
      "text/plain": [
       "<Figure size 432x288 with 1 Axes>"
      ]
     },
     "metadata": {
      "needs_background": "light"
     },
     "output_type": "display_data"
    }
   ],
   "source": [
    "t, y = rk3(y0, t0, tn, h)\n",
    "plots(t,y, 'RK3')"
   ]
  },
  {
   "cell_type": "markdown",
   "metadata": {},
   "source": [
    "[Volver a la Tabla de Contenido](#TOC)"
   ]
  },
  {
   "cell_type": "markdown",
   "metadata": {},
   "source": [
    "#### Método de *Runge - Kutta* de cuarto orden"
   ]
  },
  {
   "cell_type": "markdown",
   "metadata": {},
   "source": [
    "Es el más popular de los métodos *RK*. También cuenta con infinitas versiones. La más usada es:\n",
    "\n",
    "<a id='Ec6_26'></a>\n",
    "\\begin{equation*}\n",
    "\\begin{split}\n",
    "y_{i+1} &= y_i + 1/6 (k_1 + 2k_2 + 2k_3 + k_4)h \\\\\n",
    "k_1 &= f(t_i, y_i) \\\\\n",
    "k_2 &= f(t_i+h/2, y_i+k_1h/2) \\\\\n",
    "k_3 &= f(t_i+h/2, y_i + k_2h/2) \\\\\n",
    "k_4 &= f(t_i+h, y_i + k_3h)\n",
    "\\end{split}\n",
    "\\label{eq:Ec6_26} \\tag{6.26}\n",
    "\\end{equation*}\n",
    "\n",
    "Una posible implementación computacional sería:"
   ]
  },
  {
   "cell_type": "code",
   "execution_count": 53,
   "metadata": {},
   "outputs": [],
   "source": [
    "def rk4(y0, t0, tn, h):\n",
    "    \n",
    "    n = int((tn - t0) / h)\n",
    "    y = [y0]\n",
    "    t = [t0]\n",
    "   \n",
    "    print('|   t    |   K1   |   K2   |   K3   |   K4   |   y    |Exacta  |Error(%)|')\n",
    "    print('|{0:8.4f}|        |        |        |        |{1:8.4f}|{2:8.4f}|   -    | '.format(t[0],y[0],y[0]))\n",
    "\n",
    "    for i in range(n):\n",
    "        k1 = ode(t[i],y[i])\n",
    "        k2 = ode(t[i] + h / 2, y[i] + k1 * h / 2)\n",
    "        k3 = ode(t[i] + h / 2, y[i] + k2 * h / 2)\n",
    "        k4 = ode(t[i] + h, y[i] + k3 * h)\n",
    "        yi = y[i] + h * (k1 + 2 * k2 + 2 * k3 + k4) / 6\n",
    "        y.append(yi)\n",
    "        \n",
    "        ti = t[i] + h\n",
    "        t.append(ti)\n",
    "        \n",
    "        fexi = fex(ti)\n",
    "        erri = abs((fexi - yi)/fexi)\n",
    "    \n",
    "        print('|{0:8.4f}|{1:8.4f}|{2:8.4f}|{3:8.4f}|{4:8.4f}|{5:8.4f}|{6:8.4f}|{7:8.4f}| '.format(ti,k1, k2, k3, k4, yi,fexi,erri))\n",
    "    \n",
    "    return t,y"
   ]
  },
  {
   "cell_type": "code",
   "execution_count": 54,
   "metadata": {},
   "outputs": [
    {
     "name": "stdout",
     "output_type": "stream",
     "text": [
      "|   t    |   K1   |   K2   |   K3   |   K4   |   y    |Exacta  |Error(%)|\n",
      "|  0.0000|        |        |        |        |  1.0000|  1.0000|   -    | \n",
      "|  0.5000|  6.0000|  8.7500| 10.1250| 15.6250|  5.9479|  5.9753|  0.0046| \n",
      "|  1.0000| 15.3958| 22.8438| 26.5677| 41.4635| 18.9214| 19.0699|  0.0078| \n",
      "|  1.5000| 40.8429| 61.0143| 71.1000|111.4429| 53.6310| 54.2352|  0.0111| \n",
      "|  2.0000|109.7620|164.3930|191.7085|300.9704|147.2089|149.3949|  0.0146| \n"
     ]
    },
    {
     "data": {
      "image/png": "[encoded data removed]",
      "text/plain": [
       "<Figure size 432x288 with 1 Axes>"
      ]
     },
     "metadata": {
      "needs_background": "light"
     },
     "output_type": "display_data"
    }
   ],
   "source": [
    "t, y = rk4(y0, t0, tn, h)\n",
    "plots(t,y, 'RK4')"
   ]
  },
  {
   "cell_type": "markdown",
   "metadata": {},
   "source": [
    "[Volver a la Tabla de Contenido](#TOC)"
   ]
  },
  {
   "cell_type": "code",
   "execution_count": 55,
   "metadata": {},
   "outputs": [
    {
     "data": {
      "text/html": [
       "\n",
       "<link href='http://fonts.googleapis.com/css?family=Fenix' rel='stylesheet' type='text/css'>\n",
       "<link href='http://fonts.googleapis.com/css?family=Alegreya+Sans:100,300,400,500,700,800,900,100italic,300italic,400italic,500italic,700italic,800italic,900italic' rel='stylesheet' type='text/css'>\n",
       "<link href='http://fonts.googleapis.com/css?family=Source+Code+Pro:300,400' rel='stylesheet' type='text/css'>\n",
       "\n",
       "<style>\n",
       "\n",
       "/*\n",
       "Template for Notebooks for Numerical analysis.\n",
       "\n",
       "Based on Lorena Barba template available at:\n",
       "\n",
       "    https://github.com/barbagroup/AeroPython/blob/master/styles/custom.css\n",
       "*/\n",
       "\n",
       "/* Fonts */\n",
       "@font-face {\n",
       "font-family: \"Computer Modern\";\n",
       "src: url('http://mirrors.ctan.org/fonts/cm-unicode/fonts/otf/cmunss.otf');\n",
       "}\n",
       "\n",
       "/* Text */\n",
       "div.cell{\n",
       "width:100%;\n",
       "margin-left:20px !important;\n",
       "margin-right:auto;\n",
       "}\n",
       "h1 {\n",
       "font-family: 'Alegreya Sans', sans-serif;\n",
       "}\n",
       "h2 {\n",
       "font-family: 'Fenix', serif;\n",
       "}\n",
       "h3{\n",
       "font-family: 'Fenix', serif;\n",
       "margin-top:12px;\n",
       "margin-bottom: 3px;\n",
       "}\n",
       "h4{\n",
       "font-family: 'Fenix', serif;\n",
       "}\n",
       "h5 {\n",
       "font-family: 'Alegreya Sans', sans-serif;\n",
       "}\t\n",
       "div.text_cell_render{\n",
       "font-family: 'Alegreya Sans',Computer Modern, \"Helvetica Neue\", Arial, Helvetica, Geneva, sans-serif;\n",
       "line-height: 135%;\n",
       "font-size: 120%;\n",
       "width:600px;\n",
       "margin-left:auto;\n",
       "margin-right:auto;\n",
       "}\n",
       ".CodeMirror{\n",
       "font-family: \"Source Code Pro\";\n",
       "font-size: 90%;\n",
       "}\n",
       "/* .prompt{\n",
       "display: None;\n",
       "}*/\n",
       ".text_cell_render h1 {\n",
       "font-weight: 200;\n",
       "font-size: 25pt;\n",
       "line-height: 100%;\n",
       "color:#CD2305;\n",
       "margin-bottom: 0.5em;\n",
       "margin-top: 0.5em;\n",
       "display: block;\n",
       "}\t\n",
       ".text_cell_render h5 {\n",
       "font-weight: 300;\n",
       "font-size: 16pt;\n",
       "color: #CD2305;\n",
       "font-style: italic;\n",
       "margin-bottom: .5em;\n",
       "margin-top: 0.5em;\n",
       "display: block;\n",
       "}\n",
       ".warning{\n",
       "color: rgb( 240, 20, 20 )\n",
       "}\n",
       "</style>\n",
       "\n",
       "<script>\n",
       "/* Equations */\n",
       "\n",
       "MathJax.Hub.Config({\n",
       "TeX: {\n",
       "extensions: [\"AMSmath.js\"]\n",
       "},\n",
       "tex2jax: {\n",
       "inlineMath: [ ['$','$'], [\"\\\\(\",\"\\\\)\"] ],\n",
       "displayMath: [ ['$$','$$'], [\"\\\\[\",\"\\\\]\"] ]\n",
       "},\n",
       "displayAlign: 'center', // Change this to 'center' to center equations.\n",
       "\"HTML-CSS\": {\n",
       "styles: {'.MathJax_Display': {\"margin\": 4}}\n",
       "}\n",
       "});\n",
       "</script>\n",
       "\n",
       "\n"
      ],
      "text/plain": [
       "<IPython.core.display.HTML object>"
      ]
     },
     "execution_count": 55,
     "metadata": {},
     "output_type": "execute_result"
    }
   ],
   "source": [
    "from IPython.core.display import HTML\n",
    "def css_styling():\n",
    "    styles = open('./nb_style.css', 'r').read()\n",
    "    return HTML(styles)\n",
    "css_styling()"
   ]
  },
  {
   "cell_type": "code",
   "execution_count": null,
   "metadata": {},
   "outputs": [],
   "source": []
  }
 ],
 "metadata": {
  "kernelspec": {
   "display_name": "Python 3",
   "language": "python",
   "name": "python3"
  },
  "language_info": {
   "codemirror_mode": {
    "name": "ipython",
    "version": 3
   },
   "file_extension": ".py",
   "mimetype": "text/x-python",
   "name": "python",
   "nbconvert_exporter": "python",
   "pygments_lexer": "ipython3",
   "version": "3.6.13"
  },
  "toc": {
   "base_numbering": 1,
   "nav_menu": {},
   "number_sections": true,
   "sideBar": true,
   "skip_h1_title": true,
   "title_cell": "Tabla de Contenidos",
   "title_sidebar": "Contenidos",
   "toc_cell": true,
   "toc_position": {
    "height": "calc(100% - 180px)",
    "left": "10px",
    "top": "150px",
    "width": "165px"
   },
   "toc_section_display": true,
   "toc_window_display": false
  }
 },
 "nbformat": 4,
 "nbformat_minor": 4
}
