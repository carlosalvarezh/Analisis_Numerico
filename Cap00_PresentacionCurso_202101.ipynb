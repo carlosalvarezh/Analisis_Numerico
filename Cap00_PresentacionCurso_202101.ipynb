{
 "cells": [
  {
   "cell_type": "markdown",
   "metadata": {},
   "source": [
    "<p float=\"center\">\n",
    "  <img src=\"https://github.com/carlosalvarezh/Analisis_Numerico/blob/master/images/C00_Img00_logo.png?raw=true\" width=\"350\" />\n",
    "</p>\n",
    "<h1 align=\"center\">ST0256 - Análisis Numérico</h1>\n",
    "<h1 align=\"center\">Presentación del Curso</h1>\n",
    "<h1 align=\"center\">2021/01</h1>\n",
    "<h1 align=\"center\">MEDELLÍN - COLOMBIA </h1>"
   ]
  },
  {
   "cell_type": "markdown",
   "metadata": {},
   "source": [
    "<table>\n",
    " <tr align=left><td><img align=left src=\"https://github.com/carlosalvarezh/CFD_Applied/blob/master/figs/CC-BY.png?raw=true\">\n",
    " <td>Text provided under a Creative Commons Attribution license, CC-BY. All code is made available under the FSF-approved MIT license.(c) Carlos Alberto Alvarez Henao</td>\n",
    "</table>"
   ]
  },
  {
   "cell_type": "markdown",
   "metadata": {},
   "source": [
    "*** \n",
    "\n",
    "***Docente:*** Carlos Alberto Álvarez Henao, I.C. D.Sc.\n",
    "\n",
    "***e-mail:*** calvar52@eafit.edu.co\n",
    "\n",
    "***skype:*** carlos.alberto.alvarez.henao\n",
    "\n",
    "***Herramienta:*** [Jupyter](http://jupyter.org/)\n",
    "\n",
    "***Kernel:*** Python 3.8\n",
    "\n",
    "\n",
    "***"
   ]
  },
  {
   "cell_type": "markdown",
   "metadata": {},
   "source": [
    "<a id='TOC'></a>"
   ]
  },
  {
   "cell_type": "markdown",
   "metadata": {
    "toc": true
   },
   "source": [
    "<h1>Table of Contents<span class=\"tocSkip\"></span></h1>\n",
    "<div class=\"toc\"><ul class=\"toc-item\"><li><span><a href=\"#Motivación\" data-toc-modified-id=\"Motivación-1\"><span class=\"toc-item-num\">1&nbsp;&nbsp;</span>Motivación</a></span></li><li><span><a href=\"#Aspectos-generales-del-curso\" data-toc-modified-id=\"Aspectos-generales-del-curso-2\"><span class=\"toc-item-num\">2&nbsp;&nbsp;</span>Aspectos generales del curso</a></span><ul class=\"toc-item\"><li><span><a href=\"#Programa-clase-a-clase\" data-toc-modified-id=\"Programa-clase-a-clase-2.1\"><span class=\"toc-item-num\">2.1&nbsp;&nbsp;</span>Programa clase-a-clase</a></span></li><li><span><a href=\"#Evaluación\" data-toc-modified-id=\"Evaluación-2.2\"><span class=\"toc-item-num\">2.2&nbsp;&nbsp;</span>Evaluación</a></span></li><li><span><a href=\"#Bibliográfia\" data-toc-modified-id=\"Bibliográfia-2.3\"><span class=\"toc-item-num\">2.3&nbsp;&nbsp;</span>Bibliográfia</a></span></li><li><span><a href=\"#Asesorías-y-Monitorias-académicas\" data-toc-modified-id=\"Asesorías-y-Monitorias-académicas-2.4\"><span class=\"toc-item-num\">2.4&nbsp;&nbsp;</span>Asesorías y Monitorias académicas</a></span></li></ul></li></ul></div>"
   ]
  },
  {
   "cell_type": "markdown",
   "metadata": {},
   "source": [
    "<p float=\"center\">\n",
    "  <img src=\"https://github.com/carlosalvarezh/Analisis_Numerico/blob/master/images/C00_Img01_Intro.PNG?raw=true\" width=\"500\" />\n",
    "</p>\n"
   ]
  },
  {
   "cell_type": "markdown",
   "metadata": {},
   "source": [
    "## Motivación"
   ]
  },
  {
   "cell_type": "markdown",
   "metadata": {},
   "source": [
    "Deseamos desarrollar las siguientes operaciones aritméticas: \n",
    "\n",
    "- $2+2$\n",
    "\n",
    "- $4 \\times 4$\n",
    "\n",
    "- $\\left(\\sqrt{3} \\right )^2$\n",
    "\n",
    "desde un punto de vista analítico, las soluciones exactas (a mano y en papel?) son\n",
    "\n",
    "- $2+2 = 4$\n",
    "\n",
    "- $4 \\times 4 = 16$\n",
    "\n",
    "- $\\left(\\sqrt{3} \\right )^2 = 3$\n",
    "\n",
    "pero veamos qué sucede cuando realizamos las mismas operaciones empleando un dispositivo electrónico (calculadora, computador, etc)"
   ]
  },
  {
   "cell_type": "code",
   "execution_count": 1,
   "metadata": {},
   "outputs": [],
   "source": [
    "a = 2 + 2\n",
    "b = 4 * 4\n",
    "c = (3**(1/2))**2"
   ]
  },
  {
   "cell_type": "markdown",
   "metadata": {},
   "source": [
    "preguntemos al computador si los resultados obtenidos en los cálculos son los esperados"
   ]
  },
  {
   "cell_type": "code",
   "execution_count": 2,
   "metadata": {},
   "outputs": [
    {
     "data": {
      "text/plain": [
       "True"
      ]
     },
     "execution_count": 2,
     "metadata": {},
     "output_type": "execute_result"
    }
   ],
   "source": [
    "a == 4"
   ]
  },
  {
   "cell_type": "code",
   "execution_count": 3,
   "metadata": {},
   "outputs": [
    {
     "data": {
      "text/plain": [
       "True"
      ]
     },
     "execution_count": 3,
     "metadata": {},
     "output_type": "execute_result"
    }
   ],
   "source": [
    "b == 16"
   ]
  },
  {
   "cell_type": "code",
   "execution_count": 4,
   "metadata": {},
   "outputs": [
    {
     "data": {
      "text/plain": [
       "False"
      ]
     },
     "execution_count": 4,
     "metadata": {},
     "output_type": "execute_result"
    }
   ],
   "source": [
    "c == 3"
   ]
  },
  {
   "cell_type": "markdown",
   "metadata": {},
   "source": [
    "`False`? Qué sucedió? por qué el resultado de comparar el valor que entendemos como verdadero y el obtenido empleando un dispositivo electrónico (calculadora) es falso? Veamos entonces cuál es el resultado que arrojó el cálculo:"
   ]
  },
  {
   "cell_type": "code",
   "execution_count": 5,
   "metadata": {},
   "outputs": [
    {
     "name": "stdout",
     "output_type": "stream",
     "text": [
      "2.9999999999999996\n"
     ]
    }
   ],
   "source": [
    "print(c)"
   ]
  },
  {
   "cell_type": "markdown",
   "metadata": {},
   "source": [
    "Efectivamente, se oberva que el valor calculado no es el esperado. Puede ser que, para muchas de las situaciones cotidianas, este valor no sea percibido como una diferencia apreciable (\"error\") y simplemente se asuma que ambos valores son iguales (\"redondeo\"). Pero, y si esta operación la tuviera qué repetir muchas veces? qué sucede con ese pequeño errror? Será que se puede simplemente despreciar? qué sucede para cálculos más complejos? se podría determinar la cantidad de error en los cálculos numéricos realizados a través de un computador? este error aumenta sin control? hasta cuándo se podrá decir que dos cantidades son \"iguales\"? El errror es debido a qué? una mala implementación de la operación aritmética? el lenguaje empleado para realizar el cálculo? La máquina? la formulación matemática? humano?\n",
    "\n",
    "Estas, y muchas otras, preguntas son las que se pretenden resolver en el curso de Análisis Numérico."
   ]
  },
  {
   "cell_type": "markdown",
   "metadata": {},
   "source": [
    "[Volver a la Tabla de Contenido](#TOC)"
   ]
  },
  {
   "cell_type": "markdown",
   "metadata": {},
   "source": [
    "## Aspectos generales del curso"
   ]
  },
  {
   "cell_type": "markdown",
   "metadata": {},
   "source": [
    "### Programa clase-a-clase"
   ]
  },
  {
   "cell_type": "markdown",
   "metadata": {},
   "source": [
    "|**Clase** |**Fecha**|**Capítulo**|**Contenido** |**Actividad Evaluativa**|\n",
    "|--------:|:-------:|:-------|--------------|------------------------|\n",
    "|1 |26/01/2021||Descripción del curso y de los contenidos a ser tratados| |\n",
    "|2 |28/01/2021|Teoría de Errores|Fuentes de error, Notación Big-O, Error de punto flotante| |\n",
    "|3 |02/02/2021||Error de truncamiento||\n",
    "|4 |04/02/2021||Error de punto flotante (cont), Combinación de error, Operaciones de conteo||\n",
    "|5 |09/02/2021||Por qué debería importarnos esto?||\n",
    "|6 |11/02/2021||Número de condición de una función.  Forma anidad de Hörner y aritmética de $n$ decimales. El error y su relación con la estabilidad de los algoritmos||\n",
    "|7 |16/02/2021|Raíces de ecuaciones|Método gráfico. Búsquedas incrementales||\n",
    "|8 |18/02/2021||Método de Bisección, Teorema sobre convergencia en bisección||\n",
    "|9 |23/02/2021||Punto fijo: teorema, corolarios y condiciones para hallar $G(x)$||\n",
    "|10 |25/02/2021||Punto fijo: Método de Newton-Raphson (teoremas y conclusión)||\n",
    "|11|02/03/2021||Punto fijo: Método de la Secante (teoremas y conclusión)||\n",
    "|12|04/03/2021||Método de Raíces múltiples (teoremas y conclusión)||\n",
    "|13|09/03/2021|Sistema de Ecuaciones Lineales|Introducción a la solución numérica de Sistemas De ecuaciones. criterios de Existencia y Unicidad |||\n",
    "|14|11/03/2021||Eliminación Gaussiana. Número de operaciones en el proceso de Eliminación Gaussiana|Primer parcial (15%)|\n",
    "|15|16/03/2021||Problemas en la solución. Estrategias de pivoteo||\n",
    "|16|18/03/2021||Factorización $LU$: Doolittle, Crout y Cholesky|Asamblea estudiantíl|\n",
    "|17|23/03/2021||Aplicaciones de la Factorización $LU$||\n",
    "|18|25/03/2021||Introducción a métodos iterativos. Normas Vectoriales y Matriciales. Número de Condición de una Matriz||\n",
    "||29/03-03/04/2021|||Semana Santa|\n",
    "|19|06/04/2021||Métodos de Jacobi. Gauss-Seidel y SOR. Formas Matriciales||\n",
    "|20|08/04/2021||Teoremas de Convergencias para métodos iterativos.  Aspectos generales del refinamiento iterativo||\n",
    "|21|13/04/2021|Interpolación Numérica|Introducción. Método de diferencias dividas de Newton|Segundo Parcial (15%)|\n",
    "|22|15/04/2021||Método de Interpolación de  Lagrange||\n",
    "|23|20/04/2021||Trazadores lineales, cuadráticos y cúbicos||\n",
    "|24|22/04/2021|Diferenciación e Integración Numérica|Métodos diferenciación numérica. Integración numérica Trapecio||\n",
    "|25|27/04/2021||Integración numérica Simpson 1/3 simple y compuesto||\n",
    "|26|29/04/2021||Integración numérica Simpson 3/8 simple y compuesto||\n",
    "|27|04/05/2021|Ecuaciones Diferenciales Ordinarias|Introducción, Método de Euler||\n",
    "|28|06/05/2021||Método de RK-2 y RK-4|Tercer Parcial (15%)|\n",
    "|29|11/05/2021||||\n",
    "|30|13/05/2021|||16/05/2021 - 70%|\n",
    "|31|18/05/2021||||\n",
    "|32|20/05/2021||||\n",
    "||24-29/05/2021|||Semana de Colchón|\n",
    "||31-04/06/2021||Semana 1 finales ||\n",
    "||08-11/06/2021||Semana 2 finales ||\n"
   ]
  },
  {
   "cell_type": "markdown",
   "metadata": {},
   "source": [
    "[Volver a la Tabla de Contenido](#TOC)"
   ]
  },
  {
   "cell_type": "markdown",
   "metadata": {},
   "source": [
    "### Evaluación"
   ]
  },
  {
   "cell_type": "markdown",
   "metadata": {},
   "source": [
    "|Tema                          |Porcentaje|Fecha     |\n",
    "|:-----------------------------|:--------:|:--------:|\n",
    "|Error y Raíces de ecuaciones  |15%       |11/03/2021|\n",
    "|Sistema de Ecuaciones Lineales|15%       |13/04/2021|\n",
    "|Interpolación, Diferenciación e Integración Numérica y EDO|15%|06/05/2021|\n",
    "|Seguimiento                   | 25%|13/05/2021|\n",
    "|Práctica Final                | 30%|08/062021|\n",
    "\n",
    "- ***Parciales:*** Los parciales se realizarán 8 días después de finalizado el tema correspondiente\n",
    "\n",
    "\n",
    "- ***Seguimiento:*** El seguimiento constará de una serie de actividades extraclase a ser entregados en el mismo día o en días siguientes, dependiendo de la actividad.\n",
    "\n",
    "\n",
    "- ***Práctica:*** La práctica consistirá en el desarrollo de un problema de Simulación numérica. Los temas serán indicados en las primeras semanas del semestre y se podrá realizar en equipos de a tres (3) estudiantes."
   ]
  },
  {
   "cell_type": "markdown",
   "metadata": {},
   "source": [
    "[Volver a la Tabla de Contenido](#TOC)"
   ]
  },
  {
   "cell_type": "markdown",
   "metadata": {},
   "source": [
    "### Bibliográfia"
   ]
  },
  {
   "cell_type": "markdown",
   "metadata": {},
   "source": [
    "- Burden, Richard L. & Faires, Duglas. Análisis Numérico. Editorial Thomson. 9° Edición 2011.\n",
    "\n",
    "\n",
    "- Chapra, Steven & Canale, Raymond.  Métodos Numéricos para ingenieros, McgrawHill, 1987.\n",
    "\n",
    "\n",
    "- Heath, Michael T. Scientific Computing: An Introductory Survey, SIAM, 2006.\n",
    "\n",
    "\n",
    "- Python. Recuperado de https://www.python.org/\n",
    "\n",
    "\n",
    "- Jupyter Notebook. Recuperado de https://jupyter.org/\n",
    "\n",
    "\n",
    "- Anaconda. Recuperado de https://www.anaconda.com/\n",
    "\n",
    "\n",
    "- Google Colab. Recuperado de https://colab.research.google.com/"
   ]
  },
  {
   "cell_type": "markdown",
   "metadata": {},
   "source": [
    "[Volver a la Tabla de Contenido](#TOC)"
   ]
  },
  {
   "cell_type": "markdown",
   "metadata": {},
   "source": [
    "### Asesorías y Monitorias académicas"
   ]
  },
  {
   "cell_type": "markdown",
   "metadata": {},
   "source": [
    "Próximamente..."
   ]
  },
  {
   "cell_type": "markdown",
   "metadata": {},
   "source": [
    "[Volver a la Tabla de Contenido](#TOC)"
   ]
  }
 ],
 "metadata": {
  "kernelspec": {
   "display_name": "Python 3",
   "language": "python",
   "name": "python3"
  },
  "language_info": {
   "codemirror_mode": {
    "name": "ipython",
    "version": 3
   },
   "file_extension": ".py",
   "mimetype": "text/x-python",
   "name": "python",
   "nbconvert_exporter": "python",
   "pygments_lexer": "ipython3",
   "version": "3.6.10"
  },
  "toc": {
   "base_numbering": 1,
   "nav_menu": {},
   "number_sections": true,
   "sideBar": true,
   "skip_h1_title": true,
   "title_cell": "Table of Contents",
   "title_sidebar": "Contents",
   "toc_cell": true,
   "toc_position": {
    "height": "calc(100% - 180px)",
    "left": "10px",
    "top": "150px",
    "width": "165px"
   },
   "toc_section_display": true,
   "toc_window_display": true
  }
 },
 "nbformat": 4,
 "nbformat_minor": 2
}
