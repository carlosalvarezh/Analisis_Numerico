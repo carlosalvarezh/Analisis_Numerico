{
 "cells": [
  {
   "cell_type": "markdown",
   "metadata": {},
   "source": [
    "<p float=\"center\">\n",
    "  <img src=\"https://github.com/carlosalvarezh/Analisis_Numerico/blob/master/images/C00_Img00_logo.png?raw=true\" width=\"350\" />\n",
    "</p>\n",
    "<h1 align=\"center\">ST0256 - Análisis Numérico</h1>\n",
    "<h1 align=\"center\">Capítulo 4: Interpolación Numérica</h1>\n",
    "<h1 align=\"center\">2021/01</h1>\n",
    "<h1 align=\"center\">MEDELLÍN - COLOMBIA </h1>"
   ]
  },
  {
   "cell_type": "markdown",
   "metadata": {},
   "source": [
    "<table>\n",
    " <tr align=left><td><img align=left src=\"./images/CC-BY.png\">\n",
    " <td>Text provided under a Creative Commons Attribution license, CC-BY. All code is made available under the FSF-approved MIT license.(c) Carlos Alberto Alvarez Henao</td>\n",
    "</table>"
   ]
  },
  {
   "cell_type": "markdown",
   "metadata": {},
   "source": [
    "*** \n",
    "\n",
    "***Docente:*** Carlos Alberto Álvarez Henao, I.C. D.Sc.\n",
    "\n",
    "***e-mail:*** calvar52@eafit.edu.co\n",
    "\n",
    "***skype:*** carlos.alberto.alvarez.henao\n",
    "\n",
    "***Herramienta:*** [Jupyter notebook](http://jupyter.org/)\n",
    "\n",
    "***Kernel:*** Python 3.8\n",
    "\n",
    "\n",
    "***"
   ]
  },
  {
   "cell_type": "markdown",
   "metadata": {},
   "source": [
    "<a id='TOC'></a>"
   ]
  },
  {
   "cell_type": "markdown",
   "metadata": {
    "toc": true
   },
   "source": [
    "<h1>Tabla de Contenidos<span class=\"tocSkip\"></span></h1>\n",
    "<div class=\"toc\"><ul class=\"toc-item\"><li><span><a href=\"#Introducción\" data-toc-modified-id=\"Introducción-1\"><span class=\"toc-item-num\">1&nbsp;&nbsp;</span>Introducción</a></span><ul class=\"toc-item\"><li><span><a href=\"#Diferencias-entre-Interpolación,-Aproximación-y-Ajuste-de-curvas\" data-toc-modified-id=\"Diferencias-entre-Interpolación,-Aproximación-y-Ajuste-de-curvas-1.1\"><span class=\"toc-item-num\">1.1&nbsp;&nbsp;</span>Diferencias entre Interpolación, Aproximación y Ajuste de curvas</a></span></li><li><span><a href=\"#Interpolación-vs-Aproximacion\" data-toc-modified-id=\"Interpolación-vs-Aproximacion-1.2\"><span class=\"toc-item-num\">1.2&nbsp;&nbsp;</span>Interpolación vs Aproximacion</a></span></li><li><span><a href=\"#Interpolación-vs-Ajuste-de-curvas\" data-toc-modified-id=\"Interpolación-vs-Ajuste-de-curvas-1.3\"><span class=\"toc-item-num\">1.3&nbsp;&nbsp;</span>Interpolación vs Ajuste de curvas</a></span></li><li><span><a href=\"#Familias-de-funciones-usadas-en-interpolación\" data-toc-modified-id=\"Familias-de-funciones-usadas-en-interpolación-1.4\"><span class=\"toc-item-num\">1.4&nbsp;&nbsp;</span>Familias de funciones usadas en interpolación</a></span></li></ul></li><li><span><a href=\"#Interpolación-Polinomial\" data-toc-modified-id=\"Interpolación-Polinomial-2\"><span class=\"toc-item-num\">2&nbsp;&nbsp;</span>Interpolación Polinomial</a></span><ul class=\"toc-item\"><li><span><a href=\"#Introducción\" data-toc-modified-id=\"Introducción-2.1\"><span class=\"toc-item-num\">2.1&nbsp;&nbsp;</span>Introducción</a></span></li><li><span><a href=\"#Interpolación-Lineal\" data-toc-modified-id=\"Interpolación-Lineal-2.2\"><span class=\"toc-item-num\">2.2&nbsp;&nbsp;</span>Interpolación Lineal</a></span><ul class=\"toc-item\"><li><span><a href=\"#Ejemplo\" data-toc-modified-id=\"Ejemplo-2.2.1\"><span class=\"toc-item-num\">2.2.1&nbsp;&nbsp;</span>Ejemplo</a></span></li><li><span><a href=\"#Visualización-computacional\" data-toc-modified-id=\"Visualización-computacional-2.2.2\"><span class=\"toc-item-num\">2.2.2&nbsp;&nbsp;</span>Visualización computacional</a></span></li><li><span><a href=\"#Mejoras-al-esquema-de-interpolación-lineal\" data-toc-modified-id=\"Mejoras-al-esquema-de-interpolación-lineal-2.2.3\"><span class=\"toc-item-num\">2.2.3&nbsp;&nbsp;</span>Mejoras al esquema de interpolación lineal</a></span></li></ul></li><li><span><a href=\"#Interpolación-cuadrática\" data-toc-modified-id=\"Interpolación-cuadrática-2.3\"><span class=\"toc-item-num\">2.3&nbsp;&nbsp;</span>Interpolación cuadrática</a></span><ul class=\"toc-item\"><li><span><a href=\"#Ejemplo\" data-toc-modified-id=\"Ejemplo-2.3.1\"><span class=\"toc-item-num\">2.3.1&nbsp;&nbsp;</span>Ejemplo</a></span></li></ul></li><li><span><a href=\"#Métodos-de-diferencias-divididas-de-Newton\" data-toc-modified-id=\"Métodos-de-diferencias-divididas-de-Newton-2.4\"><span class=\"toc-item-num\">2.4&nbsp;&nbsp;</span>Métodos de diferencias divididas de Newton</a></span><ul class=\"toc-item\"><li><span><a href=\"#Implementación-computacional\" data-toc-modified-id=\"Implementación-computacional-2.4.1\"><span class=\"toc-item-num\">2.4.1&nbsp;&nbsp;</span>Implementación computacional</a></span></li></ul></li><li><span><a href=\"#Análisis-de-Error-para-la-interpolación-polinomial-tipo-Newton\" data-toc-modified-id=\"Análisis-de-Error-para-la-interpolación-polinomial-tipo-Newton-2.5\"><span class=\"toc-item-num\">2.5&nbsp;&nbsp;</span>Análisis de Error para la interpolación polinomial tipo Newton</a></span></li><li><span><a href=\"#Método-de-Interpolación-de-Lagrange\" data-toc-modified-id=\"Método-de-Interpolación-de-Lagrange-2.6\"><span class=\"toc-item-num\">2.6&nbsp;&nbsp;</span>Método de Interpolación de Lagrange</a></span></li></ul></li><li><span><a href=\"#Interpolación-por-partes\" data-toc-modified-id=\"Interpolación-por-partes-3\"><span class=\"toc-item-num\">3&nbsp;&nbsp;</span>Interpolación por partes</a></span><ul class=\"toc-item\"><li><span><a href=\"#Trazadores-lineales,-cuadráticos-y-cúbicos\" data-toc-modified-id=\"Trazadores-lineales,-cuadráticos-y-cúbicos-3.1\"><span class=\"toc-item-num\">3.1&nbsp;&nbsp;</span>Trazadores lineales, cuadráticos y cúbicos</a></span></li></ul></li></ul></div>"
   ]
  },
  {
   "cell_type": "markdown",
   "metadata": {},
   "source": [
    "## Introducción"
   ]
  },
  {
   "cell_type": "markdown",
   "metadata": {},
   "source": [
    "La información (datos) resultante de la medición de un evento ya sea natural o social viene dada en forma discreta o tabular, es decir, se expresa como un conjunto de pares ordenados $(x_i,y_i)$. Por ejemplo, los datos obtenidos de los censos poblacionales realizados en Colombia desde 1985 según el [DANE](https://www.dane.gov.co/) son:\n",
    "\n",
    "|Año|Población*|\n",
    "|:----:|:----:|\n",
    "|1985|30802|\n",
    "|1990|34130|\n",
    "|1995|37472|\n",
    "|2000|40296|\n",
    "|2005|42889|\n",
    "|2010|45510|\n",
    "|2015|48203|\n",
    "\n",
    "(\\* en miles de habitantes)\n",
    "\n",
    "***Nota:*** Ejemplo tomado de las notas de clase del curso Simulación Computacional de la Universidad EAFIT y es autoría  del profesor Nicolás Guarín."
   ]
  },
  {
   "cell_type": "code",
   "execution_count": null,
   "metadata": {},
   "outputs": [],
   "source": [
    "import numpy as np\n",
    "import matplotlib.pyplot as plt\n",
    "import scipy.interpolate\n",
    "from scipy.optimize import curve_fit\n"
   ]
  },
  {
   "cell_type": "code",
   "execution_count": null,
   "metadata": {},
   "outputs": [],
   "source": [
    "start = 1985.\n",
    "stop = 2015.\n",
    "step = int((stop - start) / 5) + 1\n",
    "\n",
    "x = np.linspace(start, stop, step)\n",
    "y = [30802, 34130, 37472, 40296, 42889, 45510, 48203]\n",
    "\n",
    "plt.plot(x,y, 'o')\n",
    "plt.grid(True)"
   ]
  },
  {
   "cell_type": "markdown",
   "metadata": {},
   "source": [
    "Si quisieramos responder a la pregunta: ¿Cuál era la población de Colombia en el 2012? "
   ]
  },
  {
   "cell_type": "code",
   "execution_count": null,
   "metadata": {},
   "outputs": [],
   "source": [
    "fig, ax = plt.subplots()\n",
    "\n",
    "ax.plot(x, y, 'o')\n",
    "ax.vlines(x=2012, ymin=30000.0, ymax=48203.0, color='r')\n",
    "ax.hlines(y=46000.0, xmin=1985.0, xmax=2012.0, color='y')\n",
    "ax.hlines(y=47000.0, xmin=1985.0, xmax=2012.0, color='b')\n",
    "ax.hlines(y=48000.0, xmin=1985.0, xmax=2012.0, color='g')\n",
    "plt.grid(True)\n",
    "plt.show()"
   ]
  },
  {
   "cell_type": "markdown",
   "metadata": {},
   "source": [
    "¿cuál de los valores mostrados arriba es el más correcto? Podemos plantear varias ideas para determinar dicho valor:\n",
    "\n",
    "- Considerando que la función es constante entre los valores"
   ]
  },
  {
   "cell_type": "code",
   "execution_count": null,
   "metadata": {},
   "outputs": [],
   "source": [
    "fig, ax = plt.subplots()\n",
    "\n",
    "ax.plot(x, y, 'o')\n",
    "\n",
    "ax.hlines(y=y[0], xmin=x[0], xmax=x[0] + 2, color='b')\n",
    "ax.vlines(x=x[0] + 2, ymin=y[0], ymax=y[1], color='b')\n",
    "\n",
    "for i in range(1, len(x)-1):\n",
    "    ax.hlines(y=y[i], xmin=x[i]-3, xmax= x[i] + 2, color='b')\n",
    "    ax.vlines(x=x[i]+2, ymin=y[i], ymax=y[i+1], color='b')\n",
    "\n",
    "ax.hlines(y=y[-1], xmin=x[-1]-3, xmax=x[-1]+2, color='b')\n",
    "\n",
    "ax.vlines(x = 2012, ymin = 30000.0, ymax = y[-1], color = 'r')\n",
    "ax.hlines(y = y[-1], xmin = 1985.0, xmax = 2012.0, color = 'r')\n",
    "\n",
    "plt.grid(True)\n",
    "plt.show()"
   ]
  },
  {
   "cell_type": "markdown",
   "metadata": {},
   "source": [
    "- Asumiendo que la función es lineal entre valores "
   ]
  },
  {
   "cell_type": "code",
   "execution_count": null,
   "metadata": {},
   "outputs": [],
   "source": [
    "fig, ax = plt.subplots()\n",
    "\n",
    "ax.plot(x, y, 'o--')\n",
    "ax.vlines(x = 2012, ymin = 30000.0, ymax = 46700, color = 'r')\n",
    "ax.hlines(y = 46700, xmin = 1985.0, xmax = 2012.0, color = 'r')\n",
    "\n",
    "plt.grid(True)\n",
    "plt.show()"
   ]
  },
  {
   "cell_type": "markdown",
   "metadata": {},
   "source": [
    "- Determinando un polinomio que pase por cada uno de los puntos."
   ]
  },
  {
   "cell_type": "code",
   "execution_count": null,
   "metadata": {},
   "outputs": [],
   "source": [
    "fig, ax = plt.subplots()\n",
    "\n",
    "ax.plot(x, y, 'o')\n",
    "\n",
    "t = np.linspace(0, 1, len(x)) # parameter t to parametrize x and y\n",
    "pxLagrange = scipy.interpolate.lagrange(t, x) # X(T)\n",
    "pyLagrange = scipy.interpolate.lagrange(t, y) # Y(T)\n",
    "n = 100\n",
    "ts = np.linspace(t[0],t[-1],n)\n",
    "xLagrange = pxLagrange(ts) # lagrange x coordinates\n",
    "yLagrange = pyLagrange(ts) # lagrange y coordinates\n",
    "ax.plot(xLagrange, yLagrange,'b-')\n",
    "\n",
    "ax.vlines(x=2012, ymin=30000.0, ymax=46700, color='r')\n",
    "ax.hlines(y=46700, xmin=1985.0, xmax=2012.0, color='r')\n",
    "\n",
    "ax.grid(True)\n",
    "plt.show()"
   ]
  },
  {
   "cell_type": "markdown",
   "metadata": {},
   "source": [
    "- ajustando la curva que mejor se aproxime a cada uno de los datos. En este ejemplo haremos un ajuste lineal, pero no es la única forma de hacerlo."
   ]
  },
  {
   "cell_type": "code",
   "execution_count": null,
   "metadata": {},
   "outputs": [],
   "source": [
    "# define the true objective function\n",
    "def objective(x, a, b):\n",
    "    return a * x + b\n",
    " \n",
    "# curve fit\n",
    "popt, _ = curve_fit(objective, x, y)\n",
    "\n",
    "# summarize the parameter values\n",
    "a, b = popt\n",
    "print('y = %.5f * x + %.5f' % (a, b))\n",
    "\n",
    "fig, ax = plt.subplots()\n",
    "\n",
    "# plot input vs output\n",
    "ax.scatter(x, y)\n",
    "\n",
    "# define a sequence of inputs between the smallest and largest known inputs\n",
    "x_line = np.arange(min(x), max(x), 1)\n",
    "\n",
    "# calculate the output for the range\n",
    "y_line = objective(x_line, a, b)\n",
    "\n",
    "# create a line plot for the mapping function\n",
    "ax.plot(x_line, y_line, '--', color='b')\n",
    "\n",
    "yfit = a * 2012 + b\n",
    "\n",
    "ax.vlines(x=2012, ymin=30000.0, ymax=yfit, color='r')\n",
    "ax.hlines(y=yfit, xmin=1985.0, xmax=2012.0, color='r')\n",
    "\n",
    "plt.grid(True)\n",
    "plt.show()"
   ]
  },
  {
   "cell_type": "markdown",
   "metadata": {},
   "source": [
    "En este curso nos centraremos en los esquemas de interpolación, por lo que los esquemas de ajuste no se tratarán."
   ]
  },
  {
   "cell_type": "markdown",
   "metadata": {},
   "source": [
    "[Volver a la Tabla de Contenido](#TOC)"
   ]
  },
  {
   "cell_type": "markdown",
   "metadata": {},
   "source": [
    "### Diferencias entre Interpolación, Aproximación y Ajuste de curvas"
   ]
  },
  {
   "cell_type": "markdown",
   "metadata": {},
   "source": [
    "Las técnicas para resolver el problema de determinar un valor intermedio entre dos valores conocidos se pueden enmarcar en:\n",
    "\n",
    "- [Interpolación](https://en.wikipedia.org/wiki/Interpolation)\n",
    "\n",
    "\n",
    "- [Aproximación](https://en.wikipedia.org/wiki/Approximation_theory)\n",
    "\n",
    "\n",
    "- [Ajuste de curvas](https://en.wikipedia.org/wiki/Curve_fitting)\n",
    "\n",
    "A continuación vamos a describir brevemente las diferencias entre ellas."
   ]
  },
  {
   "cell_type": "markdown",
   "metadata": {},
   "source": [
    "[Volver a la Tabla de Contenido](#TOC)"
   ]
  },
  {
   "cell_type": "markdown",
   "metadata": {},
   "source": [
    "### Interpolación vs Aproximacion"
   ]
  },
  {
   "cell_type": "markdown",
   "metadata": {},
   "source": [
    "En interpolación, se ajustan todos los puntos de datos de forma exacta mientras que la aproximación, como su nombre indica, solo se aproxima.\n",
    "\n",
    "Cuando se trata de la idoneidad, la interpolación es apropiada para suavizar esos datos ruidosos y no es apropiada cuando los puntos de datos están sujetos a errores experimentales u otras fuentes de error significativo. Tener un gran conjunto de puntos de datos también puede sobrecargar la interpolación. Por otro lado, la aproximación es principalmente apropiada para el diseño de rutinas de biblioteca para calcular funciones especiales. Esto se debe a la naturaleza de estas funciones: se considera que los valores exactos no son esenciales y, hasta cierto punto, ineficaces cuando los valores aproximados funcionan."
   ]
  },
  {
   "cell_type": "markdown",
   "metadata": {},
   "source": [
    "[Volver a la Tabla de Contenido](#TOC)"
   ]
  },
  {
   "cell_type": "markdown",
   "metadata": {},
   "source": [
    "### Interpolación vs Ajuste de curvas"
   ]
  },
  {
   "cell_type": "markdown",
   "metadata": {},
   "source": [
    "En el ajuste de curvas, no ajustamos todos nuestros puntos de datos. Por eso tenemos el concepto de residuos. En la interpolación, se obliga a la función a ajustarse a todos los puntos de datos.\n",
    "\n",
    "Ahora que sabemos de qué categoría estamos hablando, reduzcamos a las familias de funciones utilizadas para la interpolación."
   ]
  },
  {
   "cell_type": "markdown",
   "metadata": {},
   "source": [
    "[Volver a la Tabla de Contenido](#TOC)"
   ]
  },
  {
   "cell_type": "markdown",
   "metadata": {},
   "source": [
    "### Familias de funciones usadas en interpolación"
   ]
  },
  {
   "cell_type": "markdown",
   "metadata": {},
   "source": [
    "Existen principalmente dos familias de esquemas de interpolación:\n",
    "\n",
    "- [Interpolación polinomial](https://en.wikipedia.org/wiki/Polynomial_interpolation)\n",
    "\n",
    "\n",
    "- [Interpolación a trazos](https://en.wikipedia.org/wiki/Spline_interpolation)"
   ]
  },
  {
   "cell_type": "markdown",
   "metadata": {},
   "source": [
    "[Volver a la Tabla de Contenido](#TOC)"
   ]
  },
  {
   "cell_type": "markdown",
   "metadata": {},
   "source": [
    "## Interpolación Polinomial"
   ]
  },
  {
   "cell_type": "markdown",
   "metadata": {},
   "source": [
    "### Introducción"
   ]
  },
  {
   "cell_type": "markdown",
   "metadata": {},
   "source": [
    "La interpolación polinomial es el tipo de interpolación más simple y común. Una de sus características es que siempre hay un polinomio único de grado como máximo $n-1$ que pasa por $n$ puntos de datos.\n",
    "Hay muchas formas de calcular o representar un polinomio, pero se reducen a la misma función matemática. Algunos de los métodos son la base monomial, la base de [Lagrange](https://en.wikipedia.org/wiki/Lagrange_polynomial) y la base de [Newton](https://en.wikipedia.org/wiki/Newton_polynomial). Como puede observar, reciben el nombre de su base.\n",
    "\n",
    "***Inconvenientes:***\n",
    "\n",
    "- ***Polinomio de alto grado:*** una elección adecuada de funciones de base y puntos de interpolación puede mitigar algunas de las dificultades asociadas con polinomio de alto grado.\n",
    "\n",
    "\n",
    "- ***Sobreajuste ([overfitting](https://en.wikipedia.org/wiki/Overfitting)):*** ajuste de un solo polinomio a una gran cantidad de puntos de datos, lo que probablemente produciría un comportamiento de oscilación insatisfactorio en el interpolante."
   ]
  },
  {
   "cell_type": "markdown",
   "metadata": {},
   "source": [
    "La fórmula general de un polinomio de $n$-ésimo orden es:\n",
    "\n",
    "\\begin{equation*}\n",
    "f_n(x) = a_0 + a_1x + a_2x^2 +…+  a_nx^n\n",
    "\\label{eq:Ec4_1} \\tag{4.1}\n",
    "\\end{equation*}\n",
    "\n",
    "El polinomio de interpolación dado por la ecuación $\\eqref{eq:Ec4_1}$ consiste en determinar el único polinomio de n-ésimo orden que se ajusta a los $n+1$ puntos dados. Este polinomio proporciona una fórmula para calcular los valores intermedios."
   ]
  },
  {
   "cell_type": "markdown",
   "metadata": {},
   "source": [
    "[Volver a la Tabla de Contenido](#TOC)"
   ]
  },
  {
   "cell_type": "markdown",
   "metadata": {},
   "source": [
    "### Interpolación Lineal"
   ]
  },
  {
   "cell_type": "markdown",
   "metadata": {},
   "source": [
    "El método más simple de interpolación es conectar dos puntos mediante una línea recta.\n",
    "\n",
    "<p float=\"center\">\n",
    "  <img src=\"https://github.com/carlosalvarezh/Analisis_Numerico/blob/master/images/C04_Img01_InterpolLineal.PNG?raw=true\" width=\"250\" />\n",
    "</p>\n",
    "\n",
    "<div style=\"text-align: right\"> Fuente: <a href=\"http://artemisa.unicauca.edu.co/~cardila/Chapra.pdf\">Chapra, S., Canale, R. Métodos Numéricos para ingenieros, 5a Ed. Mc. Graw Hill. 2007</a> </div>\n",
    "\n",
    "De la figura se tiene:\n",
    "\n",
    "\\begin{equation*}\n",
    "\\frac{f_1(x)-f(x_0)}{x-x_0}=\\frac{f(x_1)-f(x_0)}{x_1-x_0}\n",
    "\\label{eq:Ec4_2} \\tag{4.2}\n",
    "\\end{equation*}\n",
    "\n",
    "reordenando,\n",
    "\n",
    "\\begin{equation*}\n",
    "f_1(x)=f(x_0)+\\frac{f(x_1)-f(x_0)}{x_1-x_0}(x-x_0)\n",
    "\\label{eq:Ec4_3} \\tag{4.3}\n",
    "\\end{equation*}\n"
   ]
  },
  {
   "cell_type": "markdown",
   "metadata": {},
   "source": [
    "[Volver a la Tabla de Contenido](#TOC)"
   ]
  },
  {
   "cell_type": "markdown",
   "metadata": {},
   "source": [
    "#### Ejemplo"
   ]
  },
  {
   "cell_type": "markdown",
   "metadata": {},
   "source": [
    "- Estime el valor de $Ln(2)$ empleando la interpolación lineal, entre $x_0=0$ y $x_1=6$\n",
    "\n",
    "Evaluando el valor del logaritmo en cada uno de los dos puntos, $Ln(1)=0$ y $Ln(6)=1.791759$\n",
    "\n",
    "$$f_1(2)=0+\\frac{1.791759-0}{6-1}(2-1)=0.3583519$$\n",
    "\n",
    "El valor exacto es $Ln(2)=0.693147$, que representa un error relativo porcentual de\n",
    "\n",
    "$$Er(\\%)=\\frac{|0.693147-0.3583519|}{0.693147}=48.3\\%$$\n",
    "\n",
    "Si se disminuye el valor del intervalo a evaluar, por ejemplo en $x_1=4$, se llega a \n",
    "\n",
    "$$f_1(2)=0+\\frac{1.386294-0}{4-1}(2-1)=0.462098$$\n",
    "\n",
    "obteniendo un error relativo porcentual del $33.3\\%$.\n"
   ]
  },
  {
   "cell_type": "markdown",
   "metadata": {},
   "source": [
    "[Volver a la Tabla de Contenido](#TOC)"
   ]
  },
  {
   "cell_type": "markdown",
   "metadata": {},
   "source": [
    "#### Visualización computacional"
   ]
  },
  {
   "cell_type": "code",
   "execution_count": null,
   "metadata": {},
   "outputs": [],
   "source": [
    "import numpy as np\n",
    "import matplotlib.pyplot as plt\n",
    "\n",
    "n = 20\n",
    "\n",
    "fig, ax = plt.subplots()\n",
    "\n",
    "x = np.linspace(1, 6, n)\n",
    "y = np.log(x)\n",
    "\n",
    "x1 = [x[0], x[-1]]\n",
    "y1 = [np.log(x[0]), np.log(x[-1])]\n",
    "\n",
    "x2 = [x[0], 4]\n",
    "y2 = [np.log(x[0]), np.log(4)]\n",
    "\n",
    "ax.plot(x,y, '-', x1, y1, 'o-', x2,y2, 'o-')\n",
    "ax.vlines(x = 2, ymin = 0.0, ymax = np.log(2), color = 'r', linestyles='dashed')\n",
    "\n",
    "plt.grid(True)\n"
   ]
  },
  {
   "cell_type": "markdown",
   "metadata": {},
   "source": [
    "El error en la interpolación lineal resulta de aproximar una curva con una línea recta.\n"
   ]
  },
  {
   "cell_type": "markdown",
   "metadata": {},
   "source": [
    "[Volver a la Tabla de Contenido](#TOC)"
   ]
  },
  {
   "cell_type": "markdown",
   "metadata": {},
   "source": [
    "#### Mejoras al esquema de interpolación lineal"
   ]
  },
  {
   "cell_type": "markdown",
   "metadata": {},
   "source": [
    "- Disminuir el tamaño del intervalo.\n",
    "\n",
    "\n",
    "- Introducir alguna curvatura en la línea que conecta los puntos."
   ]
  },
  {
   "cell_type": "markdown",
   "metadata": {},
   "source": [
    "[Volver a la Tabla de Contenido](#TOC)"
   ]
  },
  {
   "cell_type": "markdown",
   "metadata": {},
   "source": [
    "### Interpolación cuadrática"
   ]
  },
  {
   "cell_type": "markdown",
   "metadata": {},
   "source": [
    "Si tres (3) puntos de los datos están disponibles, esto puede realizarse con un polinomio de segundo grado (parábola).\n",
    "\n",
    "<p float=\"center\">\n",
    "  <img src=\"https://github.com/carlosalvarezh/Analisis_Numerico/blob/master/images/C04_Img02_InterpolCuadratica.PNG?raw=true\" width=\"350\" />\n",
    "</p>\n",
    "\n",
    "<div style=\"text-align: right\"> Fuente: <a href=\"http://artemisa.unicauca.edu.co/~cardila/Chapra.pdf\">Chapra, S., Canale, R. Métodos Numéricos para ingenieros, 5a Ed. Mc. Graw Hill. 2007</a> </div>\n",
    "\n",
    "\n",
    "La forma general de una ecuación cuadrática puede expresarse de la siguiente forma:\n",
    "\n",
    "\\begin{equation*}\n",
    "f_2(x) = b_0 + b_1(x–x_0) + b_2(x–x_0)(x–x_1)\n",
    "\\label{eq:Ec4_4} \\tag{4.4}\n",
    "\\end{equation*}\n",
    "\n",
    "Debemos determinar los valores de los coeficientes $b_i$.\n",
    "\n",
    "- Para $b_0$, en la ecuación $\\eqref{eq:Ec4_4}$, con $x = x_0$:\n",
    "\n",
    "\\begin{equation*}\n",
    "b_0 = f(x_0)\n",
    "\\label{eq:Ec4_5} \\tag{4.5}\n",
    "\\end{equation*}\n",
    "\n",
    "- Para $b_1$, sustituyendo la ecuación $\\eqref{eq:Ec4_5}$ en la la ecuación $\\eqref{eq:Ec4_4}$, y evaluando en $x = x_1$:\n",
    "\n",
    "\\begin{equation*}\n",
    "b_1 = \\frac{f(x_1)-f(x_0)}{(x_1 - x_0)}\n",
    "\\label{eq:Ec4_6} \\tag{4.6}\n",
    "\\end{equation*}\n",
    "\n",
    "- Para $b_2$, las ecuaciones $\\eqref{eq:Ec4_5}$ y $\\eqref{eq:Ec4_6}$ pueden sustituirse en la ecuación $\\eqref{eq:Ec4_4}$, evaluada en $x_2$\n",
    "\n",
    "\\begin{equation*}\n",
    "b_2=\\frac{\\frac{f(x_2)-f(x_1)}{(x_2-x_1)}-\\frac{f(x_1)-f(x_0)}{(x_1-x_0)}}{(x_2 - x_0)}\n",
    "\\label{eq:Ec4_7} \\tag{4.7}\n",
    "\\end{equation*}\n"
   ]
  },
  {
   "cell_type": "markdown",
   "metadata": {},
   "source": [
    "[Volver a la Tabla de Contenido](#TOC)"
   ]
  },
  {
   "cell_type": "markdown",
   "metadata": {},
   "source": [
    "#### Ejemplo"
   ]
  },
  {
   "cell_type": "markdown",
   "metadata": {},
   "source": [
    "Continuando con el ejemplo anterior, se van a considerar los siguientes puntos:\n",
    "\n",
    "$$x_0=1 \\hspace{1cm} f(x_0)=0.000000$$\n",
    "$$x_1=4 \\hspace{1cm} f(x_1)=1.386294$$\n",
    "$$x_2=6 \\hspace{1cm} f(x_2)=1.791759$$\n",
    "\n",
    "De las ecuaciones anteriores, \n",
    "\n",
    "$$b_0=0$$\n",
    "\n",
    "$$b_1=\\frac{1.386294-0}{4-1}=0.4620981$$\n",
    "\n",
    "$$b_2=\\frac{\\frac{1.791759-1.386294}{6-4}-0.4620981}{6-1}=-0.0518731$$\n",
    "\n",
    "Sustituyendo estos valores en la ecuación cuadrática inicial, se llega a:\n",
    "\n",
    "$$f_2(x)=0+0.4620981(x-1)-0.0518731(x-1)(x-4)$$\n",
    "\n",
    "y evaluando en $x=2$, se llega a\n",
    "\n",
    "$$f_2(2)=0.565844$$\n",
    "\n",
    "que representa un error relativo porcentual del $18.4\\%$"
   ]
  },
  {
   "cell_type": "markdown",
   "metadata": {},
   "source": [
    "[Volver a la Tabla de Contenido](#TOC)"
   ]
  },
  {
   "cell_type": "markdown",
   "metadata": {},
   "source": [
    "### Métodos de diferencias divididas de Newton"
   ]
  },
  {
   "cell_type": "markdown",
   "metadata": {},
   "source": [
    "Lo anterior puede ser generalizado para ajustar un polinomio de $n$-ésimo orden a $n+1$ datos:\n",
    "\n",
    "<p float=\"center\">\n",
    "  <img src=\"https://github.com/carlosalvarezh/Analisis_Numerico/blob/master/images/C04_Img03a_DivDifNewton?raw=true\" width=\"500\" />\n",
    "</p>\n",
    "\n",
    "<div style=\"text-align: right\"> Fuente: <a href=\"https://medium.com/\">medium.com</a> </div>\n",
    "\n",
    "\\begin{equation*}\n",
    "f_n(x) = b_0+b_1(x–x_0)+\\ldots+b_n(x–x_0)(x–x_1)\\ldots(x – x_{n-1})\n",
    "\\label{eq:Ec4_8} \\tag{4.8}\n",
    "\\end{equation*}\n",
    "\n",
    "De igual manera que para las interpolaciones lineal y cuadrática, se llega a:\n",
    "\t\n",
    "\\begin{equation*}\n",
    "f_n(x)=f(x_0)+(x–x_0)f[x_1,x_0]+(x–x_0)(x–x_1)f[x_2,x-,x_0]+\\ldots+(x–x_0)(x–x_1)\\ldots(x–x_{n-1})f[x_n, x_{n-1},\\ldots,x_2,x_1,x_0]\n",
    "\\label{eq:Ec4_9} \\tag{4.9}\n",
    "\\end{equation*}\n",
    "\n",
    "Conocido como *Polinomio de interpolación por [diferencias divididas de Newton](https://en.wikipedia.org/wiki/Divided_differences)*. Las evaluaciones de las funciones puestas entre paréntesis son diferencias divididas finitas.\n",
    " \n",
    "- ***Primera diferencia dividida:***\n",
    "\n",
    "\\begin{equation*}\n",
    "f[x_i, x_j]=\\frac{f(x_i)-f(x_j)}{(x_i-x_j)}\n",
    "\\label{eq:Ec4_10} \\tag{4.10}\n",
    "\\end{equation*}\n",
    "\n",
    "- ***Segunda diferencia dividida:*** representa la diferencia de las dos primeras diferencias divididas\n",
    "\n",
    "\\begin{equation*}\n",
    "f[x_i, x_j,x_k]=\\frac{f[x_i,x_j]-f[x_j,x_k]}{(x_i-x_k)}\n",
    "\\label{eq:Ec4_11} \\tag{4.11}\n",
    "\\end{equation*}\n",
    "\n",
    "$$\\vdots$$\n",
    "\n",
    "- ***$n$-ésima diferencia dividida:*** representa la diferencia de las dos primeras diferencias divididas\n",
    "\\begin{equation*}\n",
    "f[x_n, x_{n-1},\\ldots, x_1,x_0]=\\frac{f[x_n,x_{n-1},\\ldots,x_1]-f[x_{n-1},x_{n-2},\\ldots,x_0]}{(x_n-x_0)}\n",
    "\\label{eq:Ec4_12} \\tag{4.12}\n",
    "\\end{equation*}\n",
    "\n",
    "Este proceso recursivo lo podemos visualizar de la siguiente manera:\n",
    "\n",
    "<p float=\"center\">\n",
    "  <img src=\"https://github.com/carlosalvarezh/Analisis_Numerico/blob/master/images/C04_Img03_DivDifNewton.PNG?raw=true\" width=\"500\" />\n",
    "</p>\n",
    "\n",
    "<div style=\"text-align: right\"> Fuente: <a href=\"https://upload.wikimedia.org/wikipedia/commons/0/00/Newton_method.png\">Wikimedia.org</a> </div>\n"
   ]
  },
  {
   "cell_type": "markdown",
   "metadata": {},
   "source": [
    "[Volver a la Tabla de Contenido](#TOC)"
   ]
  },
  {
   "cell_type": "markdown",
   "metadata": {},
   "source": [
    "#### Implementación computacional"
   ]
  },
  {
   "cell_type": "markdown",
   "metadata": {},
   "source": [
    "En la página 513 del libro de Chapra y Canale, Figura 18.7, se tiene un algoritmo en Fortran para la implementación del código de Diferencias Divididas tipo Newton. Se invita al estudiante a que lo estudie y codifique en el lenguaje de preferencia."
   ]
  },
  {
   "cell_type": "code",
   "execution_count": null,
   "metadata": {},
   "outputs": [],
   "source": [
    "# Escriba aquí su código"
   ]
  },
  {
   "cell_type": "markdown",
   "metadata": {},
   "source": [
    "[Volver a la Tabla de Contenido](#TOC)"
   ]
  },
  {
   "cell_type": "markdown",
   "metadata": {},
   "source": [
    "### Análisis de Error para la interpolación polinomial tipo Newton"
   ]
  },
  {
   "attachments": {},
   "cell_type": "markdown",
   "metadata": {},
   "source": [
    "La ecuación $\\eqref{eq:Ec4_9}$ es similar a la *serie de expansión de Taylor*. Se agregan términos en forma secuencial para capturar el comportamiento de alto orden de la función a analizar. Estos términos son diferencias divididas finitas y, así, representan aproximaciones de derivadas de orden mayor.\n",
    "\n",
    "El error de truncamiento se expresa entonces como:\n",
    "\n",
    "\\begin{equation*}\n",
    "R_n=\\frac{f^{(n+1)}(\\xi)}{(n+1)!} \\left ( x_{i+1}-x_i\\right )^{n+1}\n",
    "\\label{eq:Ec4_13} \\tag{4.13}\n",
    "\\end{equation*}\n",
    "\n",
    "Para una interpolación de n-ésimo orden, una relación análoga para el error es\n",
    "\n",
    "\\begin{equation*}\n",
    "R_n=\\frac{f^{(n+1)}(\\xi)}{(n+1)!}(x-x_0)(x-x_1) \\ldots (x-x_n)\n",
    "\\label{eq:Ec4_14} \\tag{4.14}\n",
    "\\end{equation*}\n",
    "\n",
    "Observe que en la ecuación $\\eqref{eq:Ec4_14}$, la función debe conocerse. Para resolver esta situación, una formulación alternativa es el uso de la diferencia dividida para aproximar la derivada $(n+1)$–ésima y que no requiere el conocimiento previo de la función.\n",
    "\n",
    "\\begin{equation*}\n",
    "R_n=f_n[x_n,x_{n-1},x_{n-2},\\ldots,x_2,x_1,x_0](x-x_0)(x-x_1) \\ldots (x-x_n)\n",
    "\\label{eq:Ec4_15} \\tag{4.15}\n",
    "\\end{equation*}\n",
    "\n",
    "Debido a que la ecuación $\\eqref{eq:Ec4_15}$ contiene el término $f_n(x)$ no puede resolverse para estimar el error, pero, si se dispone de un dato adicional, la ecuación $\\eqref{eq:Ec4_15}$ puede usarse:\n",
    "\n",
    "\\begin{equation*}\n",
    "R_n=f_n[x_{n+1}, x_n,x_{n-1},x_{n-2},\\ldots,x_2,x_1,x_0](x-x_0)(x-x_1) \\ldots (x-x_n)\n",
    "\\label{eq:Ec4_16} \\tag{4.16}\n",
    "\\end{equation*}\n"
   ]
  },
  {
   "cell_type": "markdown",
   "metadata": {},
   "source": [
    "[Volver a la Tabla de Contenido](#TOC)"
   ]
  },
  {
   "cell_type": "markdown",
   "metadata": {},
   "source": [
    "### Método de Interpolación de Lagrange"
   ]
  },
  {
   "cell_type": "code",
   "execution_count": null,
   "metadata": {},
   "outputs": [],
   "source": []
  },
  {
   "cell_type": "markdown",
   "metadata": {},
   "source": [
    "[Volver a la Tabla de Contenido](#TOC)"
   ]
  },
  {
   "cell_type": "markdown",
   "metadata": {},
   "source": [
    "## Interpolación por partes"
   ]
  },
  {
   "cell_type": "code",
   "execution_count": null,
   "metadata": {},
   "outputs": [],
   "source": []
  },
  {
   "cell_type": "markdown",
   "metadata": {},
   "source": [
    "[Volver a la Tabla de Contenido](#TOC)"
   ]
  },
  {
   "cell_type": "markdown",
   "metadata": {},
   "source": [
    "### Trazadores lineales, cuadráticos y cúbicos"
   ]
  },
  {
   "cell_type": "code",
   "execution_count": null,
   "metadata": {},
   "outputs": [],
   "source": []
  },
  {
   "cell_type": "markdown",
   "metadata": {},
   "source": [
    "[Volver a la Tabla de Contenido](#TOC)"
   ]
  }
 ],
 "metadata": {
  "kernelspec": {
   "display_name": "Python 3",
   "language": "python",
   "name": "python3"
  },
  "language_info": {
   "codemirror_mode": {
    "name": "ipython",
    "version": 3
   },
   "file_extension": ".py",
   "mimetype": "text/x-python",
   "name": "python",
   "nbconvert_exporter": "python",
   "pygments_lexer": "ipython3",
   "version": "3.6.10"
  },
  "toc": {
   "base_numbering": "1",
   "nav_menu": {},
   "number_sections": true,
   "sideBar": true,
   "skip_h1_title": true,
   "title_cell": "Tabla de Contenidos",
   "title_sidebar": "Contenidos",
   "toc_cell": true,
   "toc_position": {},
   "toc_section_display": true,
   "toc_window_display": true
  }
 },
 "nbformat": 4,
 "nbformat_minor": 4
}
